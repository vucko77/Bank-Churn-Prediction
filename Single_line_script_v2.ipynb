{
 "cells": [
  {
   "cell_type": "code",
   "execution_count": 39,
   "id": "40f34eb2",
   "metadata": {},
   "outputs": [],
   "source": [
    "import pandas as pd   #used for data manipulation and analysis\n",
    "import numpy as np    #used for mathematical and logical operations\n",
    "import warnings\n",
    "warnings.filterwarnings('ignore')"
   ]
  },
  {
   "cell_type": "code",
   "execution_count": 40,
   "id": "4e64177c",
   "metadata": {},
   "outputs": [],
   "source": [
    "sample = pd.read_csv('sample.csv')\n",
    "df=sample"
   ]
  },
  {
   "cell_type": "markdown",
   "id": "e710660c",
   "metadata": {},
   "source": [
    "## 1 \n",
    "#std, scale, remove missing, i.t.n => same as best model\n",
    "#preprocessed_sample = ......"
   ]
  },
  {
   "cell_type": "code",
   "execution_count": 41,
   "id": "cda2a5e4",
   "metadata": {},
   "outputs": [],
   "source": [
    "#Delime na 2 mnozestva. prvoto>\n",
    "df_num = df.select_dtypes(include = ['float64', 'int64'])"
   ]
  },
  {
   "cell_type": "code",
   "execution_count": 42,
   "id": "8a828eed",
   "metadata": {},
   "outputs": [],
   "source": [
    "# tuka se kategoriski , vtoroto:\n",
    "df_cat = df.select_dtypes(include = ['object'])"
   ]
  },
  {
   "cell_type": "code",
   "execution_count": 43,
   "id": "f07c6d84",
   "metadata": {},
   "outputs": [],
   "source": [
    "df_num['Months_on_book']=df_num.Months_on_book.replace({-2147483647.0:np.nan,\n",
    "                                                       2147483647.0:np.nan,\n",
    "                                                       3.21000000e+11:np.nan})"
   ]
  },
  {
   "cell_type": "code",
   "execution_count": 44,
   "id": "f10e3dd2",
   "metadata": {},
   "outputs": [],
   "source": [
    "import sklearn\n",
    "from sklearn.impute import SimpleImputer"
   ]
  },
  {
   "cell_type": "code",
   "execution_count": 45,
   "id": "200b4009",
   "metadata": {},
   "outputs": [],
   "source": [
    "mob_imputer = SimpleImputer(missing_values = np.NaN, strategy = 'mean') # go definirame Simple imputer, stratgegijata = mean\n",
    "df_num.Months_on_book = mob_imputer.fit_transform(df_num['Months_on_book'].values.reshape(-1,1))[:,0]"
   ]
  },
  {
   "cell_type": "code",
   "execution_count": 46,
   "id": "f37fbc95",
   "metadata": {},
   "outputs": [],
   "source": [
    "from sklearn import preprocessing\n",
    "from sklearn.preprocessing import RobustScaler # za varijablite so outleeri"
   ]
  },
  {
   "cell_type": "code",
   "execution_count": 47,
   "id": "c2c44c9b",
   "metadata": {},
   "outputs": [],
   "source": [
    "df_num_rs = df_num.copy()"
   ]
  },
  {
   "cell_type": "code",
   "execution_count": 48,
   "id": "36525842",
   "metadata": {},
   "outputs": [],
   "source": [
    "\n",
    "robscal = RobustScaler()\n",
    "columnsO = ['Months_on_book','Credit_Limit', 'Avg_Open_To_Buy', 'Total_Amt_Chng_Q4_Q1', 'Total_Trans_Amt', 'Total_Ct_Chng_Q4_Q1']\n",
    "\n",
    "df_num_rs[columnsO] = robscal.fit_transform(df_num_rs[columnsO])"
   ]
  },
  {
   "cell_type": "code",
   "execution_count": 49,
   "id": "04504142",
   "metadata": {},
   "outputs": [],
   "source": [
    "from sklearn.preprocessing import StandardScaler # za varijablite bez outleeri\n",
    "standscal = StandardScaler()"
   ]
  },
  {
   "cell_type": "code",
   "execution_count": 50,
   "id": "5c9a83ed",
   "metadata": {},
   "outputs": [],
   "source": [
    "columnsNO = ['Customer_Age', 'Dependent_count', 'Total_Relationship_Count', 'Months_Inactive_12_mon', 'Contacts_Count_12_mon',\n",
    "            'Total_Revolving_Bal', 'Total_Trans_Ct', 'Avg_Utilization_Ratio']\n",
    "\n",
    "df_num_rs[columnsNO] = standscal.fit_transform(df_num_rs[columnsNO])"
   ]
  },
  {
   "cell_type": "code",
   "execution_count": 51,
   "id": "9cb5bd74",
   "metadata": {},
   "outputs": [],
   "source": [
    "target = df.Attrition_Flag\n",
    "target = target.replace({'Existing Customer': '0', 'Attrited Customer': '1'})\n",
    "y1 = target.copy()\n",
    "df_cat_cb = df_cat.copy()"
   ]
  },
  {
   "cell_type": "code",
   "execution_count": 52,
   "id": "a3d0664a",
   "metadata": {},
   "outputs": [],
   "source": [
    "#skaliranje so CatBoost\n",
    "import category_encoders as ce\n",
    "\n",
    "cat_columns = ['Gender', 'Education_Level', 'Marital_Status', 'Income_Category','Card_Category']\n",
    "\n",
    "catBoostEncoder = ce.CatBoostEncoder(cols=cat_columns)\n",
    "\n",
    "df_cat_cb = catBoostEncoder.fit_transform(df_cat_cb, y1)"
   ]
  },
  {
   "cell_type": "markdown",
   "id": "55067264",
   "metadata": {},
   "source": [
    "#### Here we merge numerical and categorical encoded datasets"
   ]
  },
  {
   "cell_type": "code",
   "execution_count": 53,
   "id": "1abdea5b",
   "metadata": {},
   "outputs": [],
   "source": [
    "frames = [df_num_rs, df_cat_cb]\n",
    "\n",
    "X_cb = pd.concat(frames, axis = 1)"
   ]
  },
  {
   "cell_type": "code",
   "execution_count": 54,
   "id": "7de3c724",
   "metadata": {},
   "outputs": [],
   "source": [
    "preprocessed_sample = X_cb.drop(['CLIENTNUM', 'Attrition_Flag', 'Avg_Open_To_Buy','Credit_Limit','Customer_Age','Dependent_count','Months_on_book'], axis = 1)\n",
    "# X1_new_train"
   ]
  },
  {
   "cell_type": "code",
   "execution_count": null,
   "id": "054a020a",
   "metadata": {},
   "outputs": [],
   "source": []
  },
  {
   "cell_type": "code",
   "execution_count": 56,
   "id": "ea252a38",
   "metadata": {},
   "outputs": [
    {
     "name": "stdout",
     "output_type": "stream",
     "text": [
      "Requirement already satisfied: xgboost in c:\\users\\goran\\anaconda3\\lib\\site-packages (1.5.0)\n",
      "Requirement already satisfied: scipy in c:\\users\\goran\\anaconda3\\lib\\site-packages (from xgboost) (1.6.2)\n",
      "Requirement already satisfied: numpy in c:\\users\\goran\\anaconda3\\lib\\site-packages (from xgboost) (1.20.1)\n"
     ]
    }
   ],
   "source": [
    "!pip install xgboost\n",
    "import xgboost as xgb\n",
    "from xgboost import XGBClassifier"
   ]
  },
  {
   "cell_type": "markdown",
   "id": "7fa8fb23",
   "metadata": {},
   "source": [
    "## 2\n",
    "#best_model = picke.load(.)"
   ]
  },
  {
   "cell_type": "code",
   "execution_count": 58,
   "id": "df2d343e",
   "metadata": {},
   "outputs": [],
   "source": [
    "import pickle"
   ]
  },
  {
   "cell_type": "code",
   "execution_count": 59,
   "id": "3c74a7af",
   "metadata": {},
   "outputs": [],
   "source": [
    "filename = 'XGB_best_model'\n",
    "XGB_best_model = pickle.load(open(filename, 'rb'))"
   ]
  },
  {
   "cell_type": "markdown",
   "id": "f23083fd",
   "metadata": {},
   "source": [
    "# 3\n",
    "XGB_best_model.predict(preprocessed_sample)"
   ]
  },
  {
   "cell_type": "code",
   "execution_count": 61,
   "id": "6ffb251f",
   "metadata": {},
   "outputs": [
    {
     "data": {
      "text/plain": [
       "array(['0'], dtype=object)"
      ]
     },
     "execution_count": 61,
     "metadata": {},
     "output_type": "execute_result"
    }
   ],
   "source": [
    "XGB_best_model.predict(preprocessed_sample)"
   ]
  }
 ],
 "metadata": {
  "kernelspec": {
   "display_name": "Python 3",
   "language": "python",
   "name": "python3"
  },
  "language_info": {
   "codemirror_mode": {
    "name": "ipython",
    "version": 3
   },
   "file_extension": ".py",
   "mimetype": "text/x-python",
   "name": "python",
   "nbconvert_exporter": "python",
   "pygments_lexer": "ipython3",
   "version": "3.8.8"
  }
 },
 "nbformat": 4,
 "nbformat_minor": 5
}
