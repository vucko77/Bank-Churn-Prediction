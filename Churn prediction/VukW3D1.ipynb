{
 "cells": [
  {
   "cell_type": "markdown",
   "metadata": {
    "id": "RarNoE4PSXyr"
   },
   "source": [
    "# Bank data analysis\n",
    "\n",
    "The goal of your project is to create a robust classifier and use the data, where you will build a model that will recognize whether specific client will leave/unsubscribe the bank services.\n",
    "Make feature engineering but also try differnet models in order to get as much accuracy as possible.\n",
    "\n",
    "\n",
    "\n",
    "\n",
    "    "
   ]
  },
  {
   "cell_type": "markdown",
   "metadata": {
    "id": "ZfCA9MCqxs55"
   },
   "source": [
    "## Dataset Info\n",
    "\n",
    "* CLIENTNUM\n",
    "  - Client number. Unique identifier for the customer holding the account\n",
    "\n",
    "* Attrition_Flag\n",
    "  - Internal event (customer activity) variable - if the account is closed then 1 else 0\n",
    "\n",
    "* Customer_Age\n",
    "  - Demographic variable - Customer's Age in Years\n",
    "\n",
    "* Gender\n",
    "  - Demographic variable - M=Male, F=Female\n",
    "\n",
    "* Dependent_count\n",
    "  - Demographic variable - Number of dependents\n",
    "\n",
    "* Education_Level\n",
    "  - Demographic variable - Educational Qualification of the account holder (example: high school, college graduate, etc.)\n",
    "\n",
    "\n",
    "* Marital_Status\n",
    "  - Demographic variable - Married, Single, Divorced, Unknown\n",
    "\n",
    "* Income_Category\n",
    "  - Demographic variable - Annual Income Category of the account holder (< $40K, $40K - 60K, $60K - $80K, $80K-$120K, > $120K, Unknown)\n",
    "\n",
    "\n",
    "* Card_Category\n",
    "  - Product Variable - Type of Card (Blue, Silver, Gold, Platinum)\n",
    "\n",
    "* Months_on_book\n",
    "  - Period of relationship with bank\n",
    "\n",
    "\n",
    "* Total_Relationship_Count\n",
    "  - Total no. of products held by the customer\n",
    "\n",
    "* Months_Inactive_12_mon\n",
    "  - No. of months inactive in the last 12 months\n",
    "\n",
    "* Contacts_Count_12_mon\n",
    "  - No. of Contacts in the last 12 months\n",
    "\n",
    "* Credit_Limit\n",
    "  - Credit Limit on the Credit Card\n",
    "\n",
    "* Total_Revolving_Bal\n",
    "  - Total Revolving Balance on the Credit Card\n",
    "\n",
    "* Avg_Open_To_Buy\n",
    "  - Open to Buy Credit Line (Average of last 12 months)\n",
    "\n",
    "* Total_Amt_Chng_Q4_Q1\n",
    "  - Change in Transaction Amount (Q4 over Q1)\n",
    "\n",
    "* Total_Trans_Amt\n",
    "  - Total Transaction Amount (Last 12 months)\n",
    "\n",
    "* Total_Trans_Ct\n",
    "  - Total Transaction Count (Last 12 months)\n",
    "\n",
    "* Total_Ct_Chng_Q4_Q1\n",
    "  - Change in Transaction Count (Q4 over Q1)\n",
    "\n",
    "* Avg_Utilization_Ratio\n",
    "  - Average Card Utilization Ratio\n",
    "\n",
    "\n"
   ]
  },
  {
   "cell_type": "markdown",
   "metadata": {
    "id": "u823cXPI0QNc"
   },
   "source": [
    "# Working Plan\n",
    "\n",
    "\n",
    "\n",
    "1. Phase 1 : Dataset\n",
    "    * Team Planning\n",
    "    * Full git project Integration\n",
    "    * General Project Research\n",
    "    * Dataset Preparation\n",
    "    * Dataset Feature Engineering\n",
    "\n",
    "2. Phase 2 : Training\n",
    "    * Make Research about your model\n",
    "    * Compose your model (try different models) \n",
    "    * Ping Pong phase with Dataset feature engineers\n",
    "    * Generate more data if needed\n",
    "    * Fine tunning of your model\n",
    "\n",
    "3. Phase 3 : Deployment\n",
    "    * Perform benchmark (precision/recall), ROC curve\n",
    "    * Model Deploy (Git)\n",
    "    * Write git Readme.md file\n",
    "    * Receive Feedback from PM"
   ]
  },
  {
   "cell_type": "markdown",
   "metadata": {
    "id": "vIGo_fGNSXys"
   },
   "source": [
    "## 0. Read data, visualize, basic statistics, understand it"
   ]
  },
  {
   "cell_type": "code",
   "execution_count": 1,
   "metadata": {},
   "outputs": [],
   "source": [
    "# import libraries\n",
    "\n",
    "import pandas as pd   #used for data manipulation and analysis\n",
    "import numpy as np    #used for mathematical and logical operations\n",
    "import matplotlib.pyplot as plt #tool used for creating quick and straightforward visualizations\n",
    "import seaborn as sns #used for data visualization and EDA. Seaborn works easily with dataframes and the Pandas library\n",
    "\n",
    "import warnings\n",
    "warnings.filterwarnings('ignore')\n",
    "%matplotlib inline"
   ]
  },
  {
   "cell_type": "code",
   "execution_count": 2,
   "metadata": {
    "id": "Xj5WSaLYSXys",
    "scrolled": true
   },
   "outputs": [
    {
     "data": {
      "text/html": [
       "<div>\n",
       "<style scoped>\n",
       "    .dataframe tbody tr th:only-of-type {\n",
       "        vertical-align: middle;\n",
       "    }\n",
       "\n",
       "    .dataframe tbody tr th {\n",
       "        vertical-align: top;\n",
       "    }\n",
       "\n",
       "    .dataframe thead th {\n",
       "        text-align: right;\n",
       "    }\n",
       "</style>\n",
       "<table border=\"1\" class=\"dataframe\">\n",
       "  <thead>\n",
       "    <tr style=\"text-align: right;\">\n",
       "      <th></th>\n",
       "      <th>CLIENTNUM</th>\n",
       "      <th>Attrition_Flag</th>\n",
       "      <th>Customer_Age</th>\n",
       "      <th>Gender</th>\n",
       "      <th>Dependent_count</th>\n",
       "      <th>Education_Level</th>\n",
       "      <th>Marital_Status</th>\n",
       "      <th>Income_Category</th>\n",
       "      <th>Card_Category</th>\n",
       "      <th>Months_on_book</th>\n",
       "      <th>...</th>\n",
       "      <th>Months_Inactive_12_mon</th>\n",
       "      <th>Contacts_Count_12_mon</th>\n",
       "      <th>Credit_Limit</th>\n",
       "      <th>Total_Revolving_Bal</th>\n",
       "      <th>Avg_Open_To_Buy</th>\n",
       "      <th>Total_Amt_Chng_Q4_Q1</th>\n",
       "      <th>Total_Trans_Amt</th>\n",
       "      <th>Total_Trans_Ct</th>\n",
       "      <th>Total_Ct_Chng_Q4_Q1</th>\n",
       "      <th>Avg_Utilization_Ratio</th>\n",
       "    </tr>\n",
       "  </thead>\n",
       "  <tbody>\n",
       "    <tr>\n",
       "      <th>0</th>\n",
       "      <td>768805383</td>\n",
       "      <td>Existing Customer</td>\n",
       "      <td>45</td>\n",
       "      <td>M</td>\n",
       "      <td>3</td>\n",
       "      <td>High School</td>\n",
       "      <td>Married</td>\n",
       "      <td>$60K - $80K</td>\n",
       "      <td>Blue</td>\n",
       "      <td>39.0</td>\n",
       "      <td>...</td>\n",
       "      <td>1</td>\n",
       "      <td>3</td>\n",
       "      <td>12691.0</td>\n",
       "      <td>777</td>\n",
       "      <td>11914.0</td>\n",
       "      <td>1.335</td>\n",
       "      <td>1144</td>\n",
       "      <td>42</td>\n",
       "      <td>1.625</td>\n",
       "      <td>0.061</td>\n",
       "    </tr>\n",
       "    <tr>\n",
       "      <th>1</th>\n",
       "      <td>818770008</td>\n",
       "      <td>Existing Customer</td>\n",
       "      <td>49</td>\n",
       "      <td>F</td>\n",
       "      <td>5</td>\n",
       "      <td>Graduate</td>\n",
       "      <td>Single</td>\n",
       "      <td>Less than $40K</td>\n",
       "      <td>Blue</td>\n",
       "      <td>44.0</td>\n",
       "      <td>...</td>\n",
       "      <td>1</td>\n",
       "      <td>2</td>\n",
       "      <td>8256.0</td>\n",
       "      <td>864</td>\n",
       "      <td>7392.0</td>\n",
       "      <td>1.541</td>\n",
       "      <td>1291</td>\n",
       "      <td>33</td>\n",
       "      <td>3.714</td>\n",
       "      <td>0.105</td>\n",
       "    </tr>\n",
       "    <tr>\n",
       "      <th>2</th>\n",
       "      <td>713982108</td>\n",
       "      <td>Existing Customer</td>\n",
       "      <td>51</td>\n",
       "      <td>M</td>\n",
       "      <td>3</td>\n",
       "      <td>Graduate</td>\n",
       "      <td>Married</td>\n",
       "      <td>$80K - $120K</td>\n",
       "      <td>Blue</td>\n",
       "      <td>36.0</td>\n",
       "      <td>...</td>\n",
       "      <td>1</td>\n",
       "      <td>0</td>\n",
       "      <td>3418.0</td>\n",
       "      <td>0</td>\n",
       "      <td>3418.0</td>\n",
       "      <td>2.594</td>\n",
       "      <td>1887</td>\n",
       "      <td>20</td>\n",
       "      <td>2.333</td>\n",
       "      <td>0.000</td>\n",
       "    </tr>\n",
       "    <tr>\n",
       "      <th>3</th>\n",
       "      <td>769911858</td>\n",
       "      <td>Existing Customer</td>\n",
       "      <td>40</td>\n",
       "      <td>F</td>\n",
       "      <td>4</td>\n",
       "      <td>High School</td>\n",
       "      <td>Unknown</td>\n",
       "      <td>Less than $40K</td>\n",
       "      <td>Blue</td>\n",
       "      <td>34.0</td>\n",
       "      <td>...</td>\n",
       "      <td>4</td>\n",
       "      <td>1</td>\n",
       "      <td>3313.0</td>\n",
       "      <td>2517</td>\n",
       "      <td>796.0</td>\n",
       "      <td>1.405</td>\n",
       "      <td>1171</td>\n",
       "      <td>20</td>\n",
       "      <td>2.333</td>\n",
       "      <td>0.760</td>\n",
       "    </tr>\n",
       "    <tr>\n",
       "      <th>4</th>\n",
       "      <td>709106358</td>\n",
       "      <td>Existing Customer</td>\n",
       "      <td>40</td>\n",
       "      <td>M</td>\n",
       "      <td>3</td>\n",
       "      <td>Uneducated</td>\n",
       "      <td>Married</td>\n",
       "      <td>$60K - $80K</td>\n",
       "      <td>Blue</td>\n",
       "      <td>21.0</td>\n",
       "      <td>...</td>\n",
       "      <td>1</td>\n",
       "      <td>0</td>\n",
       "      <td>4716.0</td>\n",
       "      <td>0</td>\n",
       "      <td>4716.0</td>\n",
       "      <td>2.175</td>\n",
       "      <td>816</td>\n",
       "      <td>28</td>\n",
       "      <td>2.500</td>\n",
       "      <td>0.000</td>\n",
       "    </tr>\n",
       "  </tbody>\n",
       "</table>\n",
       "<p>5 rows × 21 columns</p>\n",
       "</div>"
      ],
      "text/plain": [
       "   CLIENTNUM     Attrition_Flag  Customer_Age Gender  Dependent_count  \\\n",
       "0  768805383  Existing Customer            45      M                3   \n",
       "1  818770008  Existing Customer            49      F                5   \n",
       "2  713982108  Existing Customer            51      M                3   \n",
       "3  769911858  Existing Customer            40      F                4   \n",
       "4  709106358  Existing Customer            40      M                3   \n",
       "\n",
       "  Education_Level Marital_Status Income_Category Card_Category  \\\n",
       "0     High School        Married     $60K - $80K          Blue   \n",
       "1        Graduate         Single  Less than $40K          Blue   \n",
       "2        Graduate        Married    $80K - $120K          Blue   \n",
       "3     High School        Unknown  Less than $40K          Blue   \n",
       "4      Uneducated        Married     $60K - $80K          Blue   \n",
       "\n",
       "   Months_on_book  ...  Months_Inactive_12_mon  Contacts_Count_12_mon  \\\n",
       "0            39.0  ...                       1                      3   \n",
       "1            44.0  ...                       1                      2   \n",
       "2            36.0  ...                       1                      0   \n",
       "3            34.0  ...                       4                      1   \n",
       "4            21.0  ...                       1                      0   \n",
       "\n",
       "   Credit_Limit  Total_Revolving_Bal  Avg_Open_To_Buy  Total_Amt_Chng_Q4_Q1  \\\n",
       "0       12691.0                  777          11914.0                 1.335   \n",
       "1        8256.0                  864           7392.0                 1.541   \n",
       "2        3418.0                    0           3418.0                 2.594   \n",
       "3        3313.0                 2517            796.0                 1.405   \n",
       "4        4716.0                    0           4716.0                 2.175   \n",
       "\n",
       "   Total_Trans_Amt  Total_Trans_Ct  Total_Ct_Chng_Q4_Q1  Avg_Utilization_Ratio  \n",
       "0             1144              42                1.625                  0.061  \n",
       "1             1291              33                3.714                  0.105  \n",
       "2             1887              20                2.333                  0.000  \n",
       "3             1171              20                2.333                  0.760  \n",
       "4              816              28                2.500                  0.000  \n",
       "\n",
       "[5 rows x 21 columns]"
      ]
     },
     "execution_count": 2,
     "metadata": {},
     "output_type": "execute_result"
    }
   ],
   "source": [
    "data_all = pd.read_csv('dataset_bank.csv')\n",
    "data_all.head()"
   ]
  },
  {
   "cell_type": "code",
   "execution_count": 3,
   "metadata": {},
   "outputs": [
    {
     "data": {
      "text/plain": [
       "(10127, 21)"
      ]
     },
     "execution_count": 3,
     "metadata": {},
     "output_type": "execute_result"
    }
   ],
   "source": [
    "data_all.shape"
   ]
  },
  {
   "cell_type": "code",
   "execution_count": 4,
   "metadata": {},
   "outputs": [
    {
     "name": "stdout",
     "output_type": "stream",
     "text": [
      "<class 'pandas.core.frame.DataFrame'>\n",
      "RangeIndex: 10127 entries, 0 to 10126\n",
      "Data columns (total 21 columns):\n",
      " #   Column                    Non-Null Count  Dtype  \n",
      "---  ------                    --------------  -----  \n",
      " 0   CLIENTNUM                 10127 non-null  int64  \n",
      " 1   Attrition_Flag            10127 non-null  object \n",
      " 2   Customer_Age              10127 non-null  int64  \n",
      " 3   Gender                    10127 non-null  object \n",
      " 4   Dependent_count           10127 non-null  int64  \n",
      " 5   Education_Level           10127 non-null  object \n",
      " 6   Marital_Status            10127 non-null  object \n",
      " 7   Income_Category           10127 non-null  object \n",
      " 8   Card_Category             10127 non-null  object \n",
      " 9   Months_on_book            10127 non-null  float64\n",
      " 10  Total_Relationship_Count  10127 non-null  int64  \n",
      " 11  Months_Inactive_12_mon    10127 non-null  int64  \n",
      " 12  Contacts_Count_12_mon     10127 non-null  int64  \n",
      " 13  Credit_Limit              10127 non-null  float64\n",
      " 14  Total_Revolving_Bal       10127 non-null  int64  \n",
      " 15  Avg_Open_To_Buy           10127 non-null  float64\n",
      " 16  Total_Amt_Chng_Q4_Q1      10127 non-null  float64\n",
      " 17  Total_Trans_Amt           10127 non-null  int64  \n",
      " 18  Total_Trans_Ct            10127 non-null  int64  \n",
      " 19  Total_Ct_Chng_Q4_Q1       10127 non-null  float64\n",
      " 20  Avg_Utilization_Ratio     10127 non-null  float64\n",
      "dtypes: float64(6), int64(9), object(6)\n",
      "memory usage: 1.6+ MB\n"
     ]
    }
   ],
   "source": [
    "data_all.info()"
   ]
  },
  {
   "cell_type": "code",
   "execution_count": 5,
   "metadata": {
    "scrolled": true
   },
   "outputs": [
    {
     "data": {
      "text/plain": [
       "0        0\n",
       "1        0\n",
       "2        0\n",
       "3        0\n",
       "4        0\n",
       "        ..\n",
       "10122    0\n",
       "10123    1\n",
       "10124    1\n",
       "10125    1\n",
       "10126    1\n",
       "Name: Attrition_Flag, Length: 10127, dtype: object"
      ]
     },
     "execution_count": 5,
     "metadata": {},
     "output_type": "execute_result"
    }
   ],
   "source": [
    "target = data_all.Attrition_Flag\n",
    "target\n",
    "target = target.replace({'Existing Customer': '0', 'Attrited Customer': '1'})\n",
    "target"
   ]
  },
  {
   "cell_type": "code",
   "execution_count": 6,
   "metadata": {
    "scrolled": true
   },
   "outputs": [
    {
     "data": {
      "text/html": [
       "<div>\n",
       "<style scoped>\n",
       "    .dataframe tbody tr th:only-of-type {\n",
       "        vertical-align: middle;\n",
       "    }\n",
       "\n",
       "    .dataframe tbody tr th {\n",
       "        vertical-align: top;\n",
       "    }\n",
       "\n",
       "    .dataframe thead th {\n",
       "        text-align: right;\n",
       "    }\n",
       "</style>\n",
       "<table border=\"1\" class=\"dataframe\">\n",
       "  <thead>\n",
       "    <tr style=\"text-align: right;\">\n",
       "      <th></th>\n",
       "      <th>Customer_Age</th>\n",
       "      <th>Gender</th>\n",
       "      <th>Dependent_count</th>\n",
       "      <th>Education_Level</th>\n",
       "      <th>Marital_Status</th>\n",
       "      <th>Income_Category</th>\n",
       "      <th>Card_Category</th>\n",
       "      <th>Months_on_book</th>\n",
       "      <th>Total_Relationship_Count</th>\n",
       "      <th>Months_Inactive_12_mon</th>\n",
       "      <th>Contacts_Count_12_mon</th>\n",
       "      <th>Credit_Limit</th>\n",
       "      <th>Total_Revolving_Bal</th>\n",
       "      <th>Avg_Open_To_Buy</th>\n",
       "      <th>Total_Amt_Chng_Q4_Q1</th>\n",
       "      <th>Total_Trans_Amt</th>\n",
       "      <th>Total_Trans_Ct</th>\n",
       "      <th>Total_Ct_Chng_Q4_Q1</th>\n",
       "      <th>Avg_Utilization_Ratio</th>\n",
       "    </tr>\n",
       "  </thead>\n",
       "  <tbody>\n",
       "    <tr>\n",
       "      <th>0</th>\n",
       "      <td>45</td>\n",
       "      <td>M</td>\n",
       "      <td>3</td>\n",
       "      <td>High School</td>\n",
       "      <td>Married</td>\n",
       "      <td>$60K - $80K</td>\n",
       "      <td>Blue</td>\n",
       "      <td>39.0</td>\n",
       "      <td>5</td>\n",
       "      <td>1</td>\n",
       "      <td>3</td>\n",
       "      <td>12691.0</td>\n",
       "      <td>777</td>\n",
       "      <td>11914.0</td>\n",
       "      <td>1.335</td>\n",
       "      <td>1144</td>\n",
       "      <td>42</td>\n",
       "      <td>1.625</td>\n",
       "      <td>0.061</td>\n",
       "    </tr>\n",
       "    <tr>\n",
       "      <th>1</th>\n",
       "      <td>49</td>\n",
       "      <td>F</td>\n",
       "      <td>5</td>\n",
       "      <td>Graduate</td>\n",
       "      <td>Single</td>\n",
       "      <td>Less than $40K</td>\n",
       "      <td>Blue</td>\n",
       "      <td>44.0</td>\n",
       "      <td>6</td>\n",
       "      <td>1</td>\n",
       "      <td>2</td>\n",
       "      <td>8256.0</td>\n",
       "      <td>864</td>\n",
       "      <td>7392.0</td>\n",
       "      <td>1.541</td>\n",
       "      <td>1291</td>\n",
       "      <td>33</td>\n",
       "      <td>3.714</td>\n",
       "      <td>0.105</td>\n",
       "    </tr>\n",
       "  </tbody>\n",
       "</table>\n",
       "</div>"
      ],
      "text/plain": [
       "   Customer_Age Gender  Dependent_count Education_Level Marital_Status  \\\n",
       "0            45      M                3     High School        Married   \n",
       "1            49      F                5        Graduate         Single   \n",
       "\n",
       "  Income_Category Card_Category  Months_on_book  Total_Relationship_Count  \\\n",
       "0     $60K - $80K          Blue            39.0                         5   \n",
       "1  Less than $40K          Blue            44.0                         6   \n",
       "\n",
       "   Months_Inactive_12_mon  Contacts_Count_12_mon  Credit_Limit  \\\n",
       "0                       1                      3       12691.0   \n",
       "1                       1                      2        8256.0   \n",
       "\n",
       "   Total_Revolving_Bal  Avg_Open_To_Buy  Total_Amt_Chng_Q4_Q1  \\\n",
       "0                  777          11914.0                 1.335   \n",
       "1                  864           7392.0                 1.541   \n",
       "\n",
       "   Total_Trans_Amt  Total_Trans_Ct  Total_Ct_Chng_Q4_Q1  Avg_Utilization_Ratio  \n",
       "0             1144              42                1.625                  0.061  \n",
       "1             1291              33                3.714                  0.105  "
      ]
     },
     "execution_count": 6,
     "metadata": {},
     "output_type": "execute_result"
    }
   ],
   "source": [
    "df = data_all.drop(columns = ['CLIENTNUM','Attrition_Flag'], axis = 1)\n",
    "df.head(2)"
   ]
  },
  {
   "cell_type": "code",
   "execution_count": 7,
   "metadata": {},
   "outputs": [
    {
     "name": "stdout",
     "output_type": "stream",
     "text": [
      "<class 'pandas.core.frame.DataFrame'>\n",
      "RangeIndex: 10127 entries, 0 to 10126\n",
      "Data columns (total 19 columns):\n",
      " #   Column                    Non-Null Count  Dtype  \n",
      "---  ------                    --------------  -----  \n",
      " 0   Customer_Age              10127 non-null  int64  \n",
      " 1   Gender                    10127 non-null  object \n",
      " 2   Dependent_count           10127 non-null  int64  \n",
      " 3   Education_Level           10127 non-null  object \n",
      " 4   Marital_Status            10127 non-null  object \n",
      " 5   Income_Category           10127 non-null  object \n",
      " 6   Card_Category             10127 non-null  object \n",
      " 7   Months_on_book            10127 non-null  float64\n",
      " 8   Total_Relationship_Count  10127 non-null  int64  \n",
      " 9   Months_Inactive_12_mon    10127 non-null  int64  \n",
      " 10  Contacts_Count_12_mon     10127 non-null  int64  \n",
      " 11  Credit_Limit              10127 non-null  float64\n",
      " 12  Total_Revolving_Bal       10127 non-null  int64  \n",
      " 13  Avg_Open_To_Buy           10127 non-null  float64\n",
      " 14  Total_Amt_Chng_Q4_Q1      10127 non-null  float64\n",
      " 15  Total_Trans_Amt           10127 non-null  int64  \n",
      " 16  Total_Trans_Ct            10127 non-null  int64  \n",
      " 17  Total_Ct_Chng_Q4_Q1       10127 non-null  float64\n",
      " 18  Avg_Utilization_Ratio     10127 non-null  float64\n",
      "dtypes: float64(6), int64(8), object(5)\n",
      "memory usage: 1.5+ MB\n"
     ]
    }
   ],
   "source": [
    "df.info()"
   ]
  },
  {
   "cell_type": "code",
   "execution_count": 8,
   "metadata": {},
   "outputs": [
    {
     "name": "stdout",
     "output_type": "stream",
     "text": [
      "<class 'pandas.core.frame.DataFrame'>\n",
      "RangeIndex: 10127 entries, 0 to 10126\n",
      "Data columns (total 14 columns):\n",
      " #   Column                    Non-Null Count  Dtype  \n",
      "---  ------                    --------------  -----  \n",
      " 0   Customer_Age              10127 non-null  int64  \n",
      " 1   Dependent_count           10127 non-null  int64  \n",
      " 2   Months_on_book            10127 non-null  float64\n",
      " 3   Total_Relationship_Count  10127 non-null  int64  \n",
      " 4   Months_Inactive_12_mon    10127 non-null  int64  \n",
      " 5   Contacts_Count_12_mon     10127 non-null  int64  \n",
      " 6   Credit_Limit              10127 non-null  float64\n",
      " 7   Total_Revolving_Bal       10127 non-null  int64  \n",
      " 8   Avg_Open_To_Buy           10127 non-null  float64\n",
      " 9   Total_Amt_Chng_Q4_Q1      10127 non-null  float64\n",
      " 10  Total_Trans_Amt           10127 non-null  int64  \n",
      " 11  Total_Trans_Ct            10127 non-null  int64  \n",
      " 12  Total_Ct_Chng_Q4_Q1       10127 non-null  float64\n",
      " 13  Avg_Utilization_Ratio     10127 non-null  float64\n",
      "dtypes: float64(6), int64(8)\n",
      "memory usage: 1.1 MB\n"
     ]
    }
   ],
   "source": [
    "df_num = df.select_dtypes(include = ['float64', 'int64'])\n",
    "df_num.info()"
   ]
  },
  {
   "cell_type": "code",
   "execution_count": 9,
   "metadata": {
    "scrolled": true
   },
   "outputs": [
    {
     "name": "stdout",
     "output_type": "stream",
     "text": [
      "<class 'pandas.core.frame.DataFrame'>\n",
      "RangeIndex: 10127 entries, 0 to 10126\n",
      "Data columns (total 5 columns):\n",
      " #   Column           Non-Null Count  Dtype \n",
      "---  ------           --------------  ----- \n",
      " 0   Gender           10127 non-null  object\n",
      " 1   Education_Level  10127 non-null  object\n",
      " 2   Marital_Status   10127 non-null  object\n",
      " 3   Income_Category  10127 non-null  object\n",
      " 4   Card_Category    10127 non-null  object\n",
      "dtypes: object(5)\n",
      "memory usage: 395.7+ KB\n"
     ]
    }
   ],
   "source": [
    "df_cat = df.select_dtypes(include = ['object'])\n",
    "df_cat.info() "
   ]
  },
  {
   "cell_type": "code",
   "execution_count": 10,
   "metadata": {},
   "outputs": [
    {
     "data": {
      "text/html": [
       "<div>\n",
       "<style scoped>\n",
       "    .dataframe tbody tr th:only-of-type {\n",
       "        vertical-align: middle;\n",
       "    }\n",
       "\n",
       "    .dataframe tbody tr th {\n",
       "        vertical-align: top;\n",
       "    }\n",
       "\n",
       "    .dataframe thead th {\n",
       "        text-align: right;\n",
       "    }\n",
       "</style>\n",
       "<table border=\"1\" class=\"dataframe\">\n",
       "  <thead>\n",
       "    <tr style=\"text-align: right;\">\n",
       "      <th></th>\n",
       "      <th>Customer_Age</th>\n",
       "      <th>Dependent_count</th>\n",
       "      <th>Months_on_book</th>\n",
       "      <th>Total_Relationship_Count</th>\n",
       "      <th>Months_Inactive_12_mon</th>\n",
       "      <th>Contacts_Count_12_mon</th>\n",
       "      <th>Credit_Limit</th>\n",
       "      <th>Total_Revolving_Bal</th>\n",
       "      <th>Avg_Open_To_Buy</th>\n",
       "      <th>Total_Amt_Chng_Q4_Q1</th>\n",
       "      <th>Total_Trans_Amt</th>\n",
       "      <th>Total_Trans_Ct</th>\n",
       "      <th>Total_Ct_Chng_Q4_Q1</th>\n",
       "      <th>Avg_Utilization_Ratio</th>\n",
       "    </tr>\n",
       "  </thead>\n",
       "  <tbody>\n",
       "    <tr>\n",
       "      <th>count</th>\n",
       "      <td>10127.000000</td>\n",
       "      <td>10127.000000</td>\n",
       "      <td>1.012700e+04</td>\n",
       "      <td>10127.000000</td>\n",
       "      <td>10127.000000</td>\n",
       "      <td>10127.000000</td>\n",
       "      <td>10127.000000</td>\n",
       "      <td>10127.000000</td>\n",
       "      <td>10127.000000</td>\n",
       "      <td>10127.000000</td>\n",
       "      <td>10127.000000</td>\n",
       "      <td>10127.000000</td>\n",
       "      <td>10127.000000</td>\n",
       "      <td>10127.000000</td>\n",
       "    </tr>\n",
       "    <tr>\n",
       "      <th>mean</th>\n",
       "      <td>46.325960</td>\n",
       "      <td>2.346203</td>\n",
       "      <td>3.742297e+07</td>\n",
       "      <td>3.812580</td>\n",
       "      <td>2.341167</td>\n",
       "      <td>2.455317</td>\n",
       "      <td>8631.953698</td>\n",
       "      <td>1162.814061</td>\n",
       "      <td>7469.139637</td>\n",
       "      <td>0.759941</td>\n",
       "      <td>4404.086304</td>\n",
       "      <td>64.858695</td>\n",
       "      <td>0.712222</td>\n",
       "      <td>0.274894</td>\n",
       "    </tr>\n",
       "    <tr>\n",
       "      <th>std</th>\n",
       "      <td>8.016814</td>\n",
       "      <td>1.298908</td>\n",
       "      <td>3.193385e+09</td>\n",
       "      <td>1.554408</td>\n",
       "      <td>1.010622</td>\n",
       "      <td>1.106225</td>\n",
       "      <td>9088.776650</td>\n",
       "      <td>814.987335</td>\n",
       "      <td>9090.685324</td>\n",
       "      <td>0.219207</td>\n",
       "      <td>3397.129254</td>\n",
       "      <td>23.472570</td>\n",
       "      <td>0.238086</td>\n",
       "      <td>0.275691</td>\n",
       "    </tr>\n",
       "    <tr>\n",
       "      <th>min</th>\n",
       "      <td>26.000000</td>\n",
       "      <td>0.000000</td>\n",
       "      <td>-2.147484e+09</td>\n",
       "      <td>1.000000</td>\n",
       "      <td>0.000000</td>\n",
       "      <td>0.000000</td>\n",
       "      <td>1438.300000</td>\n",
       "      <td>0.000000</td>\n",
       "      <td>3.000000</td>\n",
       "      <td>0.000000</td>\n",
       "      <td>510.000000</td>\n",
       "      <td>10.000000</td>\n",
       "      <td>0.000000</td>\n",
       "      <td>0.000000</td>\n",
       "    </tr>\n",
       "    <tr>\n",
       "      <th>25%</th>\n",
       "      <td>41.000000</td>\n",
       "      <td>1.000000</td>\n",
       "      <td>3.100000e+01</td>\n",
       "      <td>3.000000</td>\n",
       "      <td>2.000000</td>\n",
       "      <td>2.000000</td>\n",
       "      <td>2555.000000</td>\n",
       "      <td>359.000000</td>\n",
       "      <td>1324.500000</td>\n",
       "      <td>0.631000</td>\n",
       "      <td>2155.500000</td>\n",
       "      <td>45.000000</td>\n",
       "      <td>0.582000</td>\n",
       "      <td>0.023000</td>\n",
       "    </tr>\n",
       "    <tr>\n",
       "      <th>50%</th>\n",
       "      <td>46.000000</td>\n",
       "      <td>2.000000</td>\n",
       "      <td>3.600000e+01</td>\n",
       "      <td>4.000000</td>\n",
       "      <td>2.000000</td>\n",
       "      <td>2.000000</td>\n",
       "      <td>4549.000000</td>\n",
       "      <td>1276.000000</td>\n",
       "      <td>3474.000000</td>\n",
       "      <td>0.736000</td>\n",
       "      <td>3899.000000</td>\n",
       "      <td>67.000000</td>\n",
       "      <td>0.702000</td>\n",
       "      <td>0.176000</td>\n",
       "    </tr>\n",
       "    <tr>\n",
       "      <th>75%</th>\n",
       "      <td>52.000000</td>\n",
       "      <td>3.000000</td>\n",
       "      <td>4.000000e+01</td>\n",
       "      <td>5.000000</td>\n",
       "      <td>3.000000</td>\n",
       "      <td>3.000000</td>\n",
       "      <td>11067.500000</td>\n",
       "      <td>1784.000000</td>\n",
       "      <td>9859.000000</td>\n",
       "      <td>0.859000</td>\n",
       "      <td>4741.000000</td>\n",
       "      <td>81.000000</td>\n",
       "      <td>0.818000</td>\n",
       "      <td>0.503000</td>\n",
       "    </tr>\n",
       "    <tr>\n",
       "      <th>max</th>\n",
       "      <td>73.000000</td>\n",
       "      <td>5.000000</td>\n",
       "      <td>3.210000e+11</td>\n",
       "      <td>6.000000</td>\n",
       "      <td>6.000000</td>\n",
       "      <td>6.000000</td>\n",
       "      <td>34516.000000</td>\n",
       "      <td>2517.000000</td>\n",
       "      <td>34516.000000</td>\n",
       "      <td>3.397000</td>\n",
       "      <td>18484.000000</td>\n",
       "      <td>139.000000</td>\n",
       "      <td>3.714000</td>\n",
       "      <td>0.999000</td>\n",
       "    </tr>\n",
       "  </tbody>\n",
       "</table>\n",
       "</div>"
      ],
      "text/plain": [
       "       Customer_Age  Dependent_count  Months_on_book  \\\n",
       "count  10127.000000     10127.000000    1.012700e+04   \n",
       "mean      46.325960         2.346203    3.742297e+07   \n",
       "std        8.016814         1.298908    3.193385e+09   \n",
       "min       26.000000         0.000000   -2.147484e+09   \n",
       "25%       41.000000         1.000000    3.100000e+01   \n",
       "50%       46.000000         2.000000    3.600000e+01   \n",
       "75%       52.000000         3.000000    4.000000e+01   \n",
       "max       73.000000         5.000000    3.210000e+11   \n",
       "\n",
       "       Total_Relationship_Count  Months_Inactive_12_mon  \\\n",
       "count              10127.000000            10127.000000   \n",
       "mean                   3.812580                2.341167   \n",
       "std                    1.554408                1.010622   \n",
       "min                    1.000000                0.000000   \n",
       "25%                    3.000000                2.000000   \n",
       "50%                    4.000000                2.000000   \n",
       "75%                    5.000000                3.000000   \n",
       "max                    6.000000                6.000000   \n",
       "\n",
       "       Contacts_Count_12_mon  Credit_Limit  Total_Revolving_Bal  \\\n",
       "count           10127.000000  10127.000000         10127.000000   \n",
       "mean                2.455317   8631.953698          1162.814061   \n",
       "std                 1.106225   9088.776650           814.987335   \n",
       "min                 0.000000   1438.300000             0.000000   \n",
       "25%                 2.000000   2555.000000           359.000000   \n",
       "50%                 2.000000   4549.000000          1276.000000   \n",
       "75%                 3.000000  11067.500000          1784.000000   \n",
       "max                 6.000000  34516.000000          2517.000000   \n",
       "\n",
       "       Avg_Open_To_Buy  Total_Amt_Chng_Q4_Q1  Total_Trans_Amt  Total_Trans_Ct  \\\n",
       "count     10127.000000          10127.000000     10127.000000    10127.000000   \n",
       "mean       7469.139637              0.759941      4404.086304       64.858695   \n",
       "std        9090.685324              0.219207      3397.129254       23.472570   \n",
       "min           3.000000              0.000000       510.000000       10.000000   \n",
       "25%        1324.500000              0.631000      2155.500000       45.000000   \n",
       "50%        3474.000000              0.736000      3899.000000       67.000000   \n",
       "75%        9859.000000              0.859000      4741.000000       81.000000   \n",
       "max       34516.000000              3.397000     18484.000000      139.000000   \n",
       "\n",
       "       Total_Ct_Chng_Q4_Q1  Avg_Utilization_Ratio  \n",
       "count         10127.000000           10127.000000  \n",
       "mean              0.712222               0.274894  \n",
       "std               0.238086               0.275691  \n",
       "min               0.000000               0.000000  \n",
       "25%               0.582000               0.023000  \n",
       "50%               0.702000               0.176000  \n",
       "75%               0.818000               0.503000  \n",
       "max               3.714000               0.999000  "
      ]
     },
     "execution_count": 10,
     "metadata": {},
     "output_type": "execute_result"
    }
   ],
   "source": [
    "df_num.describe()"
   ]
  },
  {
   "cell_type": "code",
   "execution_count": 11,
   "metadata": {
    "scrolled": false
   },
   "outputs": [
    {
     "name": "stdout",
     "output_type": "stream",
     "text": [
      "(44.8, 49.5]                  2422\n",
      "(49.5, 54.2]                  1920\n",
      "(40.1, 44.8]                  1778\n",
      "(35.4, 40.1]                  1478\n",
      "(54.2, 58.9]                   921\n",
      "(30.7, 35.4]                   654\n",
      "(58.9, 63.6]                   535\n",
      "(25.951999999999998, 30.7]     265\n",
      "(63.6, 68.3]                   152\n",
      "(68.3, 73.0]                     2\n",
      "Name: Customer_Age, dtype: int64 3    2732\n",
      "2    2655\n",
      "1    1838\n",
      "4    1574\n",
      "0     904\n",
      "5     424\n",
      "Name: Dependent_count, dtype: int64 (-2470631130.648, 30167264717.7]    10126\n",
      "(288685251635.3, 321000000000.0]        1\n",
      "(30167264717.7, 62482013082.4]          0\n",
      "(62482013082.4, 94796761447.1]          0\n",
      "(94796761447.1, 127111509811.8]         0\n",
      "(127111509811.8, 159426258176.5]        0\n",
      "(159426258176.5, 191741006541.2]        0\n",
      "(191741006541.2, 224055754905.9]        0\n",
      "(224055754905.9, 256370503270.6]        0\n",
      "(256370503270.6, 288685251635.3]        0\n",
      "Name: Months_on_book, dtype: int64 3    2305\n",
      "4    1912\n",
      "5    1891\n",
      "6    1866\n",
      "2    1243\n",
      "1     910\n",
      "Name: Total_Relationship_Count, dtype: int64 (2.4, 3.0]       3846\n",
      "(1.8, 2.4]       3282\n",
      "(0.6, 1.2]       2233\n",
      "(3.6, 4.2]        435\n",
      "(4.8, 5.4]        178\n",
      "(5.4, 6.0]        124\n",
      "(-0.007, 0.6]      29\n",
      "(1.2, 1.8]          0\n",
      "(3.0, 3.6]          0\n",
      "(4.2, 4.8]          0\n",
      "Name: Months_Inactive_12_mon, dtype: int64 (2.4, 3.0]       3380\n",
      "(1.8, 2.4]       3227\n",
      "(0.6, 1.2]       1499\n",
      "(3.6, 4.2]       1392\n",
      "(-0.007, 0.6]     399\n",
      "(4.8, 5.4]        176\n",
      "(5.4, 6.0]         54\n",
      "(1.2, 1.8]          0\n",
      "(3.0, 3.6]          0\n",
      "(4.2, 4.8]          0\n",
      "Name: Contacts_Count_12_mon, dtype: int64 (1405.221, 4746.07]     5211\n",
      "(4746.07, 8053.84]      1524\n",
      "(8053.84, 11361.61]      931\n",
      "(31208.23, 34516.0]      625\n",
      "(11361.61, 14669.38]     589\n",
      "(14669.38, 17977.15]     407\n",
      "(17977.15, 21284.92]     299\n",
      "(21284.92, 24592.69]     252\n",
      "(24592.69, 27900.46]     161\n",
      "(27900.46, 31208.23]     128\n",
      "Name: Credit_Limit, dtype: int64 (-2.518, 251.7]     2501\n",
      "(1510.2, 1761.9]    1273\n",
      "(1258.5, 1510.2]    1249\n",
      "(1006.8, 1258.5]    1044\n",
      "(1761.9, 2013.6]     999\n",
      "(2265.3, 2517.0]     932\n",
      "(755.1, 1006.8]      873\n",
      "(2013.6, 2265.3]     695\n",
      "(503.4, 755.1]       462\n",
      "(251.7, 503.4]        99\n",
      "Name: Total_Revolving_Bal, dtype: int64 (-31.514000000000003, 3454.3]    5053\n",
      "(3454.3, 6905.6]                 1680\n",
      "(6905.6, 10356.9]                 975\n",
      "(10356.9, 13808.2]                589\n",
      "(31064.7, 34516.0]                582\n",
      "(13808.2, 17259.5]                415\n",
      "(17259.5, 20710.8]                291\n",
      "(20710.8, 24162.1]                252\n",
      "(24162.1, 27613.4]                147\n",
      "(27613.4, 31064.7]                143\n",
      "Name: Avg_Open_To_Buy, dtype: int64 (0.679, 1.019]                   5644\n",
      "(0.34, 0.679]                    3511\n",
      "(1.019, 1.359]                    685\n",
      "(1.359, 1.699]                    137\n",
      "(-0.004399999999999999, 0.34]     101\n",
      "(1.699, 2.038]                     31\n",
      "(2.038, 2.378]                     14\n",
      "(2.378, 2.718]                      2\n",
      "(3.057, 3.397]                      2\n",
      "(2.718, 3.057]                      0\n",
      "Name: Total_Amt_Chng_Q4_Q1, dtype: int64 (4104.8, 5902.2]                3094\n",
      "(492.02500000000003, 2307.4]    2843\n",
      "(2307.4, 4104.8]                2736\n",
      "(7699.6, 9497.0]                 459\n",
      "(13091.8, 14889.2]               392\n",
      "(14889.2, 16686.6]               284\n",
      "(5902.2, 7699.6]                 226\n",
      "(11294.4, 13091.8]                43\n",
      "(16686.6, 18484.0]                28\n",
      "(9497.0, 11294.4]                 22\n",
      "Name: Total_Trans_Amt, dtype: int64 (74.5, 87.4]                 2289\n",
      "(61.6, 74.5]                 2267\n",
      "(35.8, 48.7]                 1658\n",
      "(48.7, 61.6]                 1246\n",
      "(22.9, 35.8]                 1074\n",
      "(87.4, 100.3]                 757\n",
      "(100.3, 113.2]                331\n",
      "(113.2, 126.1]                275\n",
      "(9.870000000000001, 22.9]     187\n",
      "(126.1, 139.0]                 43\n",
      "Name: Total_Trans_Ct, dtype: int64 (0.371, 0.743]                    5480\n",
      "(0.743, 1.114]                    3729\n",
      "(-0.004710000000000001, 0.371]     527\n",
      "(1.114, 1.486]                     300\n",
      "(1.486, 1.857]                      50\n",
      "(1.857, 2.228]                      22\n",
      "(2.228, 2.6]                        11\n",
      "(2.971, 3.343]                       3\n",
      "(3.343, 3.714]                       3\n",
      "(2.6, 2.971]                         2\n",
      "Name: Total_Ct_Chng_Q4_Q1, dtype: int64 (-0.001999, 0.0999]    4030\n",
      "(0.0999, 0.2]          1304\n",
      "(0.2, 0.3]              912\n",
      "(0.599, 0.699]          752\n",
      "(0.5, 0.599]            736\n",
      "(0.4, 0.5]              670\n",
      "(0.3, 0.4]              660\n",
      "(0.699, 0.799]          595\n",
      "(0.799, 0.899]          355\n",
      "(0.899, 0.999]          113\n",
      "Name: Avg_Utilization_Ratio, dtype: int64\n"
     ]
    }
   ],
   "source": [
    "\n",
    "a = df_num.Customer_Age.value_counts(bins = 10)\n",
    "b = df_num.Dependent_count.value_counts()\n",
    "c = df_num.Months_on_book.value_counts(bins = 10)\n",
    "d = df_num.Total_Relationship_Count.value_counts()\n",
    "e = df_num.Months_Inactive_12_mon.value_counts(sort = True, bins = 10)\n",
    "f = df_num.Contacts_Count_12_mon.value_counts(bins = 10)\n",
    "g = df_num.Credit_Limit.value_counts(bins = 10)\n",
    "h = df_num.Total_Revolving_Bal.value_counts(bins = 10)\n",
    "i = df_num.Avg_Open_To_Buy.value_counts(bins = 10)\n",
    "j = df_num.Total_Amt_Chng_Q4_Q1.value_counts(bins = 10)\n",
    "k = df_num.Total_Trans_Amt.value_counts(bins = 10)\n",
    "l = df_num.Total_Trans_Ct.value_counts(bins = 10)\n",
    "m = df_num.Total_Ct_Chng_Q4_Q1.value_counts(bins = 10)\n",
    "n = df_num.Avg_Utilization_Ratio.value_counts(bins = 10)\n",
    "\n",
    "print(a, b, c, d, e, f, g, h, i, j, k, l, m, n)"
   ]
  },
  {
   "cell_type": "code",
   "execution_count": 12,
   "metadata": {},
   "outputs": [
    {
     "data": {
      "text/plain": [
       "Customer_Age                   AxesSubplot(0.125,0.125;0.0466867x0.755)\n",
       "Dependent_count             AxesSubplot(0.181024,0.125;0.0466867x0.755)\n",
       "Months_on_book              AxesSubplot(0.237048,0.125;0.0466867x0.755)\n",
       "Total_Relationship_Count    AxesSubplot(0.293072,0.125;0.0466867x0.755)\n",
       "Months_Inactive_12_mon      AxesSubplot(0.349096,0.125;0.0466867x0.755)\n",
       "Contacts_Count_12_mon        AxesSubplot(0.40512,0.125;0.0466867x0.755)\n",
       "Credit_Limit                AxesSubplot(0.461145,0.125;0.0466867x0.755)\n",
       "Total_Revolving_Bal         AxesSubplot(0.517169,0.125;0.0466867x0.755)\n",
       "Avg_Open_To_Buy             AxesSubplot(0.573193,0.125;0.0466867x0.755)\n",
       "Total_Amt_Chng_Q4_Q1        AxesSubplot(0.629217,0.125;0.0466867x0.755)\n",
       "Total_Trans_Amt             AxesSubplot(0.685241,0.125;0.0466867x0.755)\n",
       "Total_Trans_Ct              AxesSubplot(0.741265,0.125;0.0466867x0.755)\n",
       "Total_Ct_Chng_Q4_Q1         AxesSubplot(0.797289,0.125;0.0466867x0.755)\n",
       "Avg_Utilization_Ratio       AxesSubplot(0.853313,0.125;0.0466867x0.755)\n",
       "dtype: object"
      ]
     },
     "execution_count": 12,
     "metadata": {},
     "output_type": "execute_result"
    },
    {
     "data": {
      "image/png": "[encoded data removed]",
      "text/plain": [
       "<Figure size 1440x576 with 14 Axes>"
      ]
     },
     "metadata": {
      "needs_background": "light"
     },
     "output_type": "display_data"
    }
   ],
   "source": [
    "df_num.plot(kind='box',subplots = True, figsize=(20,8), fontsize = 7, sharex = False)"
   ]
  },
  {
   "cell_type": "code",
   "execution_count": 13,
   "metadata": {},
   "outputs": [
    {
     "data": {
      "text/plain": [
       "321000000000.0"
      ]
     },
     "execution_count": 13,
     "metadata": {},
     "output_type": "execute_result"
    }
   ],
   "source": [
    "df_num.Months_on_book.max()"
   ]
  },
  {
   "cell_type": "code",
   "execution_count": 14,
   "metadata": {},
   "outputs": [],
   "source": [
    "n_bins = 100\n",
    "m = data_all.Months_on_book.value_counts(bins = n_bins)"
   ]
  },
  {
   "cell_type": "code",
   "execution_count": 15,
   "metadata": {},
   "outputs": [
    {
     "data": {
      "image/png": "[encoded data removed]",
      "text/plain": [
       "<Figure size 432x288 with 1 Axes>"
      ]
     },
     "metadata": {
      "needs_background": "light"
     },
     "output_type": "display_data"
    }
   ],
   "source": [
    "import matplotlib.pyplot as plt\n",
    "\n",
    "plt.hist(df_num.Months_on_book, bins=[0,1000,10000000], log=False, density=1)\n",
    "plt.show()"
   ]
  },
  {
   "cell_type": "code",
   "execution_count": 16,
   "metadata": {
    "scrolled": true
   },
   "outputs": [],
   "source": [
    "#df_num.Months_on_book.plot.hist(bins = 5, fontsize = 8, density=False, align='right', log=True)\n",
    "#plt.xscale(\"log\")"
   ]
  },
  {
   "cell_type": "code",
   "execution_count": 17,
   "metadata": {},
   "outputs": [
    {
     "name": "stdout",
     "output_type": "stream",
     "text": [
      "-2147483647.0 321000000000.0\n"
     ]
    }
   ],
   "source": [
    "mob = df_num.Months_on_book\n",
    "maxx = mob.max()\n",
    "minn = mob.min()\n",
    "print(minn, maxx)"
   ]
  },
  {
   "cell_type": "code",
   "execution_count": 18,
   "metadata": {},
   "outputs": [],
   "source": [
    "# 12 redici se se so vrednosti pomali od NULA i 40 redici se so vrednosti pogolemi od 56. Niv treba da gi sredime\n",
    "#list_s = mob[mob<0]  # 12 brojcinja\n",
    "#list_b = mob[mob>56] # 40 brojcinja\n",
    "#list_s.count()\n"
   ]
  },
  {
   "cell_type": "code",
   "execution_count": 19,
   "metadata": {},
   "outputs": [
    {
     "data": {
      "text/plain": [
       "-2147483647.0"
      ]
     },
     "execution_count": 19,
     "metadata": {},
     "output_type": "execute_result"
    }
   ],
   "source": [
    "mob[mob<0].unique()[0]\n"
   ]
  },
  {
   "cell_type": "code",
   "execution_count": 20,
   "metadata": {},
   "outputs": [],
   "source": [
    "df_num['Months_on_book']=df_num.Months_on_book.replace({-2147483647.0:np.nan,\n",
    "                                                       2147483647.0:np.nan,\n",
    "                                                       3.21000000e+11:np.nan})"
   ]
  },
  {
   "cell_type": "code",
   "execution_count": 21,
   "metadata": {},
   "outputs": [
    {
     "data": {
      "text/plain": [
       "(array([ 0,  1,  2,  3,  4,  5,  6,  7,  8,  9, 10, 11, 12, 13, 14, 15, 16,\n",
       "        17, 18, 19, 20, 21, 22, 23, 24, 25, 26, 27, 28, 29, 30, 31, 32, 33,\n",
       "        34, 35, 36, 37, 38, 39, 40, 41, 42, 43]),\n",
       " [Text(0, 0, '13.0'),\n",
       "  Text(1, 0, '14.0'),\n",
       "  Text(2, 0, '15.0'),\n",
       "  Text(3, 0, '16.0'),\n",
       "  Text(4, 0, '17.0'),\n",
       "  Text(5, 0, '18.0'),\n",
       "  Text(6, 0, '19.0'),\n",
       "  Text(7, 0, '20.0'),\n",
       "  Text(8, 0, '21.0'),\n",
       "  Text(9, 0, '22.0'),\n",
       "  Text(10, 0, '23.0'),\n",
       "  Text(11, 0, '24.0'),\n",
       "  Text(12, 0, '25.0'),\n",
       "  Text(13, 0, '26.0'),\n",
       "  Text(14, 0, '27.0'),\n",
       "  Text(15, 0, '28.0'),\n",
       "  Text(16, 0, '29.0'),\n",
       "  Text(17, 0, '30.0'),\n",
       "  Text(18, 0, '31.0'),\n",
       "  Text(19, 0, '32.0'),\n",
       "  Text(20, 0, '33.0'),\n",
       "  Text(21, 0, '34.0'),\n",
       "  Text(22, 0, '35.0'),\n",
       "  Text(23, 0, '36.0'),\n",
       "  Text(24, 0, '37.0'),\n",
       "  Text(25, 0, '38.0'),\n",
       "  Text(26, 0, '39.0'),\n",
       "  Text(27, 0, '40.0'),\n",
       "  Text(28, 0, '41.0'),\n",
       "  Text(29, 0, '42.0'),\n",
       "  Text(30, 0, '43.0'),\n",
       "  Text(31, 0, '44.0'),\n",
       "  Text(32, 0, '45.0'),\n",
       "  Text(33, 0, '46.0'),\n",
       "  Text(34, 0, '47.0'),\n",
       "  Text(35, 0, '48.0'),\n",
       "  Text(36, 0, '49.0'),\n",
       "  Text(37, 0, '50.0'),\n",
       "  Text(38, 0, '51.0'),\n",
       "  Text(39, 0, '52.0'),\n",
       "  Text(40, 0, '53.0'),\n",
       "  Text(41, 0, '54.0'),\n",
       "  Text(42, 0, '55.0'),\n",
       "  Text(43, 0, '56.0')])"
      ]
     },
     "execution_count": 21,
     "metadata": {},
     "output_type": "execute_result"
    },
    {
     "data": {
      "image/png": "[encoded data removed]",
      "text/plain": [
       "<Figure size 432x288 with 1 Axes>"
      ]
     },
     "metadata": {
      "needs_background": "light"
     },
     "output_type": "display_data"
    }
   ],
   "source": [
    "plot=sns.countplot(x='Months_on_book', data=df_num)\n",
    "plt.xticks(rotation=45)\n"
   ]
  },
  {
   "cell_type": "code",
   "execution_count": 22,
   "metadata": {
    "scrolled": true
   },
   "outputs": [
    {
     "data": {
      "text/html": [
       "<div>\n",
       "<style scoped>\n",
       "    .dataframe tbody tr th:only-of-type {\n",
       "        vertical-align: middle;\n",
       "    }\n",
       "\n",
       "    .dataframe tbody tr th {\n",
       "        vertical-align: top;\n",
       "    }\n",
       "\n",
       "    .dataframe thead th {\n",
       "        text-align: right;\n",
       "    }\n",
       "</style>\n",
       "<table border=\"1\" class=\"dataframe\">\n",
       "  <thead>\n",
       "    <tr style=\"text-align: right;\">\n",
       "      <th></th>\n",
       "      <th>Customer_Age</th>\n",
       "      <th>Dependent_count</th>\n",
       "      <th>Months_on_book</th>\n",
       "      <th>Total_Relationship_Count</th>\n",
       "      <th>Months_Inactive_12_mon</th>\n",
       "      <th>Contacts_Count_12_mon</th>\n",
       "      <th>Credit_Limit</th>\n",
       "      <th>Total_Revolving_Bal</th>\n",
       "      <th>Avg_Open_To_Buy</th>\n",
       "      <th>Total_Amt_Chng_Q4_Q1</th>\n",
       "      <th>Total_Trans_Amt</th>\n",
       "      <th>Total_Trans_Ct</th>\n",
       "      <th>Total_Ct_Chng_Q4_Q1</th>\n",
       "      <th>Avg_Utilization_Ratio</th>\n",
       "    </tr>\n",
       "  </thead>\n",
       "  <tbody>\n",
       "    <tr>\n",
       "      <th>326</th>\n",
       "      <td>56</td>\n",
       "      <td>1</td>\n",
       "      <td>NaN</td>\n",
       "      <td>3</td>\n",
       "      <td>2</td>\n",
       "      <td>2</td>\n",
       "      <td>6041.0</td>\n",
       "      <td>1355</td>\n",
       "      <td>4686.0</td>\n",
       "      <td>0.685</td>\n",
       "      <td>1747</td>\n",
       "      <td>49</td>\n",
       "      <td>0.581</td>\n",
       "      <td>0.224</td>\n",
       "    </tr>\n",
       "    <tr>\n",
       "      <th>668</th>\n",
       "      <td>53</td>\n",
       "      <td>3</td>\n",
       "      <td>NaN</td>\n",
       "      <td>4</td>\n",
       "      <td>3</td>\n",
       "      <td>2</td>\n",
       "      <td>34516.0</td>\n",
       "      <td>2517</td>\n",
       "      <td>31999.0</td>\n",
       "      <td>0.741</td>\n",
       "      <td>1475</td>\n",
       "      <td>33</td>\n",
       "      <td>0.833</td>\n",
       "      <td>0.073</td>\n",
       "    </tr>\n",
       "    <tr>\n",
       "      <th>1077</th>\n",
       "      <td>39</td>\n",
       "      <td>3</td>\n",
       "      <td>NaN</td>\n",
       "      <td>4</td>\n",
       "      <td>2</td>\n",
       "      <td>3</td>\n",
       "      <td>6929.0</td>\n",
       "      <td>1691</td>\n",
       "      <td>5238.0</td>\n",
       "      <td>0.534</td>\n",
       "      <td>1388</td>\n",
       "      <td>27</td>\n",
       "      <td>0.929</td>\n",
       "      <td>0.244</td>\n",
       "    </tr>\n",
       "    <tr>\n",
       "      <th>1200</th>\n",
       "      <td>39</td>\n",
       "      <td>3</td>\n",
       "      <td>NaN</td>\n",
       "      <td>6</td>\n",
       "      <td>1</td>\n",
       "      <td>3</td>\n",
       "      <td>3651.0</td>\n",
       "      <td>0</td>\n",
       "      <td>3651.0</td>\n",
       "      <td>0.977</td>\n",
       "      <td>862</td>\n",
       "      <td>19</td>\n",
       "      <td>1.111</td>\n",
       "      <td>0.000</td>\n",
       "    </tr>\n",
       "    <tr>\n",
       "      <th>1225</th>\n",
       "      <td>65</td>\n",
       "      <td>0</td>\n",
       "      <td>NaN</td>\n",
       "      <td>3</td>\n",
       "      <td>2</td>\n",
       "      <td>2</td>\n",
       "      <td>2798.0</td>\n",
       "      <td>1806</td>\n",
       "      <td>992.0</td>\n",
       "      <td>0.765</td>\n",
       "      <td>1543</td>\n",
       "      <td>35</td>\n",
       "      <td>0.591</td>\n",
       "      <td>0.645</td>\n",
       "    </tr>\n",
       "    <tr>\n",
       "      <th>1939</th>\n",
       "      <td>42</td>\n",
       "      <td>2</td>\n",
       "      <td>NaN</td>\n",
       "      <td>5</td>\n",
       "      <td>3</td>\n",
       "      <td>2</td>\n",
       "      <td>8083.0</td>\n",
       "      <td>0</td>\n",
       "      <td>8083.0</td>\n",
       "      <td>1.076</td>\n",
       "      <td>3942</td>\n",
       "      <td>84</td>\n",
       "      <td>0.750</td>\n",
       "      <td>0.000</td>\n",
       "    </tr>\n",
       "    <tr>\n",
       "      <th>2014</th>\n",
       "      <td>39</td>\n",
       "      <td>3</td>\n",
       "      <td>NaN</td>\n",
       "      <td>3</td>\n",
       "      <td>3</td>\n",
       "      <td>2</td>\n",
       "      <td>2503.0</td>\n",
       "      <td>2185</td>\n",
       "      <td>318.0</td>\n",
       "      <td>0.500</td>\n",
       "      <td>4157</td>\n",
       "      <td>58</td>\n",
       "      <td>0.758</td>\n",
       "      <td>0.873</td>\n",
       "    </tr>\n",
       "    <tr>\n",
       "      <th>2015</th>\n",
       "      <td>31</td>\n",
       "      <td>0</td>\n",
       "      <td>NaN</td>\n",
       "      <td>4</td>\n",
       "      <td>3</td>\n",
       "      <td>2</td>\n",
       "      <td>3312.0</td>\n",
       "      <td>2491</td>\n",
       "      <td>821.0</td>\n",
       "      <td>0.620</td>\n",
       "      <td>2670</td>\n",
       "      <td>50</td>\n",
       "      <td>0.667</td>\n",
       "      <td>0.752</td>\n",
       "    </tr>\n",
       "    <tr>\n",
       "      <th>2016</th>\n",
       "      <td>31</td>\n",
       "      <td>2</td>\n",
       "      <td>NaN</td>\n",
       "      <td>3</td>\n",
       "      <td>2</td>\n",
       "      <td>4</td>\n",
       "      <td>6269.0</td>\n",
       "      <td>1169</td>\n",
       "      <td>5100.0</td>\n",
       "      <td>0.743</td>\n",
       "      <td>2221</td>\n",
       "      <td>57</td>\n",
       "      <td>0.727</td>\n",
       "      <td>0.186</td>\n",
       "    </tr>\n",
       "    <tr>\n",
       "      <th>2017</th>\n",
       "      <td>36</td>\n",
       "      <td>4</td>\n",
       "      <td>NaN</td>\n",
       "      <td>3</td>\n",
       "      <td>2</td>\n",
       "      <td>1</td>\n",
       "      <td>20337.0</td>\n",
       "      <td>1605</td>\n",
       "      <td>18732.0</td>\n",
       "      <td>0.805</td>\n",
       "      <td>2460</td>\n",
       "      <td>74</td>\n",
       "      <td>1.312</td>\n",
       "      <td>0.079</td>\n",
       "    </tr>\n",
       "    <tr>\n",
       "      <th>2269</th>\n",
       "      <td>36</td>\n",
       "      <td>3</td>\n",
       "      <td>NaN</td>\n",
       "      <td>6</td>\n",
       "      <td>2</td>\n",
       "      <td>4</td>\n",
       "      <td>24457.0</td>\n",
       "      <td>1300</td>\n",
       "      <td>23157.0</td>\n",
       "      <td>0.914</td>\n",
       "      <td>2739</td>\n",
       "      <td>65</td>\n",
       "      <td>0.912</td>\n",
       "      <td>0.053</td>\n",
       "    </tr>\n",
       "    <tr>\n",
       "      <th>2280</th>\n",
       "      <td>56</td>\n",
       "      <td>1</td>\n",
       "      <td>NaN</td>\n",
       "      <td>6</td>\n",
       "      <td>1</td>\n",
       "      <td>1</td>\n",
       "      <td>9031.0</td>\n",
       "      <td>1535</td>\n",
       "      <td>7496.0</td>\n",
       "      <td>0.690</td>\n",
       "      <td>1602</td>\n",
       "      <td>35</td>\n",
       "      <td>0.591</td>\n",
       "      <td>0.170</td>\n",
       "    </tr>\n",
       "    <tr>\n",
       "      <th>2968</th>\n",
       "      <td>45</td>\n",
       "      <td>4</td>\n",
       "      <td>NaN</td>\n",
       "      <td>6</td>\n",
       "      <td>3</td>\n",
       "      <td>3</td>\n",
       "      <td>23000.0</td>\n",
       "      <td>1097</td>\n",
       "      <td>21903.0</td>\n",
       "      <td>1.095</td>\n",
       "      <td>3886</td>\n",
       "      <td>70</td>\n",
       "      <td>0.667</td>\n",
       "      <td>0.048</td>\n",
       "    </tr>\n",
       "    <tr>\n",
       "      <th>3852</th>\n",
       "      <td>65</td>\n",
       "      <td>0</td>\n",
       "      <td>NaN</td>\n",
       "      <td>3</td>\n",
       "      <td>3</td>\n",
       "      <td>4</td>\n",
       "      <td>2025.0</td>\n",
       "      <td>1701</td>\n",
       "      <td>324.0</td>\n",
       "      <td>0.628</td>\n",
       "      <td>4056</td>\n",
       "      <td>71</td>\n",
       "      <td>0.578</td>\n",
       "      <td>0.840</td>\n",
       "    </tr>\n",
       "    <tr>\n",
       "      <th>4345</th>\n",
       "      <td>56</td>\n",
       "      <td>2</td>\n",
       "      <td>NaN</td>\n",
       "      <td>5</td>\n",
       "      <td>3</td>\n",
       "      <td>3</td>\n",
       "      <td>2029.0</td>\n",
       "      <td>974</td>\n",
       "      <td>1055.0</td>\n",
       "      <td>0.624</td>\n",
       "      <td>4170</td>\n",
       "      <td>73</td>\n",
       "      <td>0.553</td>\n",
       "      <td>0.480</td>\n",
       "    </tr>\n",
       "    <tr>\n",
       "      <th>4356</th>\n",
       "      <td>48</td>\n",
       "      <td>4</td>\n",
       "      <td>NaN</td>\n",
       "      <td>5</td>\n",
       "      <td>1</td>\n",
       "      <td>2</td>\n",
       "      <td>6798.0</td>\n",
       "      <td>2517</td>\n",
       "      <td>4281.0</td>\n",
       "      <td>0.873</td>\n",
       "      <td>4327</td>\n",
       "      <td>79</td>\n",
       "      <td>0.881</td>\n",
       "      <td>0.370</td>\n",
       "    </tr>\n",
       "    <tr>\n",
       "      <th>4462</th>\n",
       "      <td>39</td>\n",
       "      <td>2</td>\n",
       "      <td>NaN</td>\n",
       "      <td>4</td>\n",
       "      <td>2</td>\n",
       "      <td>4</td>\n",
       "      <td>1947.0</td>\n",
       "      <td>1160</td>\n",
       "      <td>787.0</td>\n",
       "      <td>1.227</td>\n",
       "      <td>4496</td>\n",
       "      <td>71</td>\n",
       "      <td>1.290</td>\n",
       "      <td>0.596</td>\n",
       "    </tr>\n",
       "    <tr>\n",
       "      <th>4463</th>\n",
       "      <td>45</td>\n",
       "      <td>3</td>\n",
       "      <td>NaN</td>\n",
       "      <td>6</td>\n",
       "      <td>1</td>\n",
       "      <td>2</td>\n",
       "      <td>2667.0</td>\n",
       "      <td>1551</td>\n",
       "      <td>1116.0</td>\n",
       "      <td>0.672</td>\n",
       "      <td>4883</td>\n",
       "      <td>85</td>\n",
       "      <td>0.735</td>\n",
       "      <td>0.582</td>\n",
       "    </tr>\n",
       "    <tr>\n",
       "      <th>4480</th>\n",
       "      <td>50</td>\n",
       "      <td>4</td>\n",
       "      <td>NaN</td>\n",
       "      <td>6</td>\n",
       "      <td>1</td>\n",
       "      <td>1</td>\n",
       "      <td>1479.0</td>\n",
       "      <td>1004</td>\n",
       "      <td>475.0</td>\n",
       "      <td>0.827</td>\n",
       "      <td>5116</td>\n",
       "      <td>75</td>\n",
       "      <td>0.974</td>\n",
       "      <td>0.679</td>\n",
       "    </tr>\n",
       "    <tr>\n",
       "      <th>4510</th>\n",
       "      <td>49</td>\n",
       "      <td>3</td>\n",
       "      <td>NaN</td>\n",
       "      <td>3</td>\n",
       "      <td>3</td>\n",
       "      <td>2</td>\n",
       "      <td>13382.0</td>\n",
       "      <td>1159</td>\n",
       "      <td>12223.0</td>\n",
       "      <td>0.404</td>\n",
       "      <td>1828</td>\n",
       "      <td>45</td>\n",
       "      <td>0.500</td>\n",
       "      <td>0.087</td>\n",
       "    </tr>\n",
       "    <tr>\n",
       "      <th>4528</th>\n",
       "      <td>45</td>\n",
       "      <td>3</td>\n",
       "      <td>NaN</td>\n",
       "      <td>6</td>\n",
       "      <td>2</td>\n",
       "      <td>4</td>\n",
       "      <td>9086.0</td>\n",
       "      <td>1254</td>\n",
       "      <td>7832.0</td>\n",
       "      <td>0.930</td>\n",
       "      <td>3906</td>\n",
       "      <td>81</td>\n",
       "      <td>0.800</td>\n",
       "      <td>0.138</td>\n",
       "    </tr>\n",
       "    <tr>\n",
       "      <th>4529</th>\n",
       "      <td>47</td>\n",
       "      <td>3</td>\n",
       "      <td>NaN</td>\n",
       "      <td>4</td>\n",
       "      <td>3</td>\n",
       "      <td>2</td>\n",
       "      <td>21142.0</td>\n",
       "      <td>0</td>\n",
       "      <td>21142.0</td>\n",
       "      <td>0.812</td>\n",
       "      <td>4360</td>\n",
       "      <td>66</td>\n",
       "      <td>1.357</td>\n",
       "      <td>0.000</td>\n",
       "    </tr>\n",
       "    <tr>\n",
       "      <th>4530</th>\n",
       "      <td>62</td>\n",
       "      <td>0</td>\n",
       "      <td>NaN</td>\n",
       "      <td>3</td>\n",
       "      <td>2</td>\n",
       "      <td>4</td>\n",
       "      <td>3653.0</td>\n",
       "      <td>1769</td>\n",
       "      <td>1884.0</td>\n",
       "      <td>0.825</td>\n",
       "      <td>4423</td>\n",
       "      <td>67</td>\n",
       "      <td>0.763</td>\n",
       "      <td>0.484</td>\n",
       "    </tr>\n",
       "    <tr>\n",
       "      <th>4531</th>\n",
       "      <td>44</td>\n",
       "      <td>3</td>\n",
       "      <td>NaN</td>\n",
       "      <td>6</td>\n",
       "      <td>2</td>\n",
       "      <td>4</td>\n",
       "      <td>1713.0</td>\n",
       "      <td>0</td>\n",
       "      <td>1713.0</td>\n",
       "      <td>0.678</td>\n",
       "      <td>3999</td>\n",
       "      <td>66</td>\n",
       "      <td>1.062</td>\n",
       "      <td>0.000</td>\n",
       "    </tr>\n",
       "    <tr>\n",
       "      <th>4722</th>\n",
       "      <td>47</td>\n",
       "      <td>2</td>\n",
       "      <td>NaN</td>\n",
       "      <td>6</td>\n",
       "      <td>2</td>\n",
       "      <td>1</td>\n",
       "      <td>2514.0</td>\n",
       "      <td>1845</td>\n",
       "      <td>669.0</td>\n",
       "      <td>0.683</td>\n",
       "      <td>3696</td>\n",
       "      <td>71</td>\n",
       "      <td>0.614</td>\n",
       "      <td>0.734</td>\n",
       "    </tr>\n",
       "    <tr>\n",
       "      <th>4728</th>\n",
       "      <td>52</td>\n",
       "      <td>2</td>\n",
       "      <td>NaN</td>\n",
       "      <td>6</td>\n",
       "      <td>3</td>\n",
       "      <td>4</td>\n",
       "      <td>14785.0</td>\n",
       "      <td>1088</td>\n",
       "      <td>13697.0</td>\n",
       "      <td>0.961</td>\n",
       "      <td>4354</td>\n",
       "      <td>70</td>\n",
       "      <td>0.489</td>\n",
       "      <td>0.074</td>\n",
       "    </tr>\n",
       "    <tr>\n",
       "      <th>4740</th>\n",
       "      <td>32</td>\n",
       "      <td>1</td>\n",
       "      <td>NaN</td>\n",
       "      <td>3</td>\n",
       "      <td>3</td>\n",
       "      <td>6</td>\n",
       "      <td>2761.0</td>\n",
       "      <td>0</td>\n",
       "      <td>2761.0</td>\n",
       "      <td>1.047</td>\n",
       "      <td>2753</td>\n",
       "      <td>43</td>\n",
       "      <td>0.654</td>\n",
       "      <td>0.000</td>\n",
       "    </tr>\n",
       "    <tr>\n",
       "      <th>5086</th>\n",
       "      <td>46</td>\n",
       "      <td>4</td>\n",
       "      <td>NaN</td>\n",
       "      <td>4</td>\n",
       "      <td>3</td>\n",
       "      <td>4</td>\n",
       "      <td>2286.0</td>\n",
       "      <td>0</td>\n",
       "      <td>2286.0</td>\n",
       "      <td>1.057</td>\n",
       "      <td>2798</td>\n",
       "      <td>40</td>\n",
       "      <td>0.481</td>\n",
       "      <td>0.000</td>\n",
       "    </tr>\n",
       "    <tr>\n",
       "      <th>5102</th>\n",
       "      <td>39</td>\n",
       "      <td>2</td>\n",
       "      <td>NaN</td>\n",
       "      <td>4</td>\n",
       "      <td>3</td>\n",
       "      <td>4</td>\n",
       "      <td>1438.3</td>\n",
       "      <td>886</td>\n",
       "      <td>552.3</td>\n",
       "      <td>0.240</td>\n",
       "      <td>1674</td>\n",
       "      <td>42</td>\n",
       "      <td>0.312</td>\n",
       "      <td>0.616</td>\n",
       "    </tr>\n",
       "    <tr>\n",
       "      <th>5147</th>\n",
       "      <td>41</td>\n",
       "      <td>2</td>\n",
       "      <td>NaN</td>\n",
       "      <td>3</td>\n",
       "      <td>3</td>\n",
       "      <td>4</td>\n",
       "      <td>10873.0</td>\n",
       "      <td>1514</td>\n",
       "      <td>9359.0</td>\n",
       "      <td>0.879</td>\n",
       "      <td>5089</td>\n",
       "      <td>82</td>\n",
       "      <td>0.783</td>\n",
       "      <td>0.139</td>\n",
       "    </tr>\n",
       "    <tr>\n",
       "      <th>6396</th>\n",
       "      <td>55</td>\n",
       "      <td>2</td>\n",
       "      <td>NaN</td>\n",
       "      <td>6</td>\n",
       "      <td>2</td>\n",
       "      <td>3</td>\n",
       "      <td>4410.0</td>\n",
       "      <td>2517</td>\n",
       "      <td>1893.0</td>\n",
       "      <td>0.530</td>\n",
       "      <td>1883</td>\n",
       "      <td>44</td>\n",
       "      <td>0.630</td>\n",
       "      <td>0.571</td>\n",
       "    </tr>\n",
       "    <tr>\n",
       "      <th>6424</th>\n",
       "      <td>47</td>\n",
       "      <td>2</td>\n",
       "      <td>NaN</td>\n",
       "      <td>6</td>\n",
       "      <td>2</td>\n",
       "      <td>2</td>\n",
       "      <td>2190.0</td>\n",
       "      <td>0</td>\n",
       "      <td>2190.0</td>\n",
       "      <td>0.630</td>\n",
       "      <td>4416</td>\n",
       "      <td>68</td>\n",
       "      <td>0.581</td>\n",
       "      <td>0.000</td>\n",
       "    </tr>\n",
       "    <tr>\n",
       "      <th>6448</th>\n",
       "      <td>47</td>\n",
       "      <td>2</td>\n",
       "      <td>NaN</td>\n",
       "      <td>3</td>\n",
       "      <td>3</td>\n",
       "      <td>2</td>\n",
       "      <td>2793.0</td>\n",
       "      <td>1517</td>\n",
       "      <td>1276.0</td>\n",
       "      <td>0.712</td>\n",
       "      <td>3485</td>\n",
       "      <td>72</td>\n",
       "      <td>0.895</td>\n",
       "      <td>0.543</td>\n",
       "    </tr>\n",
       "    <tr>\n",
       "      <th>9453</th>\n",
       "      <td>42</td>\n",
       "      <td>5</td>\n",
       "      <td>NaN</td>\n",
       "      <td>1</td>\n",
       "      <td>2</td>\n",
       "      <td>2</td>\n",
       "      <td>10531.0</td>\n",
       "      <td>2330</td>\n",
       "      <td>8201.0</td>\n",
       "      <td>0.757</td>\n",
       "      <td>14955</td>\n",
       "      <td>118</td>\n",
       "      <td>0.662</td>\n",
       "      <td>0.221</td>\n",
       "    </tr>\n",
       "    <tr>\n",
       "      <th>9546</th>\n",
       "      <td>44</td>\n",
       "      <td>3</td>\n",
       "      <td>NaN</td>\n",
       "      <td>1</td>\n",
       "      <td>2</td>\n",
       "      <td>3</td>\n",
       "      <td>3384.0</td>\n",
       "      <td>799</td>\n",
       "      <td>2585.0</td>\n",
       "      <td>0.737</td>\n",
       "      <td>13152</td>\n",
       "      <td>100</td>\n",
       "      <td>0.754</td>\n",
       "      <td>0.236</td>\n",
       "    </tr>\n",
       "    <tr>\n",
       "      <th>9619</th>\n",
       "      <td>53</td>\n",
       "      <td>3</td>\n",
       "      <td>NaN</td>\n",
       "      <td>2</td>\n",
       "      <td>2</td>\n",
       "      <td>3</td>\n",
       "      <td>34516.0</td>\n",
       "      <td>0</td>\n",
       "      <td>34516.0</td>\n",
       "      <td>0.534</td>\n",
       "      <td>6361</td>\n",
       "      <td>74</td>\n",
       "      <td>1.114</td>\n",
       "      <td>0.000</td>\n",
       "    </tr>\n",
       "    <tr>\n",
       "      <th>9717</th>\n",
       "      <td>43</td>\n",
       "      <td>3</td>\n",
       "      <td>NaN</td>\n",
       "      <td>3</td>\n",
       "      <td>3</td>\n",
       "      <td>3</td>\n",
       "      <td>9267.0</td>\n",
       "      <td>0</td>\n",
       "      <td>9267.0</td>\n",
       "      <td>0.866</td>\n",
       "      <td>7991</td>\n",
       "      <td>90</td>\n",
       "      <td>1.093</td>\n",
       "      <td>0.000</td>\n",
       "    </tr>\n",
       "    <tr>\n",
       "      <th>9737</th>\n",
       "      <td>31</td>\n",
       "      <td>0</td>\n",
       "      <td>NaN</td>\n",
       "      <td>2</td>\n",
       "      <td>3</td>\n",
       "      <td>3</td>\n",
       "      <td>4661.0</td>\n",
       "      <td>1835</td>\n",
       "      <td>2826.0</td>\n",
       "      <td>0.999</td>\n",
       "      <td>14257</td>\n",
       "      <td>110</td>\n",
       "      <td>0.964</td>\n",
       "      <td>0.394</td>\n",
       "    </tr>\n",
       "    <tr>\n",
       "      <th>9756</th>\n",
       "      <td>49</td>\n",
       "      <td>1</td>\n",
       "      <td>NaN</td>\n",
       "      <td>2</td>\n",
       "      <td>3</td>\n",
       "      <td>3</td>\n",
       "      <td>11059.0</td>\n",
       "      <td>0</td>\n",
       "      <td>11059.0</td>\n",
       "      <td>0.990</td>\n",
       "      <td>9524</td>\n",
       "      <td>80</td>\n",
       "      <td>0.905</td>\n",
       "      <td>0.000</td>\n",
       "    </tr>\n",
       "    <tr>\n",
       "      <th>9782</th>\n",
       "      <td>54</td>\n",
       "      <td>3</td>\n",
       "      <td>NaN</td>\n",
       "      <td>2</td>\n",
       "      <td>3</td>\n",
       "      <td>1</td>\n",
       "      <td>34516.0</td>\n",
       "      <td>761</td>\n",
       "      <td>33755.0</td>\n",
       "      <td>0.838</td>\n",
       "      <td>8444</td>\n",
       "      <td>68</td>\n",
       "      <td>0.744</td>\n",
       "      <td>0.022</td>\n",
       "    </tr>\n",
       "    <tr>\n",
       "      <th>9902</th>\n",
       "      <td>51</td>\n",
       "      <td>3</td>\n",
       "      <td>NaN</td>\n",
       "      <td>4</td>\n",
       "      <td>1</td>\n",
       "      <td>2</td>\n",
       "      <td>5611.0</td>\n",
       "      <td>0</td>\n",
       "      <td>5611.0</td>\n",
       "      <td>0.697</td>\n",
       "      <td>16557</td>\n",
       "      <td>120</td>\n",
       "      <td>0.622</td>\n",
       "      <td>0.000</td>\n",
       "    </tr>\n",
       "    <tr>\n",
       "      <th>9933</th>\n",
       "      <td>38</td>\n",
       "      <td>0</td>\n",
       "      <td>NaN</td>\n",
       "      <td>4</td>\n",
       "      <td>3</td>\n",
       "      <td>2</td>\n",
       "      <td>13747.0</td>\n",
       "      <td>1941</td>\n",
       "      <td>11806.0</td>\n",
       "      <td>0.748</td>\n",
       "      <td>16401</td>\n",
       "      <td>119</td>\n",
       "      <td>0.608</td>\n",
       "      <td>0.141</td>\n",
       "    </tr>\n",
       "    <tr>\n",
       "      <th>9941</th>\n",
       "      <td>32</td>\n",
       "      <td>1</td>\n",
       "      <td>NaN</td>\n",
       "      <td>4</td>\n",
       "      <td>3</td>\n",
       "      <td>3</td>\n",
       "      <td>9550.0</td>\n",
       "      <td>2517</td>\n",
       "      <td>7033.0</td>\n",
       "      <td>0.713</td>\n",
       "      <td>13783</td>\n",
       "      <td>116</td>\n",
       "      <td>0.841</td>\n",
       "      <td>0.264</td>\n",
       "    </tr>\n",
       "    <tr>\n",
       "      <th>9942</th>\n",
       "      <td>33</td>\n",
       "      <td>2</td>\n",
       "      <td>NaN</td>\n",
       "      <td>3</td>\n",
       "      <td>3</td>\n",
       "      <td>5</td>\n",
       "      <td>16127.0</td>\n",
       "      <td>0</td>\n",
       "      <td>16127.0</td>\n",
       "      <td>0.769</td>\n",
       "      <td>7729</td>\n",
       "      <td>82</td>\n",
       "      <td>1.000</td>\n",
       "      <td>0.000</td>\n",
       "    </tr>\n",
       "    <tr>\n",
       "      <th>9949</th>\n",
       "      <td>54</td>\n",
       "      <td>4</td>\n",
       "      <td>NaN</td>\n",
       "      <td>2</td>\n",
       "      <td>3</td>\n",
       "      <td>5</td>\n",
       "      <td>7684.0</td>\n",
       "      <td>0</td>\n",
       "      <td>7684.0</td>\n",
       "      <td>0.610</td>\n",
       "      <td>7667</td>\n",
       "      <td>68</td>\n",
       "      <td>0.789</td>\n",
       "      <td>0.000</td>\n",
       "    </tr>\n",
       "    <tr>\n",
       "      <th>9984</th>\n",
       "      <td>46</td>\n",
       "      <td>3</td>\n",
       "      <td>NaN</td>\n",
       "      <td>1</td>\n",
       "      <td>3</td>\n",
       "      <td>5</td>\n",
       "      <td>15164.0</td>\n",
       "      <td>532</td>\n",
       "      <td>14632.0</td>\n",
       "      <td>0.858</td>\n",
       "      <td>8356</td>\n",
       "      <td>68</td>\n",
       "      <td>0.478</td>\n",
       "      <td>0.035</td>\n",
       "    </tr>\n",
       "    <tr>\n",
       "      <th>10029</th>\n",
       "      <td>42</td>\n",
       "      <td>3</td>\n",
       "      <td>NaN</td>\n",
       "      <td>3</td>\n",
       "      <td>2</td>\n",
       "      <td>5</td>\n",
       "      <td>23981.0</td>\n",
       "      <td>1399</td>\n",
       "      <td>22582.0</td>\n",
       "      <td>0.712</td>\n",
       "      <td>14840</td>\n",
       "      <td>125</td>\n",
       "      <td>0.761</td>\n",
       "      <td>0.058</td>\n",
       "    </tr>\n",
       "    <tr>\n",
       "      <th>10067</th>\n",
       "      <td>49</td>\n",
       "      <td>4</td>\n",
       "      <td>NaN</td>\n",
       "      <td>5</td>\n",
       "      <td>2</td>\n",
       "      <td>3</td>\n",
       "      <td>4167.0</td>\n",
       "      <td>0</td>\n",
       "      <td>4167.0</td>\n",
       "      <td>0.581</td>\n",
       "      <td>7590</td>\n",
       "      <td>87</td>\n",
       "      <td>0.776</td>\n",
       "      <td>0.000</td>\n",
       "    </tr>\n",
       "    <tr>\n",
       "      <th>10079</th>\n",
       "      <td>45</td>\n",
       "      <td>4</td>\n",
       "      <td>NaN</td>\n",
       "      <td>2</td>\n",
       "      <td>3</td>\n",
       "      <td>4</td>\n",
       "      <td>28564.0</td>\n",
       "      <td>2517</td>\n",
       "      <td>26047.0</td>\n",
       "      <td>0.711</td>\n",
       "      <td>14875</td>\n",
       "      <td>107</td>\n",
       "      <td>0.783</td>\n",
       "      <td>0.088</td>\n",
       "    </tr>\n",
       "    <tr>\n",
       "      <th>10109</th>\n",
       "      <td>47</td>\n",
       "      <td>5</td>\n",
       "      <td>NaN</td>\n",
       "      <td>4</td>\n",
       "      <td>3</td>\n",
       "      <td>5</td>\n",
       "      <td>4165.0</td>\n",
       "      <td>0</td>\n",
       "      <td>4165.0</td>\n",
       "      <td>0.813</td>\n",
       "      <td>17093</td>\n",
       "      <td>111</td>\n",
       "      <td>0.820</td>\n",
       "      <td>0.000</td>\n",
       "    </tr>\n",
       "    <tr>\n",
       "      <th>10118</th>\n",
       "      <td>50</td>\n",
       "      <td>1</td>\n",
       "      <td>NaN</td>\n",
       "      <td>6</td>\n",
       "      <td>3</td>\n",
       "      <td>4</td>\n",
       "      <td>9959.0</td>\n",
       "      <td>952</td>\n",
       "      <td>9007.0</td>\n",
       "      <td>0.825</td>\n",
       "      <td>10310</td>\n",
       "      <td>63</td>\n",
       "      <td>1.100</td>\n",
       "      <td>0.096</td>\n",
       "    </tr>\n",
       "    <tr>\n",
       "      <th>10125</th>\n",
       "      <td>30</td>\n",
       "      <td>2</td>\n",
       "      <td>NaN</td>\n",
       "      <td>4</td>\n",
       "      <td>3</td>\n",
       "      <td>3</td>\n",
       "      <td>5281.0</td>\n",
       "      <td>0</td>\n",
       "      <td>5281.0</td>\n",
       "      <td>0.535</td>\n",
       "      <td>8395</td>\n",
       "      <td>62</td>\n",
       "      <td>0.722</td>\n",
       "      <td>0.000</td>\n",
       "    </tr>\n",
       "  </tbody>\n",
       "</table>\n",
       "</div>"
      ],
      "text/plain": [
       "       Customer_Age  Dependent_count  Months_on_book  \\\n",
       "326              56                1             NaN   \n",
       "668              53                3             NaN   \n",
       "1077             39                3             NaN   \n",
       "1200             39                3             NaN   \n",
       "1225             65                0             NaN   \n",
       "1939             42                2             NaN   \n",
       "2014             39                3             NaN   \n",
       "2015             31                0             NaN   \n",
       "2016             31                2             NaN   \n",
       "2017             36                4             NaN   \n",
       "2269             36                3             NaN   \n",
       "2280             56                1             NaN   \n",
       "2968             45                4             NaN   \n",
       "3852             65                0             NaN   \n",
       "4345             56                2             NaN   \n",
       "4356             48                4             NaN   \n",
       "4462             39                2             NaN   \n",
       "4463             45                3             NaN   \n",
       "4480             50                4             NaN   \n",
       "4510             49                3             NaN   \n",
       "4528             45                3             NaN   \n",
       "4529             47                3             NaN   \n",
       "4530             62                0             NaN   \n",
       "4531             44                3             NaN   \n",
       "4722             47                2             NaN   \n",
       "4728             52                2             NaN   \n",
       "4740             32                1             NaN   \n",
       "5086             46                4             NaN   \n",
       "5102             39                2             NaN   \n",
       "5147             41                2             NaN   \n",
       "6396             55                2             NaN   \n",
       "6424             47                2             NaN   \n",
       "6448             47                2             NaN   \n",
       "9453             42                5             NaN   \n",
       "9546             44                3             NaN   \n",
       "9619             53                3             NaN   \n",
       "9717             43                3             NaN   \n",
       "9737             31                0             NaN   \n",
       "9756             49                1             NaN   \n",
       "9782             54                3             NaN   \n",
       "9902             51                3             NaN   \n",
       "9933             38                0             NaN   \n",
       "9941             32                1             NaN   \n",
       "9942             33                2             NaN   \n",
       "9949             54                4             NaN   \n",
       "9984             46                3             NaN   \n",
       "10029            42                3             NaN   \n",
       "10067            49                4             NaN   \n",
       "10079            45                4             NaN   \n",
       "10109            47                5             NaN   \n",
       "10118            50                1             NaN   \n",
       "10125            30                2             NaN   \n",
       "\n",
       "       Total_Relationship_Count  Months_Inactive_12_mon  \\\n",
       "326                           3                       2   \n",
       "668                           4                       3   \n",
       "1077                          4                       2   \n",
       "1200                          6                       1   \n",
       "1225                          3                       2   \n",
       "1939                          5                       3   \n",
       "2014                          3                       3   \n",
       "2015                          4                       3   \n",
       "2016                          3                       2   \n",
       "2017                          3                       2   \n",
       "2269                          6                       2   \n",
       "2280                          6                       1   \n",
       "2968                          6                       3   \n",
       "3852                          3                       3   \n",
       "4345                          5                       3   \n",
       "4356                          5                       1   \n",
       "4462                          4                       2   \n",
       "4463                          6                       1   \n",
       "4480                          6                       1   \n",
       "4510                          3                       3   \n",
       "4528                          6                       2   \n",
       "4529                          4                       3   \n",
       "4530                          3                       2   \n",
       "4531                          6                       2   \n",
       "4722                          6                       2   \n",
       "4728                          6                       3   \n",
       "4740                          3                       3   \n",
       "5086                          4                       3   \n",
       "5102                          4                       3   \n",
       "5147                          3                       3   \n",
       "6396                          6                       2   \n",
       "6424                          6                       2   \n",
       "6448                          3                       3   \n",
       "9453                          1                       2   \n",
       "9546                          1                       2   \n",
       "9619                          2                       2   \n",
       "9717                          3                       3   \n",
       "9737                          2                       3   \n",
       "9756                          2                       3   \n",
       "9782                          2                       3   \n",
       "9902                          4                       1   \n",
       "9933                          4                       3   \n",
       "9941                          4                       3   \n",
       "9942                          3                       3   \n",
       "9949                          2                       3   \n",
       "9984                          1                       3   \n",
       "10029                         3                       2   \n",
       "10067                         5                       2   \n",
       "10079                         2                       3   \n",
       "10109                         4                       3   \n",
       "10118                         6                       3   \n",
       "10125                         4                       3   \n",
       "\n",
       "       Contacts_Count_12_mon  Credit_Limit  Total_Revolving_Bal  \\\n",
       "326                        2        6041.0                 1355   \n",
       "668                        2       34516.0                 2517   \n",
       "1077                       3        6929.0                 1691   \n",
       "1200                       3        3651.0                    0   \n",
       "1225                       2        2798.0                 1806   \n",
       "1939                       2        8083.0                    0   \n",
       "2014                       2        2503.0                 2185   \n",
       "2015                       2        3312.0                 2491   \n",
       "2016                       4        6269.0                 1169   \n",
       "2017                       1       20337.0                 1605   \n",
       "2269                       4       24457.0                 1300   \n",
       "2280                       1        9031.0                 1535   \n",
       "2968                       3       23000.0                 1097   \n",
       "3852                       4        2025.0                 1701   \n",
       "4345                       3        2029.0                  974   \n",
       "4356                       2        6798.0                 2517   \n",
       "4462                       4        1947.0                 1160   \n",
       "4463                       2        2667.0                 1551   \n",
       "4480                       1        1479.0                 1004   \n",
       "4510                       2       13382.0                 1159   \n",
       "4528                       4        9086.0                 1254   \n",
       "4529                       2       21142.0                    0   \n",
       "4530                       4        3653.0                 1769   \n",
       "4531                       4        1713.0                    0   \n",
       "4722                       1        2514.0                 1845   \n",
       "4728                       4       14785.0                 1088   \n",
       "4740                       6        2761.0                    0   \n",
       "5086                       4        2286.0                    0   \n",
       "5102                       4        1438.3                  886   \n",
       "5147                       4       10873.0                 1514   \n",
       "6396                       3        4410.0                 2517   \n",
       "6424                       2        2190.0                    0   \n",
       "6448                       2        2793.0                 1517   \n",
       "9453                       2       10531.0                 2330   \n",
       "9546                       3        3384.0                  799   \n",
       "9619                       3       34516.0                    0   \n",
       "9717                       3        9267.0                    0   \n",
       "9737                       3        4661.0                 1835   \n",
       "9756                       3       11059.0                    0   \n",
       "9782                       1       34516.0                  761   \n",
       "9902                       2        5611.0                    0   \n",
       "9933                       2       13747.0                 1941   \n",
       "9941                       3        9550.0                 2517   \n",
       "9942                       5       16127.0                    0   \n",
       "9949                       5        7684.0                    0   \n",
       "9984                       5       15164.0                  532   \n",
       "10029                      5       23981.0                 1399   \n",
       "10067                      3        4167.0                    0   \n",
       "10079                      4       28564.0                 2517   \n",
       "10109                      5        4165.0                    0   \n",
       "10118                      4        9959.0                  952   \n",
       "10125                      3        5281.0                    0   \n",
       "\n",
       "       Avg_Open_To_Buy  Total_Amt_Chng_Q4_Q1  Total_Trans_Amt  Total_Trans_Ct  \\\n",
       "326             4686.0                 0.685             1747              49   \n",
       "668            31999.0                 0.741             1475              33   \n",
       "1077            5238.0                 0.534             1388              27   \n",
       "1200            3651.0                 0.977              862              19   \n",
       "1225             992.0                 0.765             1543              35   \n",
       "1939            8083.0                 1.076             3942              84   \n",
       "2014             318.0                 0.500             4157              58   \n",
       "2015             821.0                 0.620             2670              50   \n",
       "2016            5100.0                 0.743             2221              57   \n",
       "2017           18732.0                 0.805             2460              74   \n",
       "2269           23157.0                 0.914             2739              65   \n",
       "2280            7496.0                 0.690             1602              35   \n",
       "2968           21903.0                 1.095             3886              70   \n",
       "3852             324.0                 0.628             4056              71   \n",
       "4345            1055.0                 0.624             4170              73   \n",
       "4356            4281.0                 0.873             4327              79   \n",
       "4462             787.0                 1.227             4496              71   \n",
       "4463            1116.0                 0.672             4883              85   \n",
       "4480             475.0                 0.827             5116              75   \n",
       "4510           12223.0                 0.404             1828              45   \n",
       "4528            7832.0                 0.930             3906              81   \n",
       "4529           21142.0                 0.812             4360              66   \n",
       "4530            1884.0                 0.825             4423              67   \n",
       "4531            1713.0                 0.678             3999              66   \n",
       "4722             669.0                 0.683             3696              71   \n",
       "4728           13697.0                 0.961             4354              70   \n",
       "4740            2761.0                 1.047             2753              43   \n",
       "5086            2286.0                 1.057             2798              40   \n",
       "5102             552.3                 0.240             1674              42   \n",
       "5147            9359.0                 0.879             5089              82   \n",
       "6396            1893.0                 0.530             1883              44   \n",
       "6424            2190.0                 0.630             4416              68   \n",
       "6448            1276.0                 0.712             3485              72   \n",
       "9453            8201.0                 0.757            14955             118   \n",
       "9546            2585.0                 0.737            13152             100   \n",
       "9619           34516.0                 0.534             6361              74   \n",
       "9717            9267.0                 0.866             7991              90   \n",
       "9737            2826.0                 0.999            14257             110   \n",
       "9756           11059.0                 0.990             9524              80   \n",
       "9782           33755.0                 0.838             8444              68   \n",
       "9902            5611.0                 0.697            16557             120   \n",
       "9933           11806.0                 0.748            16401             119   \n",
       "9941            7033.0                 0.713            13783             116   \n",
       "9942           16127.0                 0.769             7729              82   \n",
       "9949            7684.0                 0.610             7667              68   \n",
       "9984           14632.0                 0.858             8356              68   \n",
       "10029          22582.0                 0.712            14840             125   \n",
       "10067           4167.0                 0.581             7590              87   \n",
       "10079          26047.0                 0.711            14875             107   \n",
       "10109           4165.0                 0.813            17093             111   \n",
       "10118           9007.0                 0.825            10310              63   \n",
       "10125           5281.0                 0.535             8395              62   \n",
       "\n",
       "       Total_Ct_Chng_Q4_Q1  Avg_Utilization_Ratio  \n",
       "326                  0.581                  0.224  \n",
       "668                  0.833                  0.073  \n",
       "1077                 0.929                  0.244  \n",
       "1200                 1.111                  0.000  \n",
       "1225                 0.591                  0.645  \n",
       "1939                 0.750                  0.000  \n",
       "2014                 0.758                  0.873  \n",
       "2015                 0.667                  0.752  \n",
       "2016                 0.727                  0.186  \n",
       "2017                 1.312                  0.079  \n",
       "2269                 0.912                  0.053  \n",
       "2280                 0.591                  0.170  \n",
       "2968                 0.667                  0.048  \n",
       "3852                 0.578                  0.840  \n",
       "4345                 0.553                  0.480  \n",
       "4356                 0.881                  0.370  \n",
       "4462                 1.290                  0.596  \n",
       "4463                 0.735                  0.582  \n",
       "4480                 0.974                  0.679  \n",
       "4510                 0.500                  0.087  \n",
       "4528                 0.800                  0.138  \n",
       "4529                 1.357                  0.000  \n",
       "4530                 0.763                  0.484  \n",
       "4531                 1.062                  0.000  \n",
       "4722                 0.614                  0.734  \n",
       "4728                 0.489                  0.074  \n",
       "4740                 0.654                  0.000  \n",
       "5086                 0.481                  0.000  \n",
       "5102                 0.312                  0.616  \n",
       "5147                 0.783                  0.139  \n",
       "6396                 0.630                  0.571  \n",
       "6424                 0.581                  0.000  \n",
       "6448                 0.895                  0.543  \n",
       "9453                 0.662                  0.221  \n",
       "9546                 0.754                  0.236  \n",
       "9619                 1.114                  0.000  \n",
       "9717                 1.093                  0.000  \n",
       "9737                 0.964                  0.394  \n",
       "9756                 0.905                  0.000  \n",
       "9782                 0.744                  0.022  \n",
       "9902                 0.622                  0.000  \n",
       "9933                 0.608                  0.141  \n",
       "9941                 0.841                  0.264  \n",
       "9942                 1.000                  0.000  \n",
       "9949                 0.789                  0.000  \n",
       "9984                 0.478                  0.035  \n",
       "10029                0.761                  0.058  \n",
       "10067                0.776                  0.000  \n",
       "10079                0.783                  0.088  \n",
       "10109                0.820                  0.000  \n",
       "10118                1.100                  0.096  \n",
       "10125                0.722                  0.000  "
      ]
     },
     "execution_count": 22,
     "metadata": {},
     "output_type": "execute_result"
    }
   ],
   "source": [
    "df_num[df_num['Months_on_book'].isna()]"
   ]
  },
  {
   "cell_type": "code",
   "execution_count": 23,
   "metadata": {},
   "outputs": [],
   "source": [
    "import sklearn\n",
    "from sklearn.impute import SimpleImputer"
   ]
  },
  {
   "cell_type": "code",
   "execution_count": 24,
   "metadata": {},
   "outputs": [],
   "source": [
    "mob_imputer = SimpleImputer(missing_values = np.NaN, strategy = 'mean') # go definirame Simple imputer, stratgegijata\n",
    "df_num.Months_on_book = mob_imputer.fit_transform(df_num['Months_on_book'].values.reshape(-1,1))[:,0]"
   ]
  },
  {
   "cell_type": "code",
   "execution_count": 25,
   "metadata": {},
   "outputs": [
    {
     "data": {
      "text/plain": [
       "<AxesSubplot:ylabel='Frequency'>"
      ]
     },
     "execution_count": 25,
     "metadata": {},
     "output_type": "execute_result"
    },
    {
     "data": {
      "image/png": "[encoded data removed]",
      "text/plain": [
       "<Figure size 432x288 with 1 Axes>"
      ]
     },
     "metadata": {
      "needs_background": "light"
     },
     "output_type": "display_data"
    }
   ],
   "source": [
    "df_num.Months_on_book.value_counts(dropna = True)\n",
    "df_num.Months_on_book.plot.hist()"
   ]
  },
  {
   "cell_type": "code",
   "execution_count": 26,
   "metadata": {},
   "outputs": [
    {
     "data": {
      "text/html": [
       "<div>\n",
       "<style scoped>\n",
       "    .dataframe tbody tr th:only-of-type {\n",
       "        vertical-align: middle;\n",
       "    }\n",
       "\n",
       "    .dataframe tbody tr th {\n",
       "        vertical-align: top;\n",
       "    }\n",
       "\n",
       "    .dataframe thead th {\n",
       "        text-align: right;\n",
       "    }\n",
       "</style>\n",
       "<table border=\"1\" class=\"dataframe\">\n",
       "  <thead>\n",
       "    <tr style=\"text-align: right;\">\n",
       "      <th></th>\n",
       "      <th>Customer_Age</th>\n",
       "      <th>Dependent_count</th>\n",
       "      <th>Months_on_book</th>\n",
       "      <th>Total_Relationship_Count</th>\n",
       "      <th>Months_Inactive_12_mon</th>\n",
       "      <th>Contacts_Count_12_mon</th>\n",
       "      <th>Credit_Limit</th>\n",
       "      <th>Total_Revolving_Bal</th>\n",
       "      <th>Avg_Open_To_Buy</th>\n",
       "      <th>Total_Amt_Chng_Q4_Q1</th>\n",
       "      <th>Total_Trans_Amt</th>\n",
       "      <th>Total_Trans_Ct</th>\n",
       "      <th>Total_Ct_Chng_Q4_Q1</th>\n",
       "      <th>Avg_Utilization_Ratio</th>\n",
       "    </tr>\n",
       "  </thead>\n",
       "  <tbody>\n",
       "    <tr>\n",
       "      <th>0</th>\n",
       "      <td>45</td>\n",
       "      <td>3</td>\n",
       "      <td>39.0</td>\n",
       "      <td>5</td>\n",
       "      <td>1</td>\n",
       "      <td>3</td>\n",
       "      <td>12691.0</td>\n",
       "      <td>777</td>\n",
       "      <td>11914.0</td>\n",
       "      <td>1.335</td>\n",
       "      <td>1144</td>\n",
       "      <td>42</td>\n",
       "      <td>1.625</td>\n",
       "      <td>0.061</td>\n",
       "    </tr>\n",
       "    <tr>\n",
       "      <th>1</th>\n",
       "      <td>49</td>\n",
       "      <td>5</td>\n",
       "      <td>44.0</td>\n",
       "      <td>6</td>\n",
       "      <td>1</td>\n",
       "      <td>2</td>\n",
       "      <td>8256.0</td>\n",
       "      <td>864</td>\n",
       "      <td>7392.0</td>\n",
       "      <td>1.541</td>\n",
       "      <td>1291</td>\n",
       "      <td>33</td>\n",
       "      <td>3.714</td>\n",
       "      <td>0.105</td>\n",
       "    </tr>\n",
       "    <tr>\n",
       "      <th>2</th>\n",
       "      <td>51</td>\n",
       "      <td>3</td>\n",
       "      <td>36.0</td>\n",
       "      <td>4</td>\n",
       "      <td>1</td>\n",
       "      <td>0</td>\n",
       "      <td>3418.0</td>\n",
       "      <td>0</td>\n",
       "      <td>3418.0</td>\n",
       "      <td>2.594</td>\n",
       "      <td>1887</td>\n",
       "      <td>20</td>\n",
       "      <td>2.333</td>\n",
       "      <td>0.000</td>\n",
       "    </tr>\n",
       "    <tr>\n",
       "      <th>3</th>\n",
       "      <td>40</td>\n",
       "      <td>4</td>\n",
       "      <td>34.0</td>\n",
       "      <td>3</td>\n",
       "      <td>4</td>\n",
       "      <td>1</td>\n",
       "      <td>3313.0</td>\n",
       "      <td>2517</td>\n",
       "      <td>796.0</td>\n",
       "      <td>1.405</td>\n",
       "      <td>1171</td>\n",
       "      <td>20</td>\n",
       "      <td>2.333</td>\n",
       "      <td>0.760</td>\n",
       "    </tr>\n",
       "    <tr>\n",
       "      <th>4</th>\n",
       "      <td>40</td>\n",
       "      <td>3</td>\n",
       "      <td>21.0</td>\n",
       "      <td>5</td>\n",
       "      <td>1</td>\n",
       "      <td>0</td>\n",
       "      <td>4716.0</td>\n",
       "      <td>0</td>\n",
       "      <td>4716.0</td>\n",
       "      <td>2.175</td>\n",
       "      <td>816</td>\n",
       "      <td>28</td>\n",
       "      <td>2.500</td>\n",
       "      <td>0.000</td>\n",
       "    </tr>\n",
       "  </tbody>\n",
       "</table>\n",
       "</div>"
      ],
      "text/plain": [
       "   Customer_Age  Dependent_count  Months_on_book  Total_Relationship_Count  \\\n",
       "0            45                3            39.0                         5   \n",
       "1            49                5            44.0                         6   \n",
       "2            51                3            36.0                         4   \n",
       "3            40                4            34.0                         3   \n",
       "4            40                3            21.0                         5   \n",
       "\n",
       "   Months_Inactive_12_mon  Contacts_Count_12_mon  Credit_Limit  \\\n",
       "0                       1                      3       12691.0   \n",
       "1                       1                      2        8256.0   \n",
       "2                       1                      0        3418.0   \n",
       "3                       4                      1        3313.0   \n",
       "4                       1                      0        4716.0   \n",
       "\n",
       "   Total_Revolving_Bal  Avg_Open_To_Buy  Total_Amt_Chng_Q4_Q1  \\\n",
       "0                  777          11914.0                 1.335   \n",
       "1                  864           7392.0                 1.541   \n",
       "2                    0           3418.0                 2.594   \n",
       "3                 2517            796.0                 1.405   \n",
       "4                    0           4716.0                 2.175   \n",
       "\n",
       "   Total_Trans_Amt  Total_Trans_Ct  Total_Ct_Chng_Q4_Q1  Avg_Utilization_Ratio  \n",
       "0             1144              42                1.625                  0.061  \n",
       "1             1291              33                3.714                  0.105  \n",
       "2             1887              20                2.333                  0.000  \n",
       "3             1171              20                2.333                  0.760  \n",
       "4              816              28                2.500                  0.000  "
      ]
     },
     "execution_count": 26,
     "metadata": {},
     "output_type": "execute_result"
    }
   ],
   "source": [
    "df_num.head()"
   ]
  },
  {
   "cell_type": "code",
   "execution_count": 27,
   "metadata": {},
   "outputs": [
    {
     "data": {
      "text/plain": [
       "Customer_Age                   AxesSubplot(0.125,0.125;0.0466867x0.755)\n",
       "Dependent_count             AxesSubplot(0.181024,0.125;0.0466867x0.755)\n",
       "Months_on_book              AxesSubplot(0.237048,0.125;0.0466867x0.755)\n",
       "Total_Relationship_Count    AxesSubplot(0.293072,0.125;0.0466867x0.755)\n",
       "Months_Inactive_12_mon      AxesSubplot(0.349096,0.125;0.0466867x0.755)\n",
       "Contacts_Count_12_mon        AxesSubplot(0.40512,0.125;0.0466867x0.755)\n",
       "Credit_Limit                AxesSubplot(0.461145,0.125;0.0466867x0.755)\n",
       "Total_Revolving_Bal         AxesSubplot(0.517169,0.125;0.0466867x0.755)\n",
       "Avg_Open_To_Buy             AxesSubplot(0.573193,0.125;0.0466867x0.755)\n",
       "Total_Amt_Chng_Q4_Q1        AxesSubplot(0.629217,0.125;0.0466867x0.755)\n",
       "Total_Trans_Amt             AxesSubplot(0.685241,0.125;0.0466867x0.755)\n",
       "Total_Trans_Ct              AxesSubplot(0.741265,0.125;0.0466867x0.755)\n",
       "Total_Ct_Chng_Q4_Q1         AxesSubplot(0.797289,0.125;0.0466867x0.755)\n",
       "Avg_Utilization_Ratio       AxesSubplot(0.853313,0.125;0.0466867x0.755)\n",
       "dtype: object"
      ]
     },
     "execution_count": 27,
     "metadata": {},
     "output_type": "execute_result"
    },
    {
     "data": {
      "image/png": "[encoded data removed]",
      "text/plain": [
       "<Figure size 1440x576 with 14 Axes>"
      ]
     },
     "metadata": {
      "needs_background": "light"
     },
     "output_type": "display_data"
    }
   ],
   "source": [
    "df_num.plot(kind='box',subplots = True, figsize=(20,8), fontsize = 7, sharex = False)"
   ]
  },
  {
   "cell_type": "code",
   "execution_count": 28,
   "metadata": {},
   "outputs": [],
   "source": [
    "#'Customer_Age', 'Dependent_count', 'Months_on_book', 'Total_Relationship_Count', 'Months_Inactive_12_mon', 'Contacts_Count_12_mon', 'Credit_Limit', 'Total_Revolving_Bal',\n",
    "#       'Avg_Open_To_Buy', 'Total_Amt_Chng_Q4_Q1', 'Total_Trans_Amt', 'Total_Trans_Ct', 'Total_Ct_Chng_Q4_Q1', 'Avg_Utilization_Ratio'"
   ]
  },
  {
   "cell_type": "code",
   "execution_count": 29,
   "metadata": {},
   "outputs": [
    {
     "data": {
      "text/html": [
       "<div>\n",
       "<style scoped>\n",
       "    .dataframe tbody tr th:only-of-type {\n",
       "        vertical-align: middle;\n",
       "    }\n",
       "\n",
       "    .dataframe tbody tr th {\n",
       "        vertical-align: top;\n",
       "    }\n",
       "\n",
       "    .dataframe thead th {\n",
       "        text-align: right;\n",
       "    }\n",
       "</style>\n",
       "<table border=\"1\" class=\"dataframe\">\n",
       "  <thead>\n",
       "    <tr style=\"text-align: right;\">\n",
       "      <th></th>\n",
       "      <th>Customer_Age</th>\n",
       "      <th>Dependent_count</th>\n",
       "      <th>Months_on_book</th>\n",
       "      <th>Total_Relationship_Count</th>\n",
       "      <th>Months_Inactive_12_mon</th>\n",
       "      <th>Contacts_Count_12_mon</th>\n",
       "      <th>Credit_Limit</th>\n",
       "      <th>Total_Revolving_Bal</th>\n",
       "      <th>Avg_Open_To_Buy</th>\n",
       "      <th>Total_Amt_Chng_Q4_Q1</th>\n",
       "      <th>Total_Trans_Amt</th>\n",
       "      <th>Total_Trans_Ct</th>\n",
       "      <th>Total_Ct_Chng_Q4_Q1</th>\n",
       "      <th>Avg_Utilization_Ratio</th>\n",
       "    </tr>\n",
       "  </thead>\n",
       "  <tbody>\n",
       "    <tr>\n",
       "      <th>0</th>\n",
       "      <td>45</td>\n",
       "      <td>3</td>\n",
       "      <td>39.0</td>\n",
       "      <td>5</td>\n",
       "      <td>1</td>\n",
       "      <td>3</td>\n",
       "      <td>12691.0</td>\n",
       "      <td>777</td>\n",
       "      <td>11914.0</td>\n",
       "      <td>1.335</td>\n",
       "      <td>1144</td>\n",
       "      <td>42</td>\n",
       "      <td>1.625</td>\n",
       "      <td>0.061</td>\n",
       "    </tr>\n",
       "    <tr>\n",
       "      <th>1</th>\n",
       "      <td>49</td>\n",
       "      <td>5</td>\n",
       "      <td>44.0</td>\n",
       "      <td>6</td>\n",
       "      <td>1</td>\n",
       "      <td>2</td>\n",
       "      <td>8256.0</td>\n",
       "      <td>864</td>\n",
       "      <td>7392.0</td>\n",
       "      <td>1.541</td>\n",
       "      <td>1291</td>\n",
       "      <td>33</td>\n",
       "      <td>3.714</td>\n",
       "      <td>0.105</td>\n",
       "    </tr>\n",
       "    <tr>\n",
       "      <th>2</th>\n",
       "      <td>51</td>\n",
       "      <td>3</td>\n",
       "      <td>36.0</td>\n",
       "      <td>4</td>\n",
       "      <td>1</td>\n",
       "      <td>0</td>\n",
       "      <td>3418.0</td>\n",
       "      <td>0</td>\n",
       "      <td>3418.0</td>\n",
       "      <td>2.594</td>\n",
       "      <td>1887</td>\n",
       "      <td>20</td>\n",
       "      <td>2.333</td>\n",
       "      <td>0.000</td>\n",
       "    </tr>\n",
       "    <tr>\n",
       "      <th>3</th>\n",
       "      <td>40</td>\n",
       "      <td>4</td>\n",
       "      <td>34.0</td>\n",
       "      <td>3</td>\n",
       "      <td>4</td>\n",
       "      <td>1</td>\n",
       "      <td>3313.0</td>\n",
       "      <td>2517</td>\n",
       "      <td>796.0</td>\n",
       "      <td>1.405</td>\n",
       "      <td>1171</td>\n",
       "      <td>20</td>\n",
       "      <td>2.333</td>\n",
       "      <td>0.760</td>\n",
       "    </tr>\n",
       "    <tr>\n",
       "      <th>4</th>\n",
       "      <td>40</td>\n",
       "      <td>3</td>\n",
       "      <td>21.0</td>\n",
       "      <td>5</td>\n",
       "      <td>1</td>\n",
       "      <td>0</td>\n",
       "      <td>4716.0</td>\n",
       "      <td>0</td>\n",
       "      <td>4716.0</td>\n",
       "      <td>2.175</td>\n",
       "      <td>816</td>\n",
       "      <td>28</td>\n",
       "      <td>2.500</td>\n",
       "      <td>0.000</td>\n",
       "    </tr>\n",
       "  </tbody>\n",
       "</table>\n",
       "</div>"
      ],
      "text/plain": [
       "   Customer_Age  Dependent_count  Months_on_book  Total_Relationship_Count  \\\n",
       "0            45                3            39.0                         5   \n",
       "1            49                5            44.0                         6   \n",
       "2            51                3            36.0                         4   \n",
       "3            40                4            34.0                         3   \n",
       "4            40                3            21.0                         5   \n",
       "\n",
       "   Months_Inactive_12_mon  Contacts_Count_12_mon  Credit_Limit  \\\n",
       "0                       1                      3       12691.0   \n",
       "1                       1                      2        8256.0   \n",
       "2                       1                      0        3418.0   \n",
       "3                       4                      1        3313.0   \n",
       "4                       1                      0        4716.0   \n",
       "\n",
       "   Total_Revolving_Bal  Avg_Open_To_Buy  Total_Amt_Chng_Q4_Q1  \\\n",
       "0                  777          11914.0                 1.335   \n",
       "1                  864           7392.0                 1.541   \n",
       "2                    0           3418.0                 2.594   \n",
       "3                 2517            796.0                 1.405   \n",
       "4                    0           4716.0                 2.175   \n",
       "\n",
       "   Total_Trans_Amt  Total_Trans_Ct  Total_Ct_Chng_Q4_Q1  Avg_Utilization_Ratio  \n",
       "0             1144              42                1.625                  0.061  \n",
       "1             1291              33                3.714                  0.105  \n",
       "2             1887              20                2.333                  0.000  \n",
       "3             1171              20                2.333                  0.760  \n",
       "4              816              28                2.500                  0.000  "
      ]
     },
     "execution_count": 29,
     "metadata": {},
     "output_type": "execute_result"
    }
   ],
   "source": [
    "df_num_rs = df_num.copy()\n",
    "df_num_rs.head()"
   ]
  },
  {
   "cell_type": "code",
   "execution_count": 30,
   "metadata": {},
   "outputs": [],
   "source": [
    "from sklearn import preprocessing\n",
    "from sklearn.preprocessing import RobustScaler # za varijablite so outleeri\n",
    "\n",
    "robscal = RobustScaler()\n"
   ]
  },
  {
   "cell_type": "code",
   "execution_count": 31,
   "metadata": {},
   "outputs": [],
   "source": [
    "from sklearn import preprocessing\n",
    "from sklearn.preprocessing import RobustScaler # za varijablite so outleeri\n",
    "\n",
    "robscal = RobustScaler()\n",
    "columnsO = ['Months_on_book','Credit_Limit', 'Avg_Open_To_Buy', 'Total_Amt_Chng_Q4_Q1', 'Total_Trans_Amt', 'Total_Ct_Chng_Q4_Q1']\n",
    "    \n",
    "df_num_rs[columnsO] = robscal.fit_transform(df_num_rs[columnsO])"
   ]
  },
  {
   "cell_type": "code",
   "execution_count": 32,
   "metadata": {
    "scrolled": true
   },
   "outputs": [
    {
     "data": {
      "text/plain": [
       "Customer_Age                   AxesSubplot(0.125,0.125;0.0466867x0.755)\n",
       "Dependent_count             AxesSubplot(0.181024,0.125;0.0466867x0.755)\n",
       "Months_on_book              AxesSubplot(0.237048,0.125;0.0466867x0.755)\n",
       "Total_Relationship_Count    AxesSubplot(0.293072,0.125;0.0466867x0.755)\n",
       "Months_Inactive_12_mon      AxesSubplot(0.349096,0.125;0.0466867x0.755)\n",
       "Contacts_Count_12_mon        AxesSubplot(0.40512,0.125;0.0466867x0.755)\n",
       "Credit_Limit                AxesSubplot(0.461145,0.125;0.0466867x0.755)\n",
       "Total_Revolving_Bal         AxesSubplot(0.517169,0.125;0.0466867x0.755)\n",
       "Avg_Open_To_Buy             AxesSubplot(0.573193,0.125;0.0466867x0.755)\n",
       "Total_Amt_Chng_Q4_Q1        AxesSubplot(0.629217,0.125;0.0466867x0.755)\n",
       "Total_Trans_Amt             AxesSubplot(0.685241,0.125;0.0466867x0.755)\n",
       "Total_Trans_Ct              AxesSubplot(0.741265,0.125;0.0466867x0.755)\n",
       "Total_Ct_Chng_Q4_Q1         AxesSubplot(0.797289,0.125;0.0466867x0.755)\n",
       "Avg_Utilization_Ratio       AxesSubplot(0.853313,0.125;0.0466867x0.755)\n",
       "dtype: object"
      ]
     },
     "execution_count": 32,
     "metadata": {},
     "output_type": "execute_result"
    },
    {
     "data": {
      "image/png": "[encoded data removed]",
      "text/plain": [
       "<Figure size 1440x576 with 14 Axes>"
      ]
     },
     "metadata": {
      "needs_background": "light"
     },
     "output_type": "display_data"
    }
   ],
   "source": [
    "df_num_rs.plot(kind='box',subplots = True, figsize=(20,8), fontsize = 7, sharex = False)"
   ]
  },
  {
   "cell_type": "code",
   "execution_count": 33,
   "metadata": {},
   "outputs": [],
   "source": [
    "from sklearn.preprocessing import StandardScaler # za varijablite bez outleeri\n",
    "standscal = StandardScaler()"
   ]
  },
  {
   "cell_type": "code",
   "execution_count": 34,
   "metadata": {},
   "outputs": [],
   "source": [
    "columnsNO = ['Customer_Age', 'Dependent_count', 'Total_Relationship_Count', 'Months_Inactive_12_mon', 'Contacts_Count_12_mon',\n",
    "            'Total_Revolving_Bal', 'Total_Trans_Ct', 'Avg_Utilization_Ratio']\n",
    "\n",
    "df_num_rs[columnsNO] = standscal.fit_transform(df_num_rs[columnsNO])"
   ]
  },
  {
   "cell_type": "code",
   "execution_count": 35,
   "metadata": {},
   "outputs": [
    {
     "data": {
      "text/plain": [
       "Customer_Age                   AxesSubplot(0.125,0.125;0.0466867x0.755)\n",
       "Dependent_count             AxesSubplot(0.181024,0.125;0.0466867x0.755)\n",
       "Months_on_book              AxesSubplot(0.237048,0.125;0.0466867x0.755)\n",
       "Total_Relationship_Count    AxesSubplot(0.293072,0.125;0.0466867x0.755)\n",
       "Months_Inactive_12_mon      AxesSubplot(0.349096,0.125;0.0466867x0.755)\n",
       "Contacts_Count_12_mon        AxesSubplot(0.40512,0.125;0.0466867x0.755)\n",
       "Credit_Limit                AxesSubplot(0.461145,0.125;0.0466867x0.755)\n",
       "Total_Revolving_Bal         AxesSubplot(0.517169,0.125;0.0466867x0.755)\n",
       "Avg_Open_To_Buy             AxesSubplot(0.573193,0.125;0.0466867x0.755)\n",
       "Total_Amt_Chng_Q4_Q1        AxesSubplot(0.629217,0.125;0.0466867x0.755)\n",
       "Total_Trans_Amt             AxesSubplot(0.685241,0.125;0.0466867x0.755)\n",
       "Total_Trans_Ct              AxesSubplot(0.741265,0.125;0.0466867x0.755)\n",
       "Total_Ct_Chng_Q4_Q1         AxesSubplot(0.797289,0.125;0.0466867x0.755)\n",
       "Avg_Utilization_Ratio       AxesSubplot(0.853313,0.125;0.0466867x0.755)\n",
       "dtype: object"
      ]
     },
     "execution_count": 35,
     "metadata": {},
     "output_type": "execute_result"
    },
    {
     "data": {
      "image/png": "[encoded data removed]",
      "text/plain": [
       "<Figure size 1440x576 with 14 Axes>"
      ]
     },
     "metadata": {
      "needs_background": "light"
     },
     "output_type": "display_data"
    }
   ],
   "source": [
    "df_num_rs.plot(kind='box',subplots = True, figsize=(20,8), fontsize = 7, sharex = False)"
   ]
  },
  {
   "cell_type": "code",
   "execution_count": 36,
   "metadata": {
    "scrolled": true
   },
   "outputs": [
    {
     "data": {
      "text/html": [
       "<div>\n",
       "<style scoped>\n",
       "    .dataframe tbody tr th:only-of-type {\n",
       "        vertical-align: middle;\n",
       "    }\n",
       "\n",
       "    .dataframe tbody tr th {\n",
       "        vertical-align: top;\n",
       "    }\n",
       "\n",
       "    .dataframe thead th {\n",
       "        text-align: right;\n",
       "    }\n",
       "</style>\n",
       "<table border=\"1\" class=\"dataframe\">\n",
       "  <thead>\n",
       "    <tr style=\"text-align: right;\">\n",
       "      <th></th>\n",
       "      <th>Gender</th>\n",
       "      <th>Education_Level</th>\n",
       "      <th>Marital_Status</th>\n",
       "      <th>Income_Category</th>\n",
       "      <th>Card_Category</th>\n",
       "    </tr>\n",
       "  </thead>\n",
       "  <tbody>\n",
       "    <tr>\n",
       "      <th>0</th>\n",
       "      <td>M</td>\n",
       "      <td>High School</td>\n",
       "      <td>Married</td>\n",
       "      <td>$60K - $80K</td>\n",
       "      <td>Blue</td>\n",
       "    </tr>\n",
       "    <tr>\n",
       "      <th>1</th>\n",
       "      <td>F</td>\n",
       "      <td>Graduate</td>\n",
       "      <td>Single</td>\n",
       "      <td>Less than $40K</td>\n",
       "      <td>Blue</td>\n",
       "    </tr>\n",
       "    <tr>\n",
       "      <th>2</th>\n",
       "      <td>M</td>\n",
       "      <td>Graduate</td>\n",
       "      <td>Married</td>\n",
       "      <td>$80K - $120K</td>\n",
       "      <td>Blue</td>\n",
       "    </tr>\n",
       "    <tr>\n",
       "      <th>3</th>\n",
       "      <td>F</td>\n",
       "      <td>High School</td>\n",
       "      <td>Unknown</td>\n",
       "      <td>Less than $40K</td>\n",
       "      <td>Blue</td>\n",
       "    </tr>\n",
       "    <tr>\n",
       "      <th>4</th>\n",
       "      <td>M</td>\n",
       "      <td>Uneducated</td>\n",
       "      <td>Married</td>\n",
       "      <td>$60K - $80K</td>\n",
       "      <td>Blue</td>\n",
       "    </tr>\n",
       "    <tr>\n",
       "      <th>...</th>\n",
       "      <td>...</td>\n",
       "      <td>...</td>\n",
       "      <td>...</td>\n",
       "      <td>...</td>\n",
       "      <td>...</td>\n",
       "    </tr>\n",
       "    <tr>\n",
       "      <th>10122</th>\n",
       "      <td>M</td>\n",
       "      <td>Graduate</td>\n",
       "      <td>Single</td>\n",
       "      <td>$40K - $60K</td>\n",
       "      <td>Blue</td>\n",
       "    </tr>\n",
       "    <tr>\n",
       "      <th>10123</th>\n",
       "      <td>M</td>\n",
       "      <td>Unknown</td>\n",
       "      <td>Divorced</td>\n",
       "      <td>$40K - $60K</td>\n",
       "      <td>Blue</td>\n",
       "    </tr>\n",
       "    <tr>\n",
       "      <th>10124</th>\n",
       "      <td>F</td>\n",
       "      <td>High School</td>\n",
       "      <td>Married</td>\n",
       "      <td>Less than $40K</td>\n",
       "      <td>Blue</td>\n",
       "    </tr>\n",
       "    <tr>\n",
       "      <th>10125</th>\n",
       "      <td>M</td>\n",
       "      <td>Graduate</td>\n",
       "      <td>Unknown</td>\n",
       "      <td>$40K - $60K</td>\n",
       "      <td>Blue</td>\n",
       "    </tr>\n",
       "    <tr>\n",
       "      <th>10126</th>\n",
       "      <td>F</td>\n",
       "      <td>Graduate</td>\n",
       "      <td>Married</td>\n",
       "      <td>Less than $40K</td>\n",
       "      <td>Silver</td>\n",
       "    </tr>\n",
       "  </tbody>\n",
       "</table>\n",
       "<p>10127 rows × 5 columns</p>\n",
       "</div>"
      ],
      "text/plain": [
       "      Gender Education_Level Marital_Status Income_Category Card_Category\n",
       "0          M     High School        Married     $60K - $80K          Blue\n",
       "1          F        Graduate         Single  Less than $40K          Blue\n",
       "2          M        Graduate        Married    $80K - $120K          Blue\n",
       "3          F     High School        Unknown  Less than $40K          Blue\n",
       "4          M      Uneducated        Married     $60K - $80K          Blue\n",
       "...      ...             ...            ...             ...           ...\n",
       "10122      M        Graduate         Single     $40K - $60K          Blue\n",
       "10123      M         Unknown       Divorced     $40K - $60K          Blue\n",
       "10124      F     High School        Married  Less than $40K          Blue\n",
       "10125      M        Graduate        Unknown     $40K - $60K          Blue\n",
       "10126      F        Graduate        Married  Less than $40K        Silver\n",
       "\n",
       "[10127 rows x 5 columns]"
      ]
     },
     "execution_count": 36,
     "metadata": {},
     "output_type": "execute_result"
    }
   ],
   "source": [
    "df_cat"
   ]
  },
  {
   "cell_type": "code",
   "execution_count": 37,
   "metadata": {},
   "outputs": [],
   "source": [
    "#df.to_csv(\"preprocessed_dataset1.csv\") od Kiril"
   ]
  },
  {
   "cell_type": "markdown",
   "metadata": {},
   "source": [
    "### Od tuka pocnuvam jas/  Vuk\n",
    "\n",
    "### One hot Encoding"
   ]
  },
  {
   "cell_type": "code",
   "execution_count": 38,
   "metadata": {},
   "outputs": [],
   "source": [
    "hot_features = ['Gender', 'Education_Level', 'Marital_Status', 'Income_Category',\n",
    "                'Card_Category']"
   ]
  },
  {
   "cell_type": "code",
   "execution_count": 39,
   "metadata": {},
   "outputs": [
    {
     "data": {
      "text/html": [
       "<div>\n",
       "<style scoped>\n",
       "    .dataframe tbody tr th:only-of-type {\n",
       "        vertical-align: middle;\n",
       "    }\n",
       "\n",
       "    .dataframe tbody tr th {\n",
       "        vertical-align: top;\n",
       "    }\n",
       "\n",
       "    .dataframe thead th {\n",
       "        text-align: right;\n",
       "    }\n",
       "</style>\n",
       "<table border=\"1\" class=\"dataframe\">\n",
       "  <thead>\n",
       "    <tr style=\"text-align: right;\">\n",
       "      <th></th>\n",
       "      <th>Gender</th>\n",
       "      <th>Education_Level</th>\n",
       "      <th>Marital_Status</th>\n",
       "      <th>Income_Category</th>\n",
       "      <th>Card_Category</th>\n",
       "      <th>0</th>\n",
       "      <th>1</th>\n",
       "      <th>2</th>\n",
       "      <th>3</th>\n",
       "      <th>4</th>\n",
       "      <th>...</th>\n",
       "      <th>13</th>\n",
       "      <th>14</th>\n",
       "      <th>15</th>\n",
       "      <th>16</th>\n",
       "      <th>17</th>\n",
       "      <th>18</th>\n",
       "      <th>19</th>\n",
       "      <th>20</th>\n",
       "      <th>21</th>\n",
       "      <th>22</th>\n",
       "    </tr>\n",
       "  </thead>\n",
       "  <tbody>\n",
       "    <tr>\n",
       "      <th>0</th>\n",
       "      <td>M</td>\n",
       "      <td>High School</td>\n",
       "      <td>Married</td>\n",
       "      <td>$60K - $80K</td>\n",
       "      <td>Blue</td>\n",
       "      <td>0.0</td>\n",
       "      <td>1.0</td>\n",
       "      <td>0.0</td>\n",
       "      <td>0.0</td>\n",
       "      <td>0.0</td>\n",
       "      <td>...</td>\n",
       "      <td>0.0</td>\n",
       "      <td>0.0</td>\n",
       "      <td>1.0</td>\n",
       "      <td>0.0</td>\n",
       "      <td>0.0</td>\n",
       "      <td>0.0</td>\n",
       "      <td>1.0</td>\n",
       "      <td>0.0</td>\n",
       "      <td>0.0</td>\n",
       "      <td>0.0</td>\n",
       "    </tr>\n",
       "    <tr>\n",
       "      <th>1</th>\n",
       "      <td>F</td>\n",
       "      <td>Graduate</td>\n",
       "      <td>Single</td>\n",
       "      <td>Less than $40K</td>\n",
       "      <td>Blue</td>\n",
       "      <td>1.0</td>\n",
       "      <td>0.0</td>\n",
       "      <td>0.0</td>\n",
       "      <td>0.0</td>\n",
       "      <td>1.0</td>\n",
       "      <td>...</td>\n",
       "      <td>0.0</td>\n",
       "      <td>0.0</td>\n",
       "      <td>0.0</td>\n",
       "      <td>0.0</td>\n",
       "      <td>1.0</td>\n",
       "      <td>0.0</td>\n",
       "      <td>1.0</td>\n",
       "      <td>0.0</td>\n",
       "      <td>0.0</td>\n",
       "      <td>0.0</td>\n",
       "    </tr>\n",
       "    <tr>\n",
       "      <th>2</th>\n",
       "      <td>M</td>\n",
       "      <td>Graduate</td>\n",
       "      <td>Married</td>\n",
       "      <td>$80K - $120K</td>\n",
       "      <td>Blue</td>\n",
       "      <td>0.0</td>\n",
       "      <td>1.0</td>\n",
       "      <td>0.0</td>\n",
       "      <td>0.0</td>\n",
       "      <td>1.0</td>\n",
       "      <td>...</td>\n",
       "      <td>0.0</td>\n",
       "      <td>0.0</td>\n",
       "      <td>0.0</td>\n",
       "      <td>1.0</td>\n",
       "      <td>0.0</td>\n",
       "      <td>0.0</td>\n",
       "      <td>1.0</td>\n",
       "      <td>0.0</td>\n",
       "      <td>0.0</td>\n",
       "      <td>0.0</td>\n",
       "    </tr>\n",
       "    <tr>\n",
       "      <th>3</th>\n",
       "      <td>F</td>\n",
       "      <td>High School</td>\n",
       "      <td>Unknown</td>\n",
       "      <td>Less than $40K</td>\n",
       "      <td>Blue</td>\n",
       "      <td>1.0</td>\n",
       "      <td>0.0</td>\n",
       "      <td>0.0</td>\n",
       "      <td>0.0</td>\n",
       "      <td>0.0</td>\n",
       "      <td>...</td>\n",
       "      <td>0.0</td>\n",
       "      <td>0.0</td>\n",
       "      <td>0.0</td>\n",
       "      <td>0.0</td>\n",
       "      <td>1.0</td>\n",
       "      <td>0.0</td>\n",
       "      <td>1.0</td>\n",
       "      <td>0.0</td>\n",
       "      <td>0.0</td>\n",
       "      <td>0.0</td>\n",
       "    </tr>\n",
       "    <tr>\n",
       "      <th>4</th>\n",
       "      <td>M</td>\n",
       "      <td>Uneducated</td>\n",
       "      <td>Married</td>\n",
       "      <td>$60K - $80K</td>\n",
       "      <td>Blue</td>\n",
       "      <td>0.0</td>\n",
       "      <td>1.0</td>\n",
       "      <td>0.0</td>\n",
       "      <td>0.0</td>\n",
       "      <td>0.0</td>\n",
       "      <td>...</td>\n",
       "      <td>0.0</td>\n",
       "      <td>0.0</td>\n",
       "      <td>1.0</td>\n",
       "      <td>0.0</td>\n",
       "      <td>0.0</td>\n",
       "      <td>0.0</td>\n",
       "      <td>1.0</td>\n",
       "      <td>0.0</td>\n",
       "      <td>0.0</td>\n",
       "      <td>0.0</td>\n",
       "    </tr>\n",
       "    <tr>\n",
       "      <th>...</th>\n",
       "      <td>...</td>\n",
       "      <td>...</td>\n",
       "      <td>...</td>\n",
       "      <td>...</td>\n",
       "      <td>...</td>\n",
       "      <td>...</td>\n",
       "      <td>...</td>\n",
       "      <td>...</td>\n",
       "      <td>...</td>\n",
       "      <td>...</td>\n",
       "      <td>...</td>\n",
       "      <td>...</td>\n",
       "      <td>...</td>\n",
       "      <td>...</td>\n",
       "      <td>...</td>\n",
       "      <td>...</td>\n",
       "      <td>...</td>\n",
       "      <td>...</td>\n",
       "      <td>...</td>\n",
       "      <td>...</td>\n",
       "      <td>...</td>\n",
       "    </tr>\n",
       "    <tr>\n",
       "      <th>10122</th>\n",
       "      <td>M</td>\n",
       "      <td>Graduate</td>\n",
       "      <td>Single</td>\n",
       "      <td>$40K - $60K</td>\n",
       "      <td>Blue</td>\n",
       "      <td>0.0</td>\n",
       "      <td>1.0</td>\n",
       "      <td>0.0</td>\n",
       "      <td>0.0</td>\n",
       "      <td>1.0</td>\n",
       "      <td>...</td>\n",
       "      <td>0.0</td>\n",
       "      <td>1.0</td>\n",
       "      <td>0.0</td>\n",
       "      <td>0.0</td>\n",
       "      <td>0.0</td>\n",
       "      <td>0.0</td>\n",
       "      <td>1.0</td>\n",
       "      <td>0.0</td>\n",
       "      <td>0.0</td>\n",
       "      <td>0.0</td>\n",
       "    </tr>\n",
       "    <tr>\n",
       "      <th>10123</th>\n",
       "      <td>M</td>\n",
       "      <td>Unknown</td>\n",
       "      <td>Divorced</td>\n",
       "      <td>$40K - $60K</td>\n",
       "      <td>Blue</td>\n",
       "      <td>0.0</td>\n",
       "      <td>1.0</td>\n",
       "      <td>0.0</td>\n",
       "      <td>0.0</td>\n",
       "      <td>0.0</td>\n",
       "      <td>...</td>\n",
       "      <td>0.0</td>\n",
       "      <td>1.0</td>\n",
       "      <td>0.0</td>\n",
       "      <td>0.0</td>\n",
       "      <td>0.0</td>\n",
       "      <td>0.0</td>\n",
       "      <td>1.0</td>\n",
       "      <td>0.0</td>\n",
       "      <td>0.0</td>\n",
       "      <td>0.0</td>\n",
       "    </tr>\n",
       "    <tr>\n",
       "      <th>10124</th>\n",
       "      <td>F</td>\n",
       "      <td>High School</td>\n",
       "      <td>Married</td>\n",
       "      <td>Less than $40K</td>\n",
       "      <td>Blue</td>\n",
       "      <td>1.0</td>\n",
       "      <td>0.0</td>\n",
       "      <td>0.0</td>\n",
       "      <td>0.0</td>\n",
       "      <td>0.0</td>\n",
       "      <td>...</td>\n",
       "      <td>0.0</td>\n",
       "      <td>0.0</td>\n",
       "      <td>0.0</td>\n",
       "      <td>0.0</td>\n",
       "      <td>1.0</td>\n",
       "      <td>0.0</td>\n",
       "      <td>1.0</td>\n",
       "      <td>0.0</td>\n",
       "      <td>0.0</td>\n",
       "      <td>0.0</td>\n",
       "    </tr>\n",
       "    <tr>\n",
       "      <th>10125</th>\n",
       "      <td>M</td>\n",
       "      <td>Graduate</td>\n",
       "      <td>Unknown</td>\n",
       "      <td>$40K - $60K</td>\n",
       "      <td>Blue</td>\n",
       "      <td>0.0</td>\n",
       "      <td>1.0</td>\n",
       "      <td>0.0</td>\n",
       "      <td>0.0</td>\n",
       "      <td>1.0</td>\n",
       "      <td>...</td>\n",
       "      <td>0.0</td>\n",
       "      <td>1.0</td>\n",
       "      <td>0.0</td>\n",
       "      <td>0.0</td>\n",
       "      <td>0.0</td>\n",
       "      <td>0.0</td>\n",
       "      <td>1.0</td>\n",
       "      <td>0.0</td>\n",
       "      <td>0.0</td>\n",
       "      <td>0.0</td>\n",
       "    </tr>\n",
       "    <tr>\n",
       "      <th>10126</th>\n",
       "      <td>F</td>\n",
       "      <td>Graduate</td>\n",
       "      <td>Married</td>\n",
       "      <td>Less than $40K</td>\n",
       "      <td>Silver</td>\n",
       "      <td>1.0</td>\n",
       "      <td>0.0</td>\n",
       "      <td>0.0</td>\n",
       "      <td>0.0</td>\n",
       "      <td>1.0</td>\n",
       "      <td>...</td>\n",
       "      <td>0.0</td>\n",
       "      <td>0.0</td>\n",
       "      <td>0.0</td>\n",
       "      <td>0.0</td>\n",
       "      <td>1.0</td>\n",
       "      <td>0.0</td>\n",
       "      <td>0.0</td>\n",
       "      <td>0.0</td>\n",
       "      <td>0.0</td>\n",
       "      <td>1.0</td>\n",
       "    </tr>\n",
       "  </tbody>\n",
       "</table>\n",
       "<p>10127 rows × 28 columns</p>\n",
       "</div>"
      ],
      "text/plain": [
       "      Gender Education_Level Marital_Status Income_Category Card_Category  \\\n",
       "0          M     High School        Married     $60K - $80K          Blue   \n",
       "1          F        Graduate         Single  Less than $40K          Blue   \n",
       "2          M        Graduate        Married    $80K - $120K          Blue   \n",
       "3          F     High School        Unknown  Less than $40K          Blue   \n",
       "4          M      Uneducated        Married     $60K - $80K          Blue   \n",
       "...      ...             ...            ...             ...           ...   \n",
       "10122      M        Graduate         Single     $40K - $60K          Blue   \n",
       "10123      M         Unknown       Divorced     $40K - $60K          Blue   \n",
       "10124      F     High School        Married  Less than $40K          Blue   \n",
       "10125      M        Graduate        Unknown     $40K - $60K          Blue   \n",
       "10126      F        Graduate        Married  Less than $40K        Silver   \n",
       "\n",
       "         0    1    2    3    4  ...   13   14   15   16   17   18   19   20  \\\n",
       "0      0.0  1.0  0.0  0.0  0.0  ...  0.0  0.0  1.0  0.0  0.0  0.0  1.0  0.0   \n",
       "1      1.0  0.0  0.0  0.0  1.0  ...  0.0  0.0  0.0  0.0  1.0  0.0  1.0  0.0   \n",
       "2      0.0  1.0  0.0  0.0  1.0  ...  0.0  0.0  0.0  1.0  0.0  0.0  1.0  0.0   \n",
       "3      1.0  0.0  0.0  0.0  0.0  ...  0.0  0.0  0.0  0.0  1.0  0.0  1.0  0.0   \n",
       "4      0.0  1.0  0.0  0.0  0.0  ...  0.0  0.0  1.0  0.0  0.0  0.0  1.0  0.0   \n",
       "...    ...  ...  ...  ...  ...  ...  ...  ...  ...  ...  ...  ...  ...  ...   \n",
       "10122  0.0  1.0  0.0  0.0  1.0  ...  0.0  1.0  0.0  0.0  0.0  0.0  1.0  0.0   \n",
       "10123  0.0  1.0  0.0  0.0  0.0  ...  0.0  1.0  0.0  0.0  0.0  0.0  1.0  0.0   \n",
       "10124  1.0  0.0  0.0  0.0  0.0  ...  0.0  0.0  0.0  0.0  1.0  0.0  1.0  0.0   \n",
       "10125  0.0  1.0  0.0  0.0  1.0  ...  0.0  1.0  0.0  0.0  0.0  0.0  1.0  0.0   \n",
       "10126  1.0  0.0  0.0  0.0  1.0  ...  0.0  0.0  0.0  0.0  1.0  0.0  0.0  0.0   \n",
       "\n",
       "        21   22  \n",
       "0      0.0  0.0  \n",
       "1      0.0  0.0  \n",
       "2      0.0  0.0  \n",
       "3      0.0  0.0  \n",
       "4      0.0  0.0  \n",
       "...    ...  ...  \n",
       "10122  0.0  0.0  \n",
       "10123  0.0  0.0  \n",
       "10124  0.0  0.0  \n",
       "10125  0.0  0.0  \n",
       "10126  0.0  1.0  \n",
       "\n",
       "[10127 rows x 28 columns]"
      ]
     },
     "execution_count": 39,
     "metadata": {},
     "output_type": "execute_result"
    }
   ],
   "source": [
    "#One Hot Encoder\n",
    "from sklearn.preprocessing import OneHotEncoder\n",
    "\n",
    "transformer2 = OneHotEncoder(sparse=False) #Will return sparse matrix if set True else will return an array\n",
    "\n",
    "one_hot_encoder = transformer2.fit_transform(df_cat[hot_features])\n",
    "\n",
    "df_cat = pd.concat([df_cat, pd.DataFrame(one_hot_encoder)], axis='columns')\n",
    "df_cat"
   ]
  },
  {
   "cell_type": "code",
   "execution_count": 40,
   "metadata": {},
   "outputs": [
    {
     "data": {
      "text/plain": [
       "(10127, 42)"
      ]
     },
     "execution_count": 40,
     "metadata": {},
     "output_type": "execute_result"
    }
   ],
   "source": [
    "frames = [df_num_rs, df_cat]  # spojuva koloni\n",
    "\n",
    "X1 = pd.concat(frames, axis =1)\n",
    "X1.shape"
   ]
  },
  {
   "cell_type": "code",
   "execution_count": 41,
   "metadata": {},
   "outputs": [
    {
     "data": {
      "text/plain": [
       "Index([            'Customer_Age',          'Dependent_count',\n",
       "                 'Months_on_book', 'Total_Relationship_Count',\n",
       "         'Months_Inactive_12_mon',    'Contacts_Count_12_mon',\n",
       "                   'Credit_Limit',      'Total_Revolving_Bal',\n",
       "                'Avg_Open_To_Buy',     'Total_Amt_Chng_Q4_Q1',\n",
       "                'Total_Trans_Amt',           'Total_Trans_Ct',\n",
       "            'Total_Ct_Chng_Q4_Q1',    'Avg_Utilization_Ratio',\n",
       "                         'Gender',          'Education_Level',\n",
       "                 'Marital_Status',          'Income_Category',\n",
       "                  'Card_Category',                          0,\n",
       "                                1,                          2,\n",
       "                                3,                          4,\n",
       "                                5,                          6,\n",
       "                                7,                          8,\n",
       "                                9,                         10,\n",
       "                               11,                         12,\n",
       "                               13,                         14,\n",
       "                               15,                         16,\n",
       "                               17,                         18,\n",
       "                               19,                         20,\n",
       "                               21,                         22],\n",
       "      dtype='object')"
      ]
     },
     "execution_count": 41,
     "metadata": {},
     "output_type": "execute_result"
    }
   ],
   "source": [
    "X1.columns"
   ]
  },
  {
   "cell_type": "code",
   "execution_count": 42,
   "metadata": {
    "scrolled": true
   },
   "outputs": [],
   "source": [
    "#Brisham Vishok kategoriski koloni posle One Hot \n",
    " \n",
    "X1.drop(['Gender', 'Education_Level', 'Marital_Status', 'Income_Category', 'Card_Category'], axis=1, inplace=True)\n",
    "\n",
    "#install.packages(\"xgboost\")], axis=1, inplace=True)\n",
    "\n",
    "#install.packages(\"xgboost\")"
   ]
  },
  {
   "cell_type": "code",
   "execution_count": 43,
   "metadata": {
    "scrolled": true
   },
   "outputs": [
    {
     "data": {
      "text/plain": [
       "Index([            'Customer_Age',          'Dependent_count',\n",
       "                 'Months_on_book', 'Total_Relationship_Count',\n",
       "         'Months_Inactive_12_mon',    'Contacts_Count_12_mon',\n",
       "                   'Credit_Limit',      'Total_Revolving_Bal',\n",
       "                'Avg_Open_To_Buy',     'Total_Amt_Chng_Q4_Q1',\n",
       "                'Total_Trans_Amt',           'Total_Trans_Ct',\n",
       "            'Total_Ct_Chng_Q4_Q1',    'Avg_Utilization_Ratio',\n",
       "                                0,                          1,\n",
       "                                2,                          3,\n",
       "                                4,                          5,\n",
       "                                6,                          7,\n",
       "                                8,                          9,\n",
       "                               10,                         11,\n",
       "                               12,                         13,\n",
       "                               14,                         15,\n",
       "                               16,                         17,\n",
       "                               18,                         19,\n",
       "                               20,                         21,\n",
       "                               22],\n",
       "      dtype='object')"
      ]
     },
     "execution_count": 43,
     "metadata": {},
     "output_type": "execute_result"
    }
   ],
   "source": [
    "X1.columns"
   ]
  },
  {
   "cell_type": "code",
   "execution_count": 44,
   "metadata": {},
   "outputs": [],
   "source": [
    "y1=target.copy()"
   ]
  },
  {
   "cell_type": "code",
   "execution_count": 45,
   "metadata": {
    "scrolled": false
   },
   "outputs": [
    {
     "data": {
      "text/plain": [
       "0        0\n",
       "1        0\n",
       "2        0\n",
       "3        0\n",
       "4        0\n",
       "        ..\n",
       "10122    0\n",
       "10123    1\n",
       "10124    1\n",
       "10125    1\n",
       "10126    1\n",
       "Name: Attrition_Flag, Length: 10127, dtype: object"
      ]
     },
     "execution_count": 45,
     "metadata": {},
     "output_type": "execute_result"
    }
   ],
   "source": [
    "y1"
   ]
  },
  {
   "cell_type": "markdown",
   "metadata": {},
   "source": [
    "## Gradam modeli za klasifikacija 3-4"
   ]
  },
  {
   "cell_type": "markdown",
   "metadata": {},
   "source": [
    "### One Hot encoding - make the model (Decision Tree)"
   ]
  },
  {
   "cell_type": "code",
   "execution_count": 46,
   "metadata": {},
   "outputs": [],
   "source": [
    "# train i test \n",
    "from sklearn.model_selection import train_test_split\n",
    "X1_train, X1_test, y1_train, y1_test = train_test_split(X1, y1, test_size=0.3, random_state=42)"
   ]
  },
  {
   "cell_type": "code",
   "execution_count": 47,
   "metadata": {
    "scrolled": true
   },
   "outputs": [
    {
     "data": {
      "text/plain": [
       "0.9368213228035538"
      ]
     },
     "execution_count": 47,
     "metadata": {},
     "output_type": "execute_result"
    }
   ],
   "source": [
    "# se izfrsuva klasifakorot\n",
    "from sklearn.tree import DecisionTreeClassifier\n",
    "from sklearn.metrics import accuracy_score\n",
    "\n",
    "dtOHclass = DecisionTreeClassifier(max_depth =10, random_state = 20) #menuvaj\n",
    "dtOHclass.fit(X1_train,y1_train)\n",
    "y_pred_dt = dtOHclass.predict(X1_test)\n",
    "dtscoreOH = accuracy_score(y1_test, y_pred_dt)\n",
    "dtscoreOH"
   ]
  },
  {
   "cell_type": "markdown",
   "metadata": {},
   "source": [
    "#### Dolu pravam metriki za sekoj clasifikator"
   ]
  },
  {
   "cell_type": "code",
   "execution_count": 48,
   "metadata": {
    "scrolled": false
   },
   "outputs": [
    {
     "name": "stdout",
     "output_type": "stream",
     "text": [
      "              precision    recall  f1-score   support\n",
      "\n",
      " ne izleguva       0.96      0.97      0.96      2543\n",
      "    izleguva       0.83      0.78      0.80       496\n",
      "\n",
      "    accuracy                           0.94      3039\n",
      "   macro avg       0.89      0.87      0.88      3039\n",
      "weighted avg       0.94      0.94      0.94      3039\n",
      "\n"
     ]
    }
   ],
   "source": [
    "#Metrika br.1 \n",
    "from sklearn.metrics import classification_report\n",
    "\n",
    "print(classification_report(y1_test, y_pred_dt, target_names=['ne izleguva','izleguva']))"
   ]
  },
  {
   "cell_type": "code",
   "execution_count": 49,
   "metadata": {
    "scrolled": true
   },
   "outputs": [
    {
     "data": {
      "text/plain": [
       "<sklearn.metrics._plot.confusion_matrix.ConfusionMatrixDisplay at 0x7fa33a779cd0>"
      ]
     },
     "execution_count": 49,
     "metadata": {},
     "output_type": "execute_result"
    },
    {
     "data": {
      "image/png": "[encoded data removed]",
      "text/plain": [
       "<Figure size 432x288 with 2 Axes>"
      ]
     },
     "metadata": {
      "needs_background": "light"
     },
     "output_type": "display_data"
    }
   ],
   "source": [
    "#Metrika br.2\n",
    "from sklearn.metrics import plot_confusion_matrix\n",
    "plot_confusion_matrix(dtOHclass, X1_test, y1_test)"
   ]
  },
  {
   "cell_type": "code",
   "execution_count": 50,
   "metadata": {},
   "outputs": [
    {
     "data": {
      "text/plain": [
       "0.9929458239277652"
      ]
     },
     "execution_count": 50,
     "metadata": {},
     "output_type": "execute_result"
    }
   ],
   "source": [
    "#Ovie metriki gi izvrshuvash vo posebni kjelii\n",
    "# Ne stiskaj ENTER na site oddednash\n",
    "target.value_counts(normalize = True)\n",
    "y1_test.value_counts(normalize= True)\n",
    "y1_train.value_counts(normalize= True)\n",
    "sum(target == '0')/len(target)\n",
    "dtOHclass.score(X1_train, y1_train)"
   ]
  },
  {
   "cell_type": "code",
   "execution_count": 51,
   "metadata": {
    "scrolled": true
   },
   "outputs": [
    {
     "data": {
      "text/plain": [
       "0    0.83934\n",
       "1    0.16066\n",
       "Name: Attrition_Flag, dtype: float64"
      ]
     },
     "execution_count": 51,
     "metadata": {},
     "output_type": "execute_result"
    }
   ],
   "source": [
    "# pomosh #1 da vidime procentualna distribucija vo target varijablata Attrition_Flag\n",
    "target.value_counts(normalize = True)"
   ]
  },
  {
   "cell_type": "code",
   "execution_count": 52,
   "metadata": {
    "scrolled": true
   },
   "outputs": [
    {
     "data": {
      "text/plain": [
       "0    0.836788\n",
       "1    0.163212\n",
       "Name: Attrition_Flag, dtype: float64"
      ]
     },
     "execution_count": 52,
     "metadata": {},
     "output_type": "execute_result"
    }
   ],
   "source": [
    "# pomosh #2 da vidime procentualna distribucija vo target varijablata Attrition_Flag\n",
    "y1_test.value_counts(normalize= True)"
   ]
  },
  {
   "cell_type": "code",
   "execution_count": 53,
   "metadata": {
    "scrolled": true
   },
   "outputs": [
    {
     "data": {
      "text/plain": [
       "0    0.840435\n",
       "1    0.159565\n",
       "Name: Attrition_Flag, dtype: float64"
      ]
     },
     "execution_count": 53,
     "metadata": {},
     "output_type": "execute_result"
    }
   ],
   "source": [
    "# pomosh #3 da vidime procentualna distribucija vo target varijablata Attrition_Flag\n",
    "y1_train.value_counts(normalize= True)"
   ]
  },
  {
   "cell_type": "code",
   "execution_count": 54,
   "metadata": {
    "scrolled": true
   },
   "outputs": [
    {
     "data": {
      "text/plain": [
       "0.8393403772094401"
      ]
     },
     "execution_count": 54,
     "metadata": {},
     "output_type": "execute_result"
    }
   ],
   "source": [
    "# pomosh #4 da vidime procentualna distribucija vo target varijablata Attrition_Flag\n",
    "sum(target == '0')/len(target)"
   ]
  },
  {
   "cell_type": "code",
   "execution_count": 55,
   "metadata": {
    "scrolled": true
   },
   "outputs": [
    {
     "data": {
      "text/plain": [
       "0.9929458239277652"
      ]
     },
     "execution_count": 55,
     "metadata": {},
     "output_type": "execute_result"
    }
   ],
   "source": [
    "#Metrika br.3\n",
    "dtOHclass.score(X1_train, y1_train)"
   ]
  },
  {
   "cell_type": "markdown",
   "metadata": {},
   "source": [
    "### One Hot encoding - make the model (Random Forest)"
   ]
  },
  {
   "cell_type": "code",
   "execution_count": 56,
   "metadata": {
    "scrolled": true
   },
   "outputs": [
    {
     "data": {
      "text/plain": [
       "0.9506416584402764"
      ]
     },
     "execution_count": 56,
     "metadata": {},
     "output_type": "execute_result"
    }
   ],
   "source": [
    "from sklearn.ensemble import RandomForestClassifier\n",
    "\n",
    "rfOH = RandomForestClassifier(random_state = 42)\n",
    "rfOH.fit(X1_train,y1_train)\n",
    "y_pred_rf = rfOH.predict(X1_test)\n",
    "rfOHscore = accuracy_score(y1_test, y_pred_rf)\n",
    "rfOHscore"
   ]
  },
  {
   "cell_type": "code",
   "execution_count": 57,
   "metadata": {
    "scrolled": true
   },
   "outputs": [
    {
     "name": "stdout",
     "output_type": "stream",
     "text": [
      "              precision    recall  f1-score   support\n",
      "\n",
      " ne izleguva       0.95      0.99      0.97      2543\n",
      "    izleguva       0.93      0.75      0.83       496\n",
      "\n",
      "    accuracy                           0.95      3039\n",
      "   macro avg       0.94      0.87      0.90      3039\n",
      "weighted avg       0.95      0.95      0.95      3039\n",
      "\n"
     ]
    }
   ],
   "source": [
    "# metrika #1\n",
    "from sklearn.metrics import classification_report\n",
    "print(classification_report(y1_test, y_pred_rf, target_names=['ne izleguva','izleguva']))"
   ]
  },
  {
   "cell_type": "code",
   "execution_count": 58,
   "metadata": {
    "scrolled": true
   },
   "outputs": [
    {
     "data": {
      "text/plain": [
       "<sklearn.metrics._plot.confusion_matrix.ConfusionMatrixDisplay at 0x7fa33c414850>"
      ]
     },
     "execution_count": 58,
     "metadata": {},
     "output_type": "execute_result"
    },
    {
     "data": {
      "image/png": "[encoded data removed]",
      "text/plain": [
       "<Figure size 432x288 with 2 Axes>"
      ]
     },
     "metadata": {
      "needs_background": "light"
     },
     "output_type": "display_data"
    }
   ],
   "source": [
    "from sklearn.metrics import plot_confusion_matrix\n",
    "plot_confusion_matrix(rfOH, X1_test, y1_test)"
   ]
  },
  {
   "cell_type": "code",
   "execution_count": 59,
   "metadata": {},
   "outputs": [
    {
     "data": {
      "text/plain": [
       "1.0"
      ]
     },
     "execution_count": 59,
     "metadata": {},
     "output_type": "execute_result"
    }
   ],
   "source": [
    "rfOH.score(X1_train, y1_train)"
   ]
  },
  {
   "cell_type": "markdown",
   "metadata": {},
   "source": [
    "### On Hot coding - make the model (KNN)"
   ]
  },
  {
   "cell_type": "code",
   "execution_count": 60,
   "metadata": {},
   "outputs": [],
   "source": [
    "from sklearn.neighbors import KNeighborsClassifier\n",
    "\n",
    "scores = []\n",
    "for k in range(1, 100):\n",
    "    neigh = KNeighborsClassifier(n_neighbors=k)\n",
    "    neigh.fit(X1_train, y1_train)\n",
    "    y_pred_kn = neigh.predict(X1_test)\n",
    "    score = accuracy_score(y1_test, y_pred_kn)\n",
    "    scores.append(score)"
   ]
  },
  {
   "cell_type": "code",
   "execution_count": 61,
   "metadata": {},
   "outputs": [
    {
     "data": {
      "image/png": "[encoded data removed]",
      "text/plain": [
       "<Figure size 432x288 with 1 Axes>"
      ]
     },
     "metadata": {
      "needs_background": "light"
     },
     "output_type": "display_data"
    }
   ],
   "source": [
    "# Tuka gledam kolku sosedi da odberam\n",
    "fig, ax = plt.subplots()\n",
    "\n",
    "ax.plot(scores)\n",
    "plt.show()"
   ]
  },
  {
   "cell_type": "code",
   "execution_count": 62,
   "metadata": {},
   "outputs": [
    {
     "data": {
      "text/plain": [
       "0.9091806515301086"
      ]
     },
     "execution_count": 62,
     "metadata": {},
     "output_type": "execute_result"
    }
   ],
   "source": [
    "knnOH=KNeighborsClassifier(n_neighbors = 7)\n",
    "knnOH.fit(X1_train, y1_train)\n",
    "y_pred_knn  = knnOH.predict(X1_test)\n",
    "knnOHscore = accuracy_score(y1_test, y_pred_knn)\n",
    "knnOHscore"
   ]
  },
  {
   "cell_type": "code",
   "execution_count": 63,
   "metadata": {},
   "outputs": [
    {
     "name": "stdout",
     "output_type": "stream",
     "text": [
      "              precision    recall  f1-score   support\n",
      "\n",
      " ne izleguva       0.92      0.98      0.95      2543\n",
      "    izleguva       0.84      0.55      0.66       496\n",
      "\n",
      "    accuracy                           0.91      3039\n",
      "   macro avg       0.88      0.76      0.81      3039\n",
      "weighted avg       0.90      0.91      0.90      3039\n",
      "\n"
     ]
    }
   ],
   "source": [
    "#from sklearn.metrics import classification_report\n",
    "print(classification_report(y1_test, y_pred_knn, target_names=['ne izleguva','izleguva']))"
   ]
  },
  {
   "cell_type": "code",
   "execution_count": 64,
   "metadata": {
    "scrolled": true
   },
   "outputs": [
    {
     "data": {
      "text/plain": [
       "<sklearn.metrics._plot.confusion_matrix.ConfusionMatrixDisplay at 0x7fa2f0e817c0>"
      ]
     },
     "execution_count": 64,
     "metadata": {},
     "output_type": "execute_result"
    },
    {
     "data": {
      "image/png": "[encoded data removed]",
      "text/plain": [
       "<Figure size 432x288 with 2 Axes>"
      ]
     },
     "metadata": {
      "needs_background": "light"
     },
     "output_type": "display_data"
    }
   ],
   "source": [
    "from sklearn.metrics import plot_confusion_matrix\n",
    "plot_confusion_matrix(knnOH, X1_test, y1_test)"
   ]
  },
  {
   "cell_type": "code",
   "execution_count": 80,
   "metadata": {},
   "outputs": [
    {
     "data": {
      "text/plain": [
       "0.9297404063205418"
      ]
     },
     "execution_count": 80,
     "metadata": {},
     "output_type": "execute_result"
    }
   ],
   "source": [
    "knnOH.score(X1_train, y1_train)"
   ]
  },
  {
   "cell_type": "markdown",
   "metadata": {},
   "source": [
    "## xgboost"
   ]
  },
  {
   "cell_type": "code",
   "execution_count": 95,
   "metadata": {
    "scrolled": false
   },
   "outputs": [
    {
     "name": "stdout",
     "output_type": "stream",
     "text": [
      "[20:09:40] WARNING: /opt/concourse/worker/volumes/live/7a2b9f41-3287-451b-6691-43e9a6c0910f/volume/xgboost-split_1619728204606/work/src/learner.cc:1061: Starting in XGBoost 1.3.0, the default evaluation metric used with the objective 'binary:logistic' was changed from 'error' to 'logloss'. Explicitly set eval_metric if you'd like to restore the old behavior.\n"
     ]
    }
   ],
   "source": [
    "import xgboost as xgb\n",
    "from xgboost import XGBClassifier\n",
    "# read in data\n",
    "# dtrain = xgb.DMatrix('demo/data/agaricus.txt.train')\n",
    "# dtest = xgb.DMatrix('demo/data/agaricus.txt.test')\n",
    "\n",
    "dtrain = xgb.DMatrix(X1_train, label=y1_train)\n",
    "# specify parameters via map\n",
    "param = {'max_depth':2, 'eta':1, 'objective':'binary:logistic' }\n",
    "num_round = 2\n",
    "bst = xgb.train(param, dtrain, num_round)\n",
    "# make prediction\n",
    "#preds = bst.predict(dtest)"
   ]
  },
  {
   "cell_type": "code",
   "execution_count": 96,
   "metadata": {},
   "outputs": [
    {
     "name": "stdout",
     "output_type": "stream",
     "text": [
      "[20:09:44] WARNING: /opt/concourse/worker/volumes/live/7a2b9f41-3287-451b-6691-43e9a6c0910f/volume/xgboost-split_1619728204606/work/src/learner.cc:1061: Starting in XGBoost 1.3.0, the default evaluation metric used with the objective 'binary:logistic' was changed from 'error' to 'logloss'. Explicitly set eval_metric if you'd like to restore the old behavior.\n"
     ]
    },
    {
     "data": {
      "text/plain": [
       "XGBClassifier(base_score=0.5, booster='gbtree', colsample_bylevel=1,\n",
       "              colsample_bynode=1, colsample_bytree=1, gamma=0, gpu_id=-1,\n",
       "              importance_type='gain', interaction_constraints='',\n",
       "              learning_rate=0.300000012, max_delta_step=0, max_depth=6,\n",
       "              min_child_weight=1, missing=nan, monotone_constraints='()',\n",
       "              n_estimators=100, n_jobs=8, num_parallel_tree=1, random_state=0,\n",
       "              reg_alpha=0, reg_lambda=1, scale_pos_weight=1, subsample=1,\n",
       "              tree_method='exact', validate_parameters=1, verbosity=None)"
      ]
     },
     "execution_count": 96,
     "metadata": {},
     "output_type": "execute_result"
    }
   ],
   "source": [
    "#fit model no training data\n",
    "model = XGBClassifier()\n",
    "model.fit(X1_train, y1_train)"
   ]
  },
  {
   "cell_type": "code",
   "execution_count": 83,
   "metadata": {},
   "outputs": [],
   "source": [
    "# make predictions for test data\n",
    "y_pred_xg = model.predict(X1_test)"
   ]
  },
  {
   "cell_type": "code",
   "execution_count": 84,
   "metadata": {},
   "outputs": [
    {
     "name": "stdout",
     "output_type": "stream",
     "text": [
      "Accuracy: 96.71%\n"
     ]
    }
   ],
   "source": [
    "#evaluate predictions\n",
    "accuracy = accuracy_score(y1_test, y_pred_xg)\n",
    "print(\"Accuracy: %.2f%%\" % (accuracy * 100.0))"
   ]
  },
  {
   "cell_type": "code",
   "execution_count": 85,
   "metadata": {
    "scrolled": false
   },
   "outputs": [
    {
     "name": "stdout",
     "output_type": "stream",
     "text": [
      "              precision    recall  f1-score   support\n",
      "\n",
      " ne izleguva       0.98      0.98      0.98      2543\n",
      "    izleguva       0.91      0.89      0.90       496\n",
      "\n",
      "    accuracy                           0.97      3039\n",
      "   macro avg       0.94      0.93      0.94      3039\n",
      "weighted avg       0.97      0.97      0.97      3039\n",
      "\n"
     ]
    }
   ],
   "source": [
    "#from sklearn.metrics import classification_report\n",
    "print(classification_report(y1_test, y_pred_xg, target_names=['ne izleguva','izleguva']))"
   ]
  },
  {
   "cell_type": "code",
   "execution_count": 86,
   "metadata": {
    "scrolled": false
   },
   "outputs": [
    {
     "data": {
      "text/plain": [
       "<sklearn.metrics._plot.confusion_matrix.ConfusionMatrixDisplay at 0x7f9431002d30>"
      ]
     },
     "execution_count": 86,
     "metadata": {},
     "output_type": "execute_result"
    },
    {
     "data": {
      "image/png": "[encoded data removed]",
      "text/plain": [
       "<Figure size 648x360 with 2 Axes>"
      ]
     },
     "metadata": {
      "needs_background": "light"
     },
     "output_type": "display_data"
    }
   ],
   "source": [
    "from sklearn.metrics import plot_confusion_matrix\n",
    "plot_confusion_matrix(model, X1_test, y1_test)"
   ]
  },
  {
   "cell_type": "code",
   "execution_count": 87,
   "metadata": {},
   "outputs": [
    {
     "data": {
      "text/plain": [
       "1.0"
      ]
     },
     "execution_count": 87,
     "metadata": {},
     "output_type": "execute_result"
    }
   ],
   "source": [
    "model.score(X1_train, y1_train)"
   ]
  },
  {
   "cell_type": "code",
   "execution_count": 88,
   "metadata": {
    "scrolled": true
   },
   "outputs": [
    {
     "data": {
      "image/png": "[encoded data removed]",
      "text/plain": [
       "<Figure size 648x360 with 1 Axes>"
      ]
     },
     "metadata": {
      "needs_background": "light"
     },
     "output_type": "display_data"
    }
   ],
   "source": [
    "# evaluate feature importance\n",
    "xgb.plot_importance(model)\n",
    "plt.rcParams['figure.figsize'] = [9, 5]\n",
    "plt.show()"
   ]
  },
  {
   "cell_type": "markdown",
   "metadata": {},
   "source": [
    "### Grid Search Hyperparametar search na XGboost"
   ]
  },
  {
   "cell_type": "code",
   "execution_count": 98,
   "metadata": {
    "scrolled": true
   },
   "outputs": [
    {
     "name": "stdout",
     "output_type": "stream",
     "text": [
      "<class 'sklearn.model_selection._split.KFold'>\n",
      "Fitting 5 folds for each of 405 candidates, totalling 2025 fits\n"
     ]
    },
    {
     "name": "stderr",
     "output_type": "stream",
     "text": [
      "[Parallel(n_jobs=-1)]: Using backend LokyBackend with 8 concurrent workers.\n",
      "[Parallel(n_jobs=-1)]: Done   2 tasks      | elapsed:    4.2s\n",
      "[Parallel(n_jobs=-1)]: Done  56 tasks      | elapsed:   20.6s\n",
      "[Parallel(n_jobs=-1)]: Done 146 tasks      | elapsed:   60.0s\n",
      "[Parallel(n_jobs=-1)]: Done 272 tasks      | elapsed:  1.8min\n",
      "[Parallel(n_jobs=-1)]: Done 434 tasks      | elapsed:  2.8min\n",
      "[Parallel(n_jobs=-1)]: Done 632 tasks      | elapsed:  4.0min\n",
      "[Parallel(n_jobs=-1)]: Done 866 tasks      | elapsed:  5.5min\n",
      "[Parallel(n_jobs=-1)]: Done 1136 tasks      | elapsed:  7.4min\n",
      "[Parallel(n_jobs=-1)]: Done 1442 tasks      | elapsed:  9.5min\n",
      "[Parallel(n_jobs=-1)]: Done 1784 tasks      | elapsed: 12.1min\n",
      "[Parallel(n_jobs=-1)]: Done 2025 out of 2025 | elapsed: 13.8min finished\n"
     ]
    },
    {
     "name": "stdout",
     "output_type": "stream",
     "text": [
      "[20:26:01] WARNING: /opt/concourse/worker/volumes/live/7a2b9f41-3287-451b-6691-43e9a6c0910f/volume/xgboost-split_1619728204606/work/src/learner.cc:1061: Starting in XGBoost 1.3.0, the default evaluation metric used with the objective 'binary:logistic' was changed from 'error' to 'logloss'. Explicitly set eval_metric if you'd like to restore the old behavior.\n"
     ]
    },
    {
     "data": {
      "text/plain": [
       "GridSearchCV(cv=KFold(n_splits=5, random_state=None, shuffle=True),\n",
       "             estimator=XGBClassifier(base_score=0.5, booster='gbtree',\n",
       "                                     colsample_bylevel=1, colsample_bynode=1,\n",
       "                                     colsample_bytree=1, gamma=0, gpu_id=-1,\n",
       "                                     importance_type='gain',\n",
       "                                     interaction_constraints='',\n",
       "                                     learning_rate=0.300000012,\n",
       "                                     max_delta_step=0, max_depth=6,\n",
       "                                     min_child_weight=1, missing=nan,\n",
       "                                     monotone_constrai...\n",
       "                                     n_estimators=100, n_jobs=8,\n",
       "                                     num_parallel_tree=1, random_state=0,\n",
       "                                     reg_alpha=0, reg_lambda=1,\n",
       "                                     scale_pos_weight=1, subsample=1,\n",
       "                                     tree_method='exact', validate_parameters=1,\n",
       "                                     verbosity=None),\n",
       "             n_jobs=-1,\n",
       "             param_grid={'colsample_bytree': [0.6, 0.8, 1.0],\n",
       "                         'gamma': [0.5, 1, 1.5, 2, 5], 'max_depth': [3, 4, 5],\n",
       "                         'min_child_weight': [1, 5, 10],\n",
       "                         'subsample': [0.6, 0.8, 1.0]},\n",
       "             scoring='roc_auc', verbose=5)"
      ]
     },
     "execution_count": 98,
     "metadata": {},
     "output_type": "execute_result"
    }
   ],
   "source": [
    "from sklearn.model_selection import RandomizedSearchCV, GridSearchCV\n",
    "from sklearn.model_selection import StratifiedKFold\n",
    "from sklearn.model_selection import KFold\n",
    "\n",
    "from sklearn.model_selection import cross_val_predict\n",
    "from sklearn.model_selection import cross_validate\n",
    "np.random.seed(seed=1)\n",
    "\n",
    "# We will use Cross validation to optimize parameters\n",
    "import warnings\n",
    "warnings.filterwarnings('ignore')\n",
    "\n",
    "#10-fold Cross validaiton - ALL Model - All scores\n",
    "#scoring = ['neg_mean_absolute_error', 'neg_mean_squared_error', 'neg_root_mean_squared_error', 'r2']\n",
    "\n",
    "#Play with the parameters and choose the best\n",
    "from sklearn.model_selection import GridSearchCV\n",
    "\n",
    "# make the grid of the parameters\n",
    "kf = KFold(n_splits=5, shuffle=True)\n",
    "print(type(kf))\n",
    "params = {\n",
    "        'min_child_weight': [1, 5, 10],\n",
    "        'gamma': [0.5, 1, 1.5, 2, 5],\n",
    "        'subsample': [0.6, 0.8, 1.0],\n",
    "        'colsample_bytree': [0.6, 0.8, 1.0],\n",
    "        'max_depth': [3, 4, 5]\n",
    "        }\n",
    "\n",
    "#create the GridSearch model and train it\n",
    "model_xgb = GridSearchCV(estimator = model, \n",
    "                     param_grid = params,\n",
    "                     scoring = 'roc_auc',\n",
    "                     cv = kf,\n",
    "                     verbose = 5,\n",
    "                    n_jobs = -1\n",
    "                    )\n",
    "model_xgb.fit(X1_train, y1_train)  "
   ]
  },
  {
   "cell_type": "code",
   "execution_count": 110,
   "metadata": {},
   "outputs": [
    {
     "data": {
      "text/plain": [
       "XGBClassifier(base_score=0.5, booster='gbtree', colsample_bylevel=1,\n",
       "              colsample_bynode=1, colsample_bytree=0.8, gamma=0.5, gpu_id=-1,\n",
       "              importance_type='gain', interaction_constraints='',\n",
       "              learning_rate=0.300000012, max_delta_step=0, max_depth=4,\n",
       "              min_child_weight=1, missing=nan, monotone_constraints='()',\n",
       "              n_estimators=100, n_jobs=8, num_parallel_tree=1, random_state=0,\n",
       "              reg_alpha=0, reg_lambda=1, scale_pos_weight=1, subsample=1.0,\n",
       "              tree_method='exact', validate_parameters=1, verbosity=None)"
      ]
     },
     "execution_count": 110,
     "metadata": {},
     "output_type": "execute_result"
    }
   ],
   "source": [
    "model_final_xgb"
   ]
  },
  {
   "cell_type": "code",
   "execution_count": 113,
   "metadata": {},
   "outputs": [
    {
     "data": {
      "text/plain": [
       "{'colsample_bytree': 0.8,\n",
       " 'gamma': 0.5,\n",
       " 'max_depth': 4,\n",
       " 'min_child_weight': 1,\n",
       " 'subsample': 1.0}"
      ]
     },
     "execution_count": 113,
     "metadata": {},
     "output_type": "execute_result"
    }
   ],
   "source": [
    "model_xgb.best_params_"
   ]
  },
  {
   "cell_type": "code",
   "execution_count": 112,
   "metadata": {},
   "outputs": [],
   "source": [
    "best_model_paramter_tunning = model_xgb.best_estimator_"
   ]
  },
  {
   "cell_type": "code",
   "execution_count": 100,
   "metadata": {
    "scrolled": false
   },
   "outputs": [
    {
     "name": "stdout",
     "output_type": "stream",
     "text": [
      "Best model:  XGBClassifier(base_score=0.5, booster='gbtree', colsample_bylevel=1,\n",
      "              colsample_bynode=1, colsample_bytree=0.8, gamma=0.5, gpu_id=-1,\n",
      "              importance_type='gain', interaction_constraints='',\n",
      "              learning_rate=0.300000012, max_delta_step=0, max_depth=4,\n",
      "              min_child_weight=1, missing=nan, monotone_constraints='()',\n",
      "              n_estimators=100, n_jobs=8, num_parallel_tree=1, random_state=0,\n",
      "              reg_alpha=0, reg_lambda=1, scale_pos_weight=1, subsample=1.0,\n",
      "              tree_method='exact', validate_parameters=1, verbosity=None)\n",
      "Best Parameters:  {'colsample_bytree': 0.8, 'gamma': 0.5, 'max_depth': 4, 'min_child_weight': 1, 'subsample': 1.0}\n",
      "Best score  99.30592849630796\n",
      "Best score       mean_fit_time  std_fit_time  mean_score_time  std_score_time  \\\n",
      "0         2.385113      0.042477         0.015021        0.001634   \n",
      "1         2.381502      0.052518         0.013499        0.000968   \n",
      "2         2.312017      0.019881         0.013417        0.002153   \n",
      "3         2.308450      0.046829         0.012171        0.001033   \n",
      "4         2.372083      0.117191         0.012608        0.001344   \n",
      "..             ...           ...              ...             ...   \n",
      "400       4.241862      0.051434         0.011821        0.000643   \n",
      "401       4.441504      0.361027         0.010605        0.001560   \n",
      "402       3.878832      0.067842         0.012678        0.001471   \n",
      "403       4.152353      0.057133         0.014113        0.002918   \n",
      "404       3.293969      0.533438         0.008244        0.001289   \n",
      "\n",
      "    param_colsample_bytree param_gamma param_max_depth param_min_child_weight  \\\n",
      "0                      0.6         0.5               3                      1   \n",
      "1                      0.6         0.5               3                      1   \n",
      "2                      0.6         0.5               3                      1   \n",
      "3                      0.6         0.5               3                      5   \n",
      "4                      0.6         0.5               3                      5   \n",
      "..                     ...         ...             ...                    ...   \n",
      "400                      1           5               5                      5   \n",
      "401                      1           5               5                      5   \n",
      "402                      1           5               5                     10   \n",
      "403                      1           5               5                     10   \n",
      "404                      1           5               5                     10   \n",
      "\n",
      "    param_subsample                                             params  \\\n",
      "0               0.6  {'colsample_bytree': 0.6, 'gamma': 0.5, 'max_d...   \n",
      "1               0.8  {'colsample_bytree': 0.6, 'gamma': 0.5, 'max_d...   \n",
      "2                 1  {'colsample_bytree': 0.6, 'gamma': 0.5, 'max_d...   \n",
      "3               0.6  {'colsample_bytree': 0.6, 'gamma': 0.5, 'max_d...   \n",
      "4               0.8  {'colsample_bytree': 0.6, 'gamma': 0.5, 'max_d...   \n",
      "..              ...                                                ...   \n",
      "400             0.8  {'colsample_bytree': 1.0, 'gamma': 5, 'max_dep...   \n",
      "401               1  {'colsample_bytree': 1.0, 'gamma': 5, 'max_dep...   \n",
      "402             0.6  {'colsample_bytree': 1.0, 'gamma': 5, 'max_dep...   \n",
      "403             0.8  {'colsample_bytree': 1.0, 'gamma': 5, 'max_dep...   \n",
      "404               1  {'colsample_bytree': 1.0, 'gamma': 5, 'max_dep...   \n",
      "\n",
      "     split0_test_score  split1_test_score  split2_test_score  \\\n",
      "0             0.988144           0.992578           0.988175   \n",
      "1             0.986622           0.993046           0.990360   \n",
      "2             0.986922           0.994184           0.991293   \n",
      "3             0.984094           0.992283           0.987864   \n",
      "4             0.985779           0.992002           0.990119   \n",
      "..                 ...                ...                ...   \n",
      "400           0.983010           0.992997           0.990887   \n",
      "401           0.985198           0.992081           0.986850   \n",
      "402           0.983080           0.990462           0.986184   \n",
      "403           0.982609           0.992492           0.986591   \n",
      "404           0.981310           0.990342           0.987011   \n",
      "\n",
      "     split3_test_score  split4_test_score  mean_test_score  std_test_score  \\\n",
      "0             0.989947           0.996855         0.991140        0.003284   \n",
      "1             0.990882           0.996978         0.991577        0.003401   \n",
      "2             0.991175           0.996144         0.991944        0.003127   \n",
      "3             0.989069           0.996655         0.989993        0.004238   \n",
      "4             0.990113           0.997051         0.991013        0.003645   \n",
      "..                 ...                ...              ...             ...   \n",
      "400           0.988003           0.996068         0.990193        0.004455   \n",
      "401           0.988599           0.995841         0.989714        0.003820   \n",
      "402           0.986916           0.996037         0.988536        0.004425   \n",
      "403           0.987530           0.995968         0.989038        0.004681   \n",
      "404           0.987476           0.995223         0.988272        0.004545   \n",
      "\n",
      "     rank_test_score  \n",
      "0                162  \n",
      "1                108  \n",
      "2                 60  \n",
      "3                289  \n",
      "4                178  \n",
      "..               ...  \n",
      "400              276  \n",
      "401              313  \n",
      "402              378  \n",
      "403              354  \n",
      "404              393  \n",
      "\n",
      "[405 rows x 18 columns]\n"
     ]
    }
   ],
   "source": [
    "print(\"Best model: \", model_xgb.best_estimator_)\n",
    "print(\"Best Parameters: \", model_xgb.best_params_)\n",
    "print(\"Best score \", model_xgb.best_score_ * 100)\n",
    "print(\"Best score \", pd.DataFrame.from_dict(model_xgb.cv_results_))"
   ]
  },
  {
   "cell_type": "code",
   "execution_count": 103,
   "metadata": {
    "scrolled": true
   },
   "outputs": [
    {
     "name": "stdout",
     "output_type": "stream",
     "text": [
      "[20:39:23] WARNING: /opt/concourse/worker/volumes/live/7a2b9f41-3287-451b-6691-43e9a6c0910f/volume/xgboost-split_1619728204606/work/src/learner.cc:1061: Starting in XGBoost 1.3.0, the default evaluation metric used with the objective 'binary:logistic' was changed from 'error' to 'logloss'. Explicitly set eval_metric if you'd like to restore the old behavior.\n"
     ]
    },
    {
     "data": {
      "text/plain": [
       "XGBClassifier(base_score=0.5, booster='gbtree', colsample_bylevel=1,\n",
       "              colsample_bynode=1, colsample_bytree=0.8, gamma=0.5, gpu_id=-1,\n",
       "              importance_type='gain', interaction_constraints='',\n",
       "              learning_rate=0.300000012, max_delta_step=0, max_depth=4,\n",
       "              min_child_weight=1, missing=nan, monotone_constraints='()',\n",
       "              n_estimators=100, n_jobs=8, num_parallel_tree=1, random_state=0,\n",
       "              reg_alpha=0, reg_lambda=1, scale_pos_weight=1, subsample=1.0,\n",
       "              tree_method='exact', validate_parameters=1, verbosity=None)"
      ]
     },
     "execution_count": 103,
     "metadata": {},
     "output_type": "execute_result"
    }
   ],
   "source": [
    "model_final_xgb = XGBClassifier(base_score=0.5, booster='gbtree', colsample_bylevel=1,\n",
    "                                colsample_bynode=1, colsample_bytree=0.8, gamma=0.5, gpu_id=-1,\n",
    "                                importance_type='gain', interaction_constraints='',\n",
    "                                learning_rate=0.300000012, max_delta_step=0, max_depth=4,\n",
    "                                min_child_weight=1, monotone_constraints='()',\n",
    "                                n_estimators=100, n_jobs=8, num_parallel_tree=1, random_state=0,\n",
    "                                reg_alpha=0, reg_lambda=1, scale_pos_weight=1, subsample=1.0,\n",
    "                                tree_method='exact', validate_parameters=1, verbosity=None)\n",
    "model_final_xgb.fit(X1_train, y1_train)"
   ]
  },
  {
   "cell_type": "code",
   "execution_count": 114,
   "metadata": {},
   "outputs": [],
   "source": [
    "y_pred_xg_3_Noemvri = model_final_xgb.predict(X1_test)"
   ]
  },
  {
   "cell_type": "code",
   "execution_count": 115,
   "metadata": {},
   "outputs": [
    {
     "name": "stdout",
     "output_type": "stream",
     "text": [
      "Accuracy: 96.71%\n"
     ]
    }
   ],
   "source": [
    "#evaluate predictions\n",
    "accuracy = accuracy_score(y1_test, y_pred_xg_3_Noemvri)\n",
    "print(\"Accuracy: %.2f%%\" % (accuracy * 100.0))"
   ]
  },
  {
   "cell_type": "code",
   "execution_count": 116,
   "metadata": {},
   "outputs": [
    {
     "name": "stdout",
     "output_type": "stream",
     "text": [
      "              precision    recall  f1-score   support\n",
      "\n",
      " ne izleguva       0.98      0.98      0.98      2543\n",
      "    izleguva       0.90      0.89      0.90       496\n",
      "\n",
      "    accuracy                           0.97      3039\n",
      "   macro avg       0.94      0.94      0.94      3039\n",
      "weighted avg       0.97      0.97      0.97      3039\n",
      "\n"
     ]
    }
   ],
   "source": [
    "#from sklearn.metrics import classification_report\n",
    "print(classification_report(y1_test, y_pred_xg_3_Noemvri, target_names=['ne izleguva','izleguva']))"
   ]
  },
  {
   "cell_type": "code",
   "execution_count": 118,
   "metadata": {},
   "outputs": [
    {
     "data": {
      "text/plain": [
       "<sklearn.metrics._plot.confusion_matrix.ConfusionMatrixDisplay at 0x7f94530f0f70>"
      ]
     },
     "execution_count": 118,
     "metadata": {},
     "output_type": "execute_result"
    },
    {
     "data": {
      "image/png": "[encoded data removed]",
      "text/plain": [
       "<Figure size 648x360 with 2 Axes>"
      ]
     },
     "metadata": {
      "needs_background": "light"
     },
     "output_type": "display_data"
    }
   ],
   "source": [
    "from sklearn.metrics import plot_confusion_matrix\n",
    "plot_confusion_matrix(model_final_xgb, X1_test, y1_test)"
   ]
  },
  {
   "cell_type": "code",
   "execution_count": 91,
   "metadata": {},
   "outputs": [
    {
     "ename": "NameError",
     "evalue": "name 'X_test' is not defined",
     "output_type": "error",
     "traceback": [
      "\u001b[0;31m---------------------------------------------------------------------------\u001b[0m",
      "\u001b[0;31mNameError\u001b[0m                                 Traceback (most recent call last)",
      "\u001b[0;32m<ipython-input-91-839c860ee456>\u001b[0m in \u001b[0;36m<module>\u001b[0;34m\u001b[0m\n\u001b[1;32m      1\u001b[0m \u001b[0;31m# Ova e od cas W6 cas3\u001b[0m\u001b[0;34m\u001b[0m\u001b[0;34m\u001b[0m\u001b[0;34m\u001b[0m\u001b[0m\n\u001b[1;32m      2\u001b[0m \u001b[0;31m# Get the best model and evaluate it on the Test data\u001b[0m\u001b[0;34m\u001b[0m\u001b[0;34m\u001b[0m\u001b[0;34m\u001b[0m\u001b[0m\n\u001b[0;32m----> 3\u001b[0;31m \u001b[0my_pred\u001b[0m \u001b[0;34m=\u001b[0m \u001b[0mmodel\u001b[0m\u001b[0;34m.\u001b[0m\u001b[0mbest_estimator_\u001b[0m\u001b[0;34m.\u001b[0m\u001b[0mpredict\u001b[0m\u001b[0;34m(\u001b[0m\u001b[0mX_test\u001b[0m\u001b[0;34m)\u001b[0m\u001b[0;34m\u001b[0m\u001b[0;34m\u001b[0m\u001b[0m\n\u001b[0m\u001b[1;32m      4\u001b[0m \u001b[0;34m\u001b[0m\u001b[0m\n\u001b[1;32m      5\u001b[0m \u001b[0;31m#create (Dummy regressor) tuka mislam deka treba XGB boost\u001b[0m\u001b[0;34m\u001b[0m\u001b[0;34m\u001b[0m\u001b[0;34m\u001b[0m\u001b[0m\n",
      "\u001b[0;31mNameError\u001b[0m: name 'X_test' is not defined"
     ]
    }
   ],
   "source": [
    "# Ova e od cas W6 cas3\n",
    "# Get the best model and evaluate it on the Test data\n",
    "y_pred = model.best_estimator_.predict(X_test)\n",
    "\n",
    "#create (Dummy regressor) tuka mislam deka treba XGB boost\n",
    "dummy_regr = DummyRegressor(strategy=\"mean\")\n",
    "dummy_regr.fit(X_train, y_train)\n",
    "y_dummy = dummy_regr.predict(X_test)\n",
    "\n",
    "\n",
    "mae = mean_absolute_error(y_test, y_pred)\n",
    "mse = mean_squared_error(y_test, y_pred)\n",
    "rmse = np.sqrt(mean_squared_error(y_test, y_pred))\n",
    "r2 = r2_score(y_test, y_pred)\n",
    "\n",
    "mae3 = mean_absolute_error(y_test, y_dummy)\n",
    "mse3 = mean_squared_error(y_test, y_dummy)\n",
    "rmse3 = np.sqrt(mean_squared_error(y_test, y_dummy))\n",
    "r23 = r2_score(y_test, y_dummy)\n",
    "\n",
    "\n",
    "#construct the comparison table\n",
    "data = {'Metric':  ['MAE', 'MSE','RMSE','R2'],\n",
    "        'RF_Hyper_Grid': [mae,mse,rmse,r2],\n",
    "        'Dummy': [mae3,mse3,rmse3,r23],\n",
    "        }\n",
    "\n",
    "comparison = pd.DataFrame (data, columns = ['Metric','RF_Hyper_Grid', 'Dummy'])\n",
    "comparison"
   ]
  },
  {
   "cell_type": "markdown",
   "metadata": {},
   "source": [
    "## za sreda za na cas\n",
    "### Da zavrsham so XGBoost future selection i ROC i sVe \n",
    "### Target encoding\n",
    "\n",
    "## grid search Petar / Jas"
   ]
  },
  {
   "cell_type": "markdown",
   "metadata": {},
   "source": [
    "### ROC kriva"
   ]
  },
  {
   "cell_type": "code",
   "execution_count": null,
   "metadata": {},
   "outputs": [],
   "source": [
    "from sklearn.metrics import roc_curve"
   ]
  },
  {
   "cell_type": "code",
   "execution_count": null,
   "metadata": {},
   "outputs": [],
   "source": [
    "from sklearn.metrics import plot_roc_curve\n",
    "ax = plt.gca()\n",
    "plot_xboost = plot_roc_curve(model_new, XGB_test,  y1_test, ax=ax)\n",
    "ax = plt.gca()\n",
    "plot_fs = plot_roc_curve(model_FS, X1_new_test, y1_test, ax=ax)\n",
    "plt.show()"
   ]
  },
  {
   "cell_type": "code",
   "execution_count": null,
   "metadata": {},
   "outputs": [],
   "source": [
    "# za snimanje na objekt/fajl\n",
    "import pickle\n",
    "a = [1,2,3,4,5,6,7]\n",
    "filename = 'array.brainster'\n",
    "pickle.dump(a, open(filename, 'wb'))"
   ]
  },
  {
   "cell_type": "code",
   "execution_count": null,
   "metadata": {},
   "outputs": [],
   "source": [
    "# za citanej an objekt fajl\n",
    "niza = pickle.load(open(filename, 'rb'))\n",
    "print(niza)"
   ]
  },
  {
   "cell_type": "code",
   "execution_count": null,
   "metadata": {},
   "outputs": [],
   "source": [
    "filename = 'model.sklearn'\n",
    "pickle.dump(model_FS, open(filename, 'wb'))"
   ]
  },
  {
   "cell_type": "code",
   "execution_count": null,
   "metadata": {},
   "outputs": [],
   "source": [
    "#Area under ROC curve\n",
    "from sklearn.metrics import roc_auc_score\n",
    "roc_auc_score(y_test,y_pred_proba)"
   ]
  },
  {
   "cell_type": "markdown",
   "metadata": {},
   "source": [
    "## Tuka mozam da probam da dropnam futeri koi najmalku ucestvuvaat  (XGBoost)"
   ]
  },
  {
   "cell_type": "code",
   "execution_count": null,
   "metadata": {},
   "outputs": [],
   "source": [
    "#Kreira train mnozestvo so dropnati koloni\n",
    "XGB_train = X1_train.drop(columns = (['Dependent_count','Months_on_book','Months_Inactive_12_mon','Contacts_Count_12_mon', 'Avg_Utilization_Ratio', 'Avg_Open_To_Buy']), axis = 1)"
   ]
  },
  {
   "cell_type": "code",
   "execution_count": null,
   "metadata": {},
   "outputs": [],
   "source": [
    "#Kreira test mnozestvo so dropnati koloni\n",
    "XGB_test = X1_test.drop(columns = (['Dependent_count','Months_on_book','Months_Inactive_12_mon','Contacts_Count_12_mon', 'Avg_Utilization_Ratio', 'Avg_Open_To_Buy']), axis = 1)"
   ]
  },
  {
   "cell_type": "code",
   "execution_count": null,
   "metadata": {},
   "outputs": [],
   "source": [
    "# smina DataFrame\n",
    "#df.to_csv(\"preprocessed_dataset1.csv\")"
   ]
  },
  {
   "cell_type": "code",
   "execution_count": null,
   "metadata": {},
   "outputs": [],
   "source": [
    "#df_num.plot(kind='hist',subplots = True, figsize=(20,8), fontsize = 7)"
   ]
  },
  {
   "cell_type": "code",
   "execution_count": null,
   "metadata": {},
   "outputs": [],
   "source": [
    "bst.save_model('xgboost.model')"
   ]
  },
  {
   "cell_type": "markdown",
   "metadata": {},
   "source": [
    "#### Target encoding"
   ]
  },
  {
   "cell_type": "markdown",
   "metadata": {
    "id": "qcK1sU4iSXyw"
   },
   "source": [
    "## 1. Data preprocessing, normalization, missing data, categorical data"
   ]
  },
  {
   "cell_type": "code",
   "execution_count": null,
   "metadata": {
    "id": "kgOelHW2SXyx"
   },
   "outputs": [],
   "source": []
  },
  {
   "cell_type": "markdown",
   "metadata": {
    "id": "XiazHmxRSXy0"
   },
   "source": [
    "## 2. Feature Anaysis, Extraction & Selection\n",
    "(you may need to perform feature selection after creating default models and compare to them)"
   ]
  },
  {
   "cell_type": "code",
   "execution_count": null,
   "metadata": {
    "id": "f1QIHDpbSXy0"
   },
   "outputs": [],
   "source": []
  },
  {
   "cell_type": "markdown",
   "metadata": {
    "id": "92THQSXGSXy3"
   },
   "source": [
    "## 3. Classification models\n",
    "- classical classification models\n",
    "- deep neural networks"
   ]
  },
  {
   "cell_type": "code",
   "execution_count": null,
   "metadata": {
    "id": "ve5_cjilSXy4"
   },
   "outputs": [],
   "source": []
  },
  {
   "cell_type": "markdown",
   "metadata": {
    "id": "JGyhoU96SXy7"
   },
   "source": [
    "## 4. Evaluation and comparisons, various metrics"
   ]
  },
  {
   "cell_type": "code",
   "execution_count": null,
   "metadata": {
    "id": "L0_vsmimSXy8"
   },
   "outputs": [],
   "source": []
  },
  {
   "cell_type": "markdown",
   "metadata": {
    "id": "C4TYzMqQSXy_"
   },
   "source": [
    "## 5. Hyperparameter Optimization"
   ]
  },
  {
   "cell_type": "code",
   "execution_count": null,
   "metadata": {
    "id": "b5DpSTA-SXy_"
   },
   "outputs": [],
   "source": []
  },
  {
   "cell_type": "markdown",
   "metadata": {
    "id": "c1Uyu5APSXzD"
   },
   "source": [
    "## 6. Final evaluations and comparisons\n",
    "- the best model - analyze it in details, evaluate it with different train/test splits. Is it robust enough"
   ]
  },
  {
   "cell_type": "code",
   "execution_count": null,
   "metadata": {
    "id": "BJYe6t-oSXzD"
   },
   "outputs": [],
   "source": []
  },
  {
   "cell_type": "markdown",
   "metadata": {
    "id": "-yo2Rs_5SXzG"
   },
   "source": [
    "## 7. Discussion, Concusions, Future improvements\n",
    "- which features are the most important\n",
    "- how will you explain the model to the management of the bank\n",
    "- how much benefit/improvement should the bank expect"
   ]
  },
  {
   "cell_type": "code",
   "execution_count": null,
   "metadata": {
    "id": "HSU-oBptSXzG"
   },
   "outputs": [],
   "source": []
  }
 ],
 "metadata": {
  "colab": {
   "collapsed_sections": [],
   "name": "Bank_template.ipynb",
   "provenance": []
  },
  "kernelspec": {
   "display_name": "Python 3",
   "language": "python",
   "name": "python3"
  },
  "language_info": {
   "codemirror_mode": {
    "name": "ipython",
    "version": 3
   },
   "file_extension": ".py",
   "mimetype": "text/x-python",
   "name": "python",
   "nbconvert_exporter": "python",
   "pygments_lexer": "ipython3",
   "version": "3.8.5"
  }
 },
 "nbformat": 4,
 "nbformat_minor": 1
}
