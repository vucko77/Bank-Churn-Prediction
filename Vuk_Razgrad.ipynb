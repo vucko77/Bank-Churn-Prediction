{
  "cells": [
    {
      "cell_type": "markdown",
      "metadata": {
        "id": "view-in-github",
        "colab_type": "text"
      },
      "source": [
        "<a href=\"https://colab.research.google.com/github/vucko77/Bank-Churn-Prediction/blob/main/Vuk_Razgrad.ipynb\" target=\"_parent\"><img src=\"https://colab.research.google.com/assets/colab-badge.svg\" alt=\"Open In Colab\"/></a>"
      ]
    },
    {
      "cell_type": "code",
      "execution_count": null,
      "metadata": {
        "colab": {
          "base_uri": "https://localhost:8080/"
        },
        "id": "xYa8eO1govzX",
        "outputId": "c88a7448-af68-4cf6-89f1-4f87e7d65d36"
      },
      "outputs": [
        {
          "name": "stdout",
          "output_type": "stream",
          "text": [
            "Requirement already satisfied: gspread in /usr/local/lib/python3.10/dist-packages (6.0.2)\n",
            "Requirement already satisfied: oauth2client in /usr/local/lib/python3.10/dist-packages (4.1.3)\n",
            "Requirement already satisfied: sympy in /usr/local/lib/python3.10/dist-packages (1.13.1)\n",
            "Requirement already satisfied: google-auth>=1.12.0 in /usr/local/lib/python3.10/dist-packages (from gspread) (2.27.0)\n",
            "Requirement already satisfied: google-auth-oauthlib>=0.4.1 in /usr/local/lib/python3.10/dist-packages (from gspread) (1.2.1)\n",
            "Requirement already satisfied: StrEnum==0.4.15 in /usr/local/lib/python3.10/dist-packages (from gspread) (0.4.15)\n",
            "Requirement already satisfied: httplib2>=0.9.1 in /usr/local/lib/python3.10/dist-packages (from oauth2client) (0.22.0)\n",
            "Requirement already satisfied: pyasn1>=0.1.7 in /usr/local/lib/python3.10/dist-packages (from oauth2client) (0.6.0)\n",
            "Requirement already satisfied: pyasn1-modules>=0.0.5 in /usr/local/lib/python3.10/dist-packages (from oauth2client) (0.4.0)\n",
            "Requirement already satisfied: rsa>=3.1.4 in /usr/local/lib/python3.10/dist-packages (from oauth2client) (4.9)\n",
            "Requirement already satisfied: six>=1.6.1 in /usr/local/lib/python3.10/dist-packages (from oauth2client) (1.16.0)\n",
            "Requirement already satisfied: mpmath<1.4,>=1.1.0 in /usr/local/lib/python3.10/dist-packages (from sympy) (1.3.0)\n",
            "Requirement already satisfied: cachetools<6.0,>=2.0.0 in /usr/local/lib/python3.10/dist-packages (from google-auth>=1.12.0->gspread) (5.4.0)\n",
            "Requirement already satisfied: requests-oauthlib>=0.7.0 in /usr/local/lib/python3.10/dist-packages (from google-auth-oauthlib>=0.4.1->gspread) (1.3.1)\n",
            "Requirement already satisfied: pyparsing!=3.0.0,!=3.0.1,!=3.0.2,!=3.0.3,<4,>=2.4.2 in /usr/local/lib/python3.10/dist-packages (from httplib2>=0.9.1->oauth2client) (3.1.2)\n",
            "Requirement already satisfied: oauthlib>=3.0.0 in /usr/local/lib/python3.10/dist-packages (from requests-oauthlib>=0.7.0->google-auth-oauthlib>=0.4.1->gspread) (3.2.2)\n",
            "Requirement already satisfied: requests>=2.0.0 in /usr/local/lib/python3.10/dist-packages (from requests-oauthlib>=0.7.0->google-auth-oauthlib>=0.4.1->gspread) (2.32.3)\n",
            "Requirement already satisfied: charset-normalizer<4,>=2 in /usr/local/lib/python3.10/dist-packages (from requests>=2.0.0->requests-oauthlib>=0.7.0->google-auth-oauthlib>=0.4.1->gspread) (3.3.2)\n",
            "Requirement already satisfied: idna<4,>=2.5 in /usr/local/lib/python3.10/dist-packages (from requests>=2.0.0->requests-oauthlib>=0.7.0->google-auth-oauthlib>=0.4.1->gspread) (3.7)\n",
            "Requirement already satisfied: urllib3<3,>=1.21.1 in /usr/local/lib/python3.10/dist-packages (from requests>=2.0.0->requests-oauthlib>=0.7.0->google-auth-oauthlib>=0.4.1->gspread) (2.0.7)\n",
            "Requirement already satisfied: certifi>=2017.4.17 in /usr/local/lib/python3.10/dist-packages (from requests>=2.0.0->requests-oauthlib>=0.7.0->google-auth-oauthlib>=0.4.1->gspread) (2024.7.4)\n"
          ]
        }
      ],
      "source": [
        "!pip install gspread oauth2client sympy\n"
      ]
    },
    {
      "cell_type": "code",
      "execution_count": null,
      "metadata": {
        "id": "_JpQ2vXQpGfD"
      },
      "outputs": [],
      "source": [
        "from google.colab import auth\n",
        "auth.authenticate_user()"
      ]
    },
    {
      "cell_type": "code",
      "execution_count": null,
      "metadata": {
        "colab": {
          "base_uri": "https://localhost:8080/"
        },
        "id": "tDDj78tapiei",
        "outputId": "6e3d06f6-aae1-42f2-fd09-6c3250860b36"
      },
      "outputs": [
        {
          "name": "stdout",
          "output_type": "stream",
          "text": [
            "Requirement already satisfied: gspread in /usr/local/lib/python3.10/dist-packages (6.0.2)\n",
            "Collecting gspread\n",
            "  Downloading gspread-6.1.2-py3-none-any.whl.metadata (11 kB)\n",
            "Requirement already satisfied: oauth2client in /usr/local/lib/python3.10/dist-packages (4.1.3)\n",
            "Requirement already satisfied: google-auth>=1.12.0 in /usr/local/lib/python3.10/dist-packages (from gspread) (2.27.0)\n",
            "Requirement already satisfied: google-auth-oauthlib>=0.4.1 in /usr/local/lib/python3.10/dist-packages (from gspread) (1.2.1)\n",
            "Requirement already satisfied: httplib2>=0.9.1 in /usr/local/lib/python3.10/dist-packages (from oauth2client) (0.22.0)\n",
            "Requirement already satisfied: pyasn1>=0.1.7 in /usr/local/lib/python3.10/dist-packages (from oauth2client) (0.6.0)\n",
            "Requirement already satisfied: pyasn1-modules>=0.0.5 in /usr/local/lib/python3.10/dist-packages (from oauth2client) (0.4.0)\n",
            "Requirement already satisfied: rsa>=3.1.4 in /usr/local/lib/python3.10/dist-packages (from oauth2client) (4.9)\n",
            "Requirement already satisfied: six>=1.6.1 in /usr/local/lib/python3.10/dist-packages (from oauth2client) (1.16.0)\n",
            "Requirement already satisfied: cachetools<6.0,>=2.0.0 in /usr/local/lib/python3.10/dist-packages (from google-auth>=1.12.0->gspread) (5.4.0)\n",
            "Requirement already satisfied: requests-oauthlib>=0.7.0 in /usr/local/lib/python3.10/dist-packages (from google-auth-oauthlib>=0.4.1->gspread) (1.3.1)\n",
            "Requirement already satisfied: pyparsing!=3.0.0,!=3.0.1,!=3.0.2,!=3.0.3,<4,>=2.4.2 in /usr/local/lib/python3.10/dist-packages (from httplib2>=0.9.1->oauth2client) (3.1.2)\n",
            "Requirement already satisfied: oauthlib>=3.0.0 in /usr/local/lib/python3.10/dist-packages (from requests-oauthlib>=0.7.0->google-auth-oauthlib>=0.4.1->gspread) (3.2.2)\n",
            "Requirement already satisfied: requests>=2.0.0 in /usr/local/lib/python3.10/dist-packages (from requests-oauthlib>=0.7.0->google-auth-oauthlib>=0.4.1->gspread) (2.32.3)\n",
            "Requirement already satisfied: charset-normalizer<4,>=2 in /usr/local/lib/python3.10/dist-packages (from requests>=2.0.0->requests-oauthlib>=0.7.0->google-auth-oauthlib>=0.4.1->gspread) (3.3.2)\n",
            "Requirement already satisfied: idna<4,>=2.5 in /usr/local/lib/python3.10/dist-packages (from requests>=2.0.0->requests-oauthlib>=0.7.0->google-auth-oauthlib>=0.4.1->gspread) (3.7)\n",
            "Requirement already satisfied: urllib3<3,>=1.21.1 in /usr/local/lib/python3.10/dist-packages (from requests>=2.0.0->requests-oauthlib>=0.7.0->google-auth-oauthlib>=0.4.1->gspread) (2.0.7)\n",
            "Requirement already satisfied: certifi>=2017.4.17 in /usr/local/lib/python3.10/dist-packages (from requests>=2.0.0->requests-oauthlib>=0.7.0->google-auth-oauthlib>=0.4.1->gspread) (2024.7.4)\n",
            "Downloading gspread-6.1.2-py3-none-any.whl (57 kB)\n",
            "\u001b[2K   \u001b[90m━━━━━━━━━━━━━━━━━━━━━━━━━━━━━━━━━━━━━━━━\u001b[0m \u001b[32m57.5/57.5 kB\u001b[0m \u001b[31m2.3 MB/s\u001b[0m eta \u001b[36m0:00:00\u001b[0m\n",
            "\u001b[?25hInstalling collected packages: gspread\n",
            "  Attempting uninstall: gspread\n",
            "    Found existing installation: gspread 6.0.2\n",
            "    Uninstalling gspread-6.0.2:\n",
            "      Successfully uninstalled gspread-6.0.2\n",
            "Successfully installed gspread-6.1.2\n"
          ]
        }
      ],
      "source": [
        "!pip install --upgrade gspread oauth2client\n"
      ]
    },
    {
      "cell_type": "code",
      "execution_count": null,
      "metadata": {
        "colab": {
          "base_uri": "https://localhost:8080/"
        },
        "id": "zQ_Kg_44v1tR",
        "outputId": "c1efb03d-e69d-4c3a-e26f-a9c2295107a0"
      },
      "outputs": [
        {
          "name": "stdout",
          "output_type": "stream",
          "text": [
            "Requirement already satisfied: gspread in /usr/local/lib/python3.10/dist-packages (6.1.2)\n",
            "Requirement already satisfied: oauth2client in /usr/local/lib/python3.10/dist-packages (4.1.3)\n",
            "Requirement already satisfied: google-auth>=1.12.0 in /usr/local/lib/python3.10/dist-packages (from gspread) (2.27.0)\n",
            "Requirement already satisfied: google-auth-oauthlib>=0.4.1 in /usr/local/lib/python3.10/dist-packages (from gspread) (1.2.1)\n",
            "Requirement already satisfied: httplib2>=0.9.1 in /usr/local/lib/python3.10/dist-packages (from oauth2client) (0.22.0)\n",
            "Requirement already satisfied: pyasn1>=0.1.7 in /usr/local/lib/python3.10/dist-packages (from oauth2client) (0.6.0)\n",
            "Requirement already satisfied: pyasn1-modules>=0.0.5 in /usr/local/lib/python3.10/dist-packages (from oauth2client) (0.4.0)\n",
            "Requirement already satisfied: rsa>=3.1.4 in /usr/local/lib/python3.10/dist-packages (from oauth2client) (4.9)\n",
            "Requirement already satisfied: six>=1.6.1 in /usr/local/lib/python3.10/dist-packages (from oauth2client) (1.16.0)\n",
            "Requirement already satisfied: cachetools<6.0,>=2.0.0 in /usr/local/lib/python3.10/dist-packages (from google-auth>=1.12.0->gspread) (5.4.0)\n",
            "Requirement already satisfied: requests-oauthlib>=0.7.0 in /usr/local/lib/python3.10/dist-packages (from google-auth-oauthlib>=0.4.1->gspread) (1.3.1)\n",
            "Requirement already satisfied: pyparsing!=3.0.0,!=3.0.1,!=3.0.2,!=3.0.3,<4,>=2.4.2 in /usr/local/lib/python3.10/dist-packages (from httplib2>=0.9.1->oauth2client) (3.1.2)\n",
            "Requirement already satisfied: oauthlib>=3.0.0 in /usr/local/lib/python3.10/dist-packages (from requests-oauthlib>=0.7.0->google-auth-oauthlib>=0.4.1->gspread) (3.2.2)\n",
            "Requirement already satisfied: requests>=2.0.0 in /usr/local/lib/python3.10/dist-packages (from requests-oauthlib>=0.7.0->google-auth-oauthlib>=0.4.1->gspread) (2.32.3)\n",
            "Requirement already satisfied: charset-normalizer<4,>=2 in /usr/local/lib/python3.10/dist-packages (from requests>=2.0.0->requests-oauthlib>=0.7.0->google-auth-oauthlib>=0.4.1->gspread) (3.3.2)\n",
            "Requirement already satisfied: idna<4,>=2.5 in /usr/local/lib/python3.10/dist-packages (from requests>=2.0.0->requests-oauthlib>=0.7.0->google-auth-oauthlib>=0.4.1->gspread) (3.7)\n",
            "Requirement already satisfied: urllib3<3,>=1.21.1 in /usr/local/lib/python3.10/dist-packages (from requests>=2.0.0->requests-oauthlib>=0.7.0->google-auth-oauthlib>=0.4.1->gspread) (2.0.7)\n",
            "Requirement already satisfied: certifi>=2017.4.17 in /usr/local/lib/python3.10/dist-packages (from requests>=2.0.0->requests-oauthlib>=0.7.0->google-auth-oauthlib>=0.4.1->gspread) (2024.7.4)\n"
          ]
        }
      ],
      "source": [
        "!pip install gspread oauth2client\n"
      ]
    },
    {
      "cell_type": "code",
      "execution_count": null,
      "metadata": {
        "id": "bolLaoVqwARt"
      },
      "outputs": [],
      "source": [
        "import gspread\n",
        "from oauth2client.service_account import ServiceAccountCredentials\n"
      ]
    },
    {
      "cell_type": "code",
      "execution_count": 1,
      "metadata": {
        "colab": {
          "base_uri": "https://localhost:8080/"
        },
        "id": "ZCml-kjyy5wQ",
        "outputId": "b9ef0eac-5305-4409-bf3a-46a3a0ff8632"
      },
      "outputs": [
        {
          "output_type": "stream",
          "name": "stdout",
          "text": [
            "Mounted at /content/drive\n"
          ]
        }
      ],
      "source": [
        "#ova treba da go rekonektirash od vreme na vreme\n",
        "from google.colab import drive\n",
        "drive.mount('/content/drive')\n"
      ]
    },
    {
      "cell_type": "code",
      "execution_count": null,
      "metadata": {
        "colab": {
          "base_uri": "https://localhost:8080/"
        },
        "id": "GJgoiUKnMyrN",
        "outputId": "1d188944-ba1b-4d49-f9c0-5ca7d1330630"
      },
      "outputs": [
        {
          "name": "stdout",
          "output_type": "stream",
          "text": [
            "Drive already mounted at /content/drive; to attempt to forcibly remount, call drive.mount(\"/content/drive\", force_remount=True).\n"
          ]
        }
      ],
      "source": [
        "from google.colab import drive\n",
        "drive.mount('/content/drive')\n"
      ]
    },
    {
      "cell_type": "code",
      "execution_count": null,
      "metadata": {
        "colab": {
          "base_uri": "https://localhost:8080/"
        },
        "id": "z5loFidvM7dy",
        "outputId": "5890a5ae-7617-432e-c338-cb0e3947b0b0"
      },
      "outputs": [
        {
          "name": "stdout",
          "output_type": "stream",
          "text": [
            "File found.\n"
          ]
        }
      ],
      "source": [
        "import os\n",
        "json_file_path = '/content/drive/MyDrive/vukrazdrad2-d6c35fdc988b.json'\n",
        "if os.path.exists(json_file_path):\n",
        "    print(\"File found.\")\n",
        "else:\n",
        "    print(\"File not found.\")\n"
      ]
    },
    {
      "cell_type": "code",
      "execution_count": null,
      "metadata": {
        "id": "bpvh0LvD6Q5T"
      },
      "outputs": [],
      "source": [
        "json_file_path = '/content/drive/MyDrive/vukrazdrad2-d6c35fdc988b.json'\n"
      ]
    },
    {
      "cell_type": "code",
      "execution_count": 2,
      "metadata": {
        "colab": {
          "base_uri": "https://localhost:8080/"
        },
        "id": "wr16tEm39ALY",
        "outputId": "b066893e-ebdf-4854-8a07-2c27f59bf7a9"
      },
      "outputs": [
        {
          "output_type": "stream",
          "name": "stdout",
          "text": [
            " -1- \n",
            " -2- \n",
            " -4- \n",
            " -5 \n",
            "New data found. Processing 24 new rows.\n",
            "New data has been successfully processed and appended to the destination sheet.\n",
            "Script executed in 5.71 seconds.\n"
          ]
        }
      ],
      "source": [
        "#2 vtorata Ovaa raboti So Decay factor 10% sekoj den, bez razlika kolku dena ne trenira. Ama dava dupli dates za nekoi igraci.\n",
        "#Na sekoe prvo startuvanje, koga e prazen destination sheet-ot, manuelno izbrishi gi duplite generirani datumu (kaj nekoi ograci)\n",
        "#Duplite se generiraat na kraj, posle posledniot vnesen datum (od source file-ot)\n",
        "#Novi datumi cita- se e ok\n",
        "import gspread\n",
        "from oauth2client.service_account import ServiceAccountCredentials\n",
        "import pandas as pd\n",
        "from gspread_dataframe import set_with_dataframe\n",
        "import time\n",
        "\n",
        "# Start the timer\n",
        "start_time = time.time()\n",
        "\n",
        "# Define the scope\n",
        "scope = [\"https://spreadsheets.google.com/feeds\",\n",
        "         \"https://www.googleapis.com/auth/spreadsheets\",\n",
        "         \"https://www.googleapis.com/auth/drive.file\",\n",
        "         \"https://www.googleapis.com/auth/drive\"]\n",
        "\n",
        "# Provide the path to your service account key file\n",
        "json_file_path = '/content/drive/MyDrive/vukrazdrad2-d6c35fdc988b.json'\n",
        "creds = ServiceAccountCredentials.from_json_keyfile_name(json_file_path, scope)\n",
        "client = gspread.authorize(creds)\n",
        "\n",
        "# Open the source Google Sheet by URL\n",
        "source_sheet_url = 'https://docs.google.com/spreadsheets/d/1NgvjR6ToC8TJywy3aYsyQ8g3IoTpXjdu_FJC9CgsJV8/edit?usp=sharing'\n",
        "source_sh = client.open_by_url(source_sheet_url)\n",
        "source_worksheet = source_sh.get_worksheet(0)  # Assuming the data is in the first sheet\n",
        "\n",
        "# Convert the source worksheet to a pandas DataFrame\n",
        "data = source_worksheet.get_all_records()\n",
        "df = pd.DataFrame(data)\n",
        "\n",
        "# Convert 'Start' column to datetime\n",
        "df['Start'] = pd.to_datetime(df['Start'], format='%d.%m.%Y', errors='coerce')\n",
        "\n",
        "# Ensure that 'Split' exists and fill with 'no training data' for missing dates\n",
        "df['Split'] = df['Split'].fillna('no training data')\n",
        "\n",
        "# Handle duplicates by aggregating (sum or mean)\n",
        "df = df.groupby(['Player', 'Start', 'Split']).agg({\n",
        "    'Distance(3+4+5) (m)': 'sum',\n",
        "    'Total Distance (m)': 'sum',\n",
        "    'HMLD (m)': 'sum',\n",
        "    'Sprints count': 'sum',\n",
        "    'Accelerations': 'sum',\n",
        "    'Decelerations': 'sum'\n",
        "}).reset_index()\n",
        "\n",
        "# Generate a full date range for reindexing\n",
        "date_range = pd.date_range(start=df['Start'].min(), end=df['Start'].max())\n",
        "\n",
        "# Reindex each player's data to cover the full date range\n",
        "df = df.set_index('Start')\n",
        "df = df.groupby('Player').apply(lambda group: group.reindex(date_range))\n",
        "\n",
        "# Remove the index levels, if necessary\n",
        "df.index = df.index.droplevel(0)\n",
        "\n",
        "# Ensure the 'Player' column is filled correctly\n",
        "df['Player'] = df['Player'].ffill()\n",
        "\n",
        "# Reset the index, preserving the 'Start' column and avoiding duplication\n",
        "df = df.reset_index().rename(columns={'index': 'Start'})\n",
        "\n",
        "# Fill missing values for specific columns with zeros\n",
        "df.fillna({'Distance(3+4+5) (m)': 0, 'Total Distance (m)': 0, 'HMLD (m)': 0, 'Sprints count': 0, 'Accelerations': 0, 'Decelerations': 0}, inplace=True)\n",
        "\n",
        "# Find the first non-zero training day for each player\n",
        "first_nonzero_dates = df[df[['Distance(3+4+5) (m)', 'Total Distance (m)', 'HMLD (m)', 'Sprints count', 'Accelerations', 'Decelerations']].sum(axis=1) > 0]\n",
        "first_nonzero_dates = first_nonzero_dates.groupby('Player')['Start'].min()\n",
        "\n",
        "# Apply decay factor only starting from the first non-zero date for each player\n",
        "decay_factor = 0.9\n",
        "\n",
        "def apply_decay_and_ewma(group, decay_factor):\n",
        "    # Start applying decay factor from the first non-zero date\n",
        "    first_date = first_nonzero_dates[group['Player'].iloc[0]]\n",
        "    group = group[group['Start'] >= first_date].copy()\n",
        "\n",
        "    for col in ['Distance(3+4+5) (m)', 'Total Distance (m)', 'HMLD (m)', 'Sprints count', 'Accelerations', 'Decelerations']:\n",
        "        for i in range(1, len(group)):\n",
        "            if pd.isna(group.iloc[i][col]):\n",
        "                continue\n",
        "            if group[col].iloc[i] == 0 and group['Player'].iloc[i] == group['Player'].iloc[i-1]:\n",
        "                group.at[group.index[i], col] = group.at[group.index[i-1], col] * decay_factor\n",
        "\n",
        "    # Perform vectorized EWMA calculations for each column\n",
        "    for col in ['Distance(3+4+5) (m)', 'Total Distance (m)', 'HMLD (m)', 'Sprints count', 'Accelerations', 'Decelerations']:\n",
        "        group[f'EWMA3_{col}'] = group[col].ewm(span=3, adjust=False).mean()\n",
        "        group[f'EWMA7_{col}'] = group[col].ewm(span=7, adjust=False).mean()\n",
        "        group[f'EWMA21_{col}'] = group[col].ewm(span=21, adjust=False).mean()\n",
        "        group[f'EWMA28_{col}'] = group[col].ewm(span=28, adjust=False).mean()\n",
        "\n",
        "    return group\n",
        "\n",
        "print(\" -1- \")\n",
        "# Apply the decay and EWMA function group-wise\n",
        "df = df.groupby('Player').apply(lambda group: apply_decay_and_ewma(group, decay_factor))\n",
        "print(\" -2- \")\n",
        "\n",
        "# Open the destination Google Sheet by URL\n",
        "destination_sheet_url = 'https://docs.google.com/spreadsheets/d/1iMfMTTO5WGm7tLtDp_-_eEpBgKc7N-2oeELBMk3cbOs/edit?usp=sharing'\n",
        "destination_sh = client.open_by_url(destination_sheet_url)\n",
        "destination_worksheet = destination_sh.get_worksheet(0)  # Assuming the data should be written to the first sheet\n",
        "\n",
        "# Load existing data from the destination sheet\n",
        "existing_data = destination_worksheet.get_all_records()\n",
        "print(\" -4- \")\n",
        "existing_df = pd.DataFrame(existing_data)\n",
        "print(\" -5 \")\n",
        "# Convert 'Start' in the destination to datetime if not empty AND if 'Start' column exists\n",
        "if not existing_df.empty and 'Start' in existing_df.columns:\n",
        "    existing_df['Start'] = pd.to_datetime(existing_df['Start'], errors='coerce')\n",
        "\n",
        "# If the destination sheet is not empty, filter out already processed rows\n",
        "if not existing_df.empty and 'Start' in df.columns and 'Start' in existing_df.columns:\n",
        "    max_existing_date = existing_df['Start'].max()\n",
        "    new_data = df[df['Start'] > max_existing_date]\n",
        "else:\n",
        "    new_data = df.copy()\n",
        "\n",
        "# Reorder columns for exporting to match the destination sheet\n",
        "columns_to_export = [\n",
        "    'Player', 'Split', 'Start', 'Distance(3+4+5) (m)', 'Total Distance (m)',\n",
        "    'HMLD (m)', 'Sprints count', 'Accelerations', 'Decelerations',\n",
        "    'EWMA3_Distance(3+4+5) (m)', 'EWMA7_Distance(3+4+5) (m)',\n",
        "    'EWMA21_Distance(3+4+5) (m)', 'EWMA28_Distance(3+4+5) (m)',\n",
        "    'EWMA3_Total Distance (m)', 'EWMA7_Total Distance (m)',\n",
        "    'EWMA21_Total Distance (m)', 'EWMA28_Total Distance (m)',\n",
        "    'EWMA3_HMLD (m)', 'EWMA7_HMLD (m)', 'EWMA21_HMLD (m)',\n",
        "    'EWMA28_HMLD (m)', 'EWMA3_Sprints count', 'EWMA7_Sprints count',\n",
        "    'EWMA21_Sprints count', 'EWMA28_Sprints count',\n",
        "    'EWMA3_Accelerations', 'EWMA7_Accelerations',\n",
        "    'EWMA21_Accelerations', 'EWMA28_Accelerations',\n",
        "    'EWMA3_Decelerations', 'EWMA7_Decelerations',\n",
        "    'EWMA21_Decelerations', 'EWMA28_Decelerations'\n",
        "]\n",
        "\n",
        "# Ensure 'Split' and 'Start' columns exist before exporting\n",
        "if 'Split' not in new_data.columns:\n",
        "    new_data['Split'] = 'no training data'\n",
        "if 'Start' not in new_data.columns:\n",
        "    new_data['Start'] = pd.NaT\n",
        "\n",
        "new_data = new_data[columns_to_export]\n",
        "\n",
        "if not new_data.empty:\n",
        "    print(f\"New data found. Processing {len(new_data)} new rows.\")\n",
        "\n",
        "    # Add headers only if the destination sheet is empty\n",
        "    start_row = len(existing_df) + 2 if not existing_df.empty else 1\n",
        "\n",
        "    set_with_dataframe(destination_worksheet, new_data, row=start_row, include_index=False, include_column_header=existing_df.empty)\n",
        "\n",
        "    print(\"New data has been successfully processed and appended to the destination sheet.\")\n",
        "else:\n",
        "    print(\"No new data to process.\")\n",
        "\n",
        "# Stop the timer and print the execution time\n",
        "end_time = time.time()\n",
        "execution_time = end_time - start_time\n",
        "print(f\"Script executed in {execution_time:.2f} seconds.\")\n"
      ]
    },
    {
      "cell_type": "code",
      "execution_count": 3,
      "metadata": {
        "colab": {
          "base_uri": "https://localhost:8080/"
        },
        "id": "UxZ22n_kMT8a",
        "outputId": "44770230-c301-4149-b351-3284baafd670"
      },
      "outputs": [
        {
          "output_type": "stream",
          "name": "stderr",
          "text": [
            "<ipython-input-3-ac40e37246ce>:33: UserWarning: Parsing dates in %d.%m.%Y format when dayfirst=False (the default) was specified. Pass `dayfirst=True` or specify a format to silence this warning.\n",
            "  df['Start'] = pd.to_datetime(df['Start'], errors='coerce')\n"
          ]
        },
        {
          "output_type": "stream",
          "name": "stdout",
          "text": [
            "New data found. Processing 20 new rows.\n",
            "New data has been successfully processed and appended to the destination sheet.\n",
            "Script executed in 2.33 seconds.\n"
          ]
        }
      ],
      "source": [
        "#1 prvata EWMA\n",
        "import gspread\n",
        "from oauth2client.service_account import ServiceAccountCredentials\n",
        "import pandas as pd\n",
        "import numpy as np\n",
        "from gspread_dataframe import set_with_dataframe\n",
        "import time\n",
        "\n",
        "# Start the timer\n",
        "start_time = time.time()\n",
        "\n",
        "# Define the scope\n",
        "scope = [\"https://spreadsheets.google.com/feeds\",\n",
        "         \"https://www.googleapis.com/auth/spreadsheets\",\n",
        "         \"https://www.googleapis.com/auth/drive.file\",\n",
        "         \"https://www.googleapis.com/auth/drive\"]\n",
        "\n",
        "# Provide the path to your service account key file\n",
        "json_file_path = '/content/drive/MyDrive/vukrazdrad2-d6c35fdc988b.json'\n",
        "creds = ServiceAccountCredentials.from_json_keyfile_name(json_file_path, scope)\n",
        "client = gspread.authorize(creds)\n",
        "\n",
        "# Open the source Google Sheet by URL\n",
        "source_sheet_url = 'https://docs.google.com/spreadsheets/d/1NgvjR6ToC8TJywy3aYsyQ8g3IoTpXjdu_FJC9CgsJV8/edit?usp=sharing'\n",
        "source_sh = client.open_by_url(source_sheet_url)\n",
        "source_worksheet = source_sh.get_worksheet(0)  # Assuming the data is in the first sheet\n",
        "\n",
        "# Convert the source worksheet to a pandas DataFrame\n",
        "data = source_worksheet.get_all_records()\n",
        "df = pd.DataFrame(data)\n",
        "\n",
        "# Convert 'Start' column to datetime\n",
        "df['Start'] = pd.to_datetime(df['Start'], errors='coerce')\n",
        "\n",
        "# EWMA Constants\n",
        "const3 = 0.5\n",
        "const7 = 0.25\n",
        "const28 = 0.07\n",
        "const21 = 0.09\n",
        "\n",
        "# Updated Columns to calculate EWMAs for\n",
        "columns_to_calculate = ['Distance(3+4+5) (m)', 'Total Distance (m)', 'HMLD (m)', 'Sprints count', 'Accelerations', 'Decelerations']\n",
        "\n",
        "# Sorting data by Player and Start date\n",
        "df.sort_values(by=['Player', 'Start'], ascending=[True, True], inplace=True)\n",
        "\n",
        "# Perform vectorized EWMA calculations for each column\n",
        "for col in columns_to_calculate:\n",
        "    df[f'EWMA3_{col}'] = df.groupby('Player')[col].transform(lambda x: x.ewm(alpha=const3).mean())\n",
        "    df[f'EWMA7_{col}'] = df.groupby('Player')[col].transform(lambda x: x.ewm(alpha=const7).mean())\n",
        "    df[f'EWMA21_{col}'] = df.groupby('Player')[col].transform(lambda x: x.ewm(alpha=const21).mean())\n",
        "    df[f'EWMA28_{col}'] = df.groupby('Player')[col].transform(lambda x: x.ewm(alpha=const28).mean())\n",
        "\n",
        "# Open the destination Google Sheet by URL\n",
        "destination_sheet_url = 'https://docs.google.com/spreadsheets/d/19mZX-CpfxoE00-gNmcK2FQArF8Lwq-fahWal6vi82WI/edit?usp=sharing'\n",
        "destination_sh = client.open_by_url(destination_sheet_url)\n",
        "destination_worksheet = destination_sh.get_worksheet(0)  # Assuming the data should be written to the first sheet\n",
        "\n",
        "# Load existing data from the destination sheet\n",
        "existing_data = destination_worksheet.get_all_records()\n",
        "existing_df = pd.DataFrame(existing_data)\n",
        "\n",
        "# If the destination sheet is not empty, filter out already processed rows\n",
        "if not existing_df.empty:\n",
        "    existing_df['Start'] = pd.to_datetime(existing_df['Start'], errors='coerce')\n",
        "    max_existing_date = existing_df['Start'].max()\n",
        "    new_data = df[df['Start'] > max_existing_date]\n",
        "else:\n",
        "    new_data = df.copy()\n",
        "\n",
        "if not new_data.empty:\n",
        "    print(f\"New data found. Processing {len(new_data)} new rows.\")\n",
        "\n",
        "    # Check if the destination is empty and add headers if it is\n",
        "    start_row = len(existing_df) + 2 if not existing_df.empty else 1  # Start row for new data (considering 1-indexed and header row)\n",
        "\n",
        "    set_with_dataframe(destination_worksheet, new_data, row=start_row, include_index=False, include_column_header=existing_df.empty)\n",
        "\n",
        "    print(\"New data has been successfully processed and appended to the destination sheet.\")\n",
        "else:\n",
        "    print(\"No new data to process.\")\n",
        "\n",
        "# Stop the timer and print the execution time\n",
        "end_time = time.time()\n",
        "execution_time = end_time - start_time\n",
        "print(f\"Script executed in {execution_time:.2f} seconds.\")\n"
      ]
    }
  ],
  "metadata": {
    "colab": {
      "provenance": [],
      "authorship_tag": "ABX9TyNV6G/0qz7KYD5ZlRspj8cy",
      "include_colab_link": true
    },
    "kernelspec": {
      "display_name": "Python 3",
      "name": "python3"
    },
    "language_info": {
      "name": "python"
    }
  },
  "nbformat": 4,
  "nbformat_minor": 0
}